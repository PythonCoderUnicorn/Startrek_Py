{
 "cells": [
  {
   "cell_type": "markdown",
   "metadata": {},
   "source": [
    "# Startrek Python - Datetime"
   ]
  },
  {
   "cell_type": "markdown",
   "metadata": {},
   "source": [
    "Python alone does not deal with datetime, need to import module called (drum roll) ... datetime. Importing modules has been covered, you know what to do to get started."
   ]
  },
  {
   "cell_type": "code",
   "execution_count": 3,
   "metadata": {},
   "outputs": [
    {
     "name": "stdout",
     "output_type": "stream",
     "text": [
      "2020-10-09 17:26:39.219862\n"
     ]
    }
   ],
   "source": [
    "import datetime\n",
    "\n",
    "# object siri calls datetime module, function \n",
    "computer = datetime.datetime.now()\n",
    "print(computer)\n",
    "\n",
    "# The date contains \n",
    "# year, month, day, hour, minute, second, and microsecond."
   ]
  },
  {
   "cell_type": "code",
   "execution_count": 5,
   "metadata": {},
   "outputs": [
    {
     "name": "stdout",
     "output_type": "stream",
     "text": [
      "computer.year: 2020\n",
      "computer.strftime: Friday\n"
     ]
    }
   ],
   "source": [
    "# want year and weekday\n",
    "print('computer.year : {}'.format(computer.year))\n",
    "print('computer.strftime : {}'.format(computer.strftime(\"%A\")))"
   ]
  },
  {
   "cell_type": "markdown",
   "metadata": {},
   "source": [
    "## Make a date"
   ]
  },
  {
   "cell_type": "code",
   "execution_count": 11,
   "metadata": {},
   "outputs": [
    {
     "name": "stdout",
     "output_type": "stream",
     "text": [
      "Picard was stabbed on stardate 2327-06-18 00:00:00\n"
     ]
    }
   ],
   "source": [
    "# need some Stardate for your code, make it so =>\n",
    "\n",
    "computer = datetime.datetime(2327,6,18)\n",
    "\n",
    "print('Picard was stabbed on stardate {}'.format(computer))\n",
    "# on Stardate 2327, Captain Picard got stabbed by a Nausicaan"
   ]
  },
  {
   "cell_type": "markdown",
   "metadata": {},
   "source": [
    "## Format the date with strftime()"
   ]
  },
  {
   "cell_type": "markdown",
   "metadata": {},
   "source": [
    "strftime() is used for formating date into str format. \n",
    "\n",
    "Good way to remember is the short starfleet (strf)(time)."
   ]
  },
  {
   "cell_type": "code",
   "execution_count": 16,
   "metadata": {},
   "outputs": [],
   "source": [
    "computer = datetime.datetime(2327,6,18)\n",
    "\n",
    "#--- uncomment to run\n",
    "#computer.strftime('%a') # <- enter values below here\n"
   ]
  },
  {
   "cell_type": "raw",
   "metadata": {},
   "source": [
    "Notice the trend of lowercase and uppercase\n",
    "%a  # Sat   \n",
    "%A  # Saturday\n",
    "%w  # weekday as int, 0 = Sunday\n",
    "%d  # day of month as int\n",
    "%b  # month, short\n",
    "%B  # month, long\n",
    "%m  # month as int\n",
    "%y  # year, short\n",
    "%Y  # year, long\n",
    "%H  # hour, 24-hour\n",
    "%p  # am/pm\n",
    "%M  # minute\n",
    "%S  # second\n",
    "%f  # microsecond\n",
    "%j  # day number of year\n",
    "%U  # week number of year (0-53 weeks), Sunday = day 1\n",
    "%W  # week number of year (0-53 weeks), Monday = day 1\n",
    "%c  # local date time\n",
    "%x  # local date\n",
    "%X  # local time\n"
   ]
  },
  {
   "cell_type": "code",
   "execution_count": 18,
   "metadata": {},
   "outputs": [
    {
     "name": "stdout",
     "output_type": "stream",
     "text": [
      "it is day 169 of our away mission\n"
     ]
    }
   ],
   "source": [
    "computer = computer.strftime('%j') \n",
    "print('it is day {} of our away mission'.format(computer))"
   ]
  },
  {
   "cell_type": "code",
   "execution_count": null,
   "metadata": {},
   "outputs": [],
   "source": []
  }
 ],
 "metadata": {
  "kernelspec": {
   "display_name": "Python 3",
   "language": "python",
   "name": "python3"
  },
  "language_info": {
   "codemirror_mode": {
    "name": "ipython",
    "version": 3
   },
   "file_extension": ".py",
   "mimetype": "text/x-python",
   "name": "python",
   "nbconvert_exporter": "python",
   "pygments_lexer": "ipython3",
   "version": "3.8.3"
  }
 },
 "nbformat": 4,
 "nbformat_minor": 4
}
