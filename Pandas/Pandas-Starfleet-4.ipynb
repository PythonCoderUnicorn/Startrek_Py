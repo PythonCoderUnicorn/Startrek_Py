{
 "cells": [
  {
   "cell_type": "markdown",
   "metadata": {},
   "source": [
    "# Pandas - part 4 "
   ]
  },
  {
   "cell_type": "code",
   "execution_count": 1,
   "metadata": {},
   "outputs": [],
   "source": [
    "import pandas as pd\n",
    "import numpy as np"
   ]
  },
  {
   "cell_type": "markdown",
   "metadata": {},
   "source": [
    "Part 4 will be learning Time Series, which is really important when working with any financial, trading, commodities, resource etc based data. It is also important to know how to work with datetime with datasets in general."
   ]
  },
  {
   "cell_type": "markdown",
   "metadata": {},
   "source": [
    "# **Time Series**\n",
    "\n",
    "- **time stamps** = moment in time (July 1, 2020 at 7:20 am)\n",
    "- **time intervals** = (periods) refer to length of time, start to finish\n",
    "- **time deltas** = exact length of time\n",
    "\n",
    "- https://docs.python.org/3/library/datetime.html#strftime-and-strptime-behavior"
   ]
  },
  {
   "cell_type": "code",
   "execution_count": 2,
   "metadata": {},
   "outputs": [],
   "source": [
    "from datetime import datetime"
   ]
  },
  {
   "cell_type": "code",
   "execution_count": 42,
   "metadata": {},
   "outputs": [
    {
     "data": {
      "text/plain": [
       "datetime.datetime(2231, 7, 1, 14, 35, 33, 78)"
      ]
     },
     "execution_count": 42,
     "metadata": {},
     "output_type": "execute_result"
    }
   ],
   "source": [
    "# create a datetime object\n",
    "\n",
    "# make a date for your personal logs or data logs\n",
    "d = datetime(year=2231, \n",
    "             month=7, \n",
    "             day=1, \n",
    "             hour=14, \n",
    "             minute=35, \n",
    "             second=33,\n",
    "             microsecond= 78,\n",
    "            )\n",
    "d"
   ]
  },
  {
   "cell_type": "markdown",
   "metadata": {},
   "source": [
    "## strftime() and strptime() Format Codes"
   ]
  },
  {
   "cell_type": "code",
   "execution_count": 53,
   "metadata": {},
   "outputs": [
    {
     "name": "stdout",
     "output_type": "stream",
     "text": [
      "Format Codes:\n",
      "%A = Friday\n",
      "%a = Fri\n",
      "%w = 5\n",
      "%d = 01\n",
      "%B = July\n",
      "%b = Jul\n",
      "%m = 07\n",
      "%Y = 2231\n",
      "%y = 31\n",
      "%H = 14\n",
      "%I = 02\n",
      "%p = PM\n",
      "%M (min)= 35\n",
      "%S (sec)= 33\n",
      "%f (microsec)= 000078\n",
      "%Z (timezone)= \n",
      "%j (day of yr)= 182\n",
      "%U (wk # of yr)= 26\n",
      "%W (wk # of yr)= 26\n",
      "%c (date time)= Fri Jul  1 14:35:33 2231\n",
      "%x (date time)= 07/01/31\n",
      "%X (time)= 14:35:33\n"
     ]
    }
   ],
   "source": [
    "# since we have a datetime object, we can get info\n",
    "print(\"Format Codes:\")\n",
    "\n",
    "# the %A returns day of week of our date \n",
    "print(\"%A = {}\".format(d.strftime('%A')))\n",
    "\n",
    "# Weekday abbreviated name.\n",
    "print(\"%a = {}\".format(d.strftime('%a')))\n",
    "\n",
    "# Weekday as a decimal number, \n",
    "# 0 = Sunday and 6 = Saturday.\n",
    "print(\"%w = {}\".format(d.strftime('%w')))\n",
    "\n",
    "# Day of the month as a zero-padded decimal number.\n",
    "print(\"%d = {}\".format(d.strftime('%d')))\n",
    "\n",
    "# Month full name.\n",
    "print(\"%B = {}\".format(d.strftime('%B')))\n",
    "\n",
    "# Month abbreviated name.\n",
    "print(\"%b = {}\".format(d.strftime('%b')))\n",
    "\n",
    "# Month as a zero-padded decimal number.\n",
    "print(\"%m = {}\".format(d.strftime('%m')))\n",
    "\n",
    "# Year with century as a decimal number.\n",
    "print(\"%Y = {}\".format(d.strftime('%Y')))\n",
    "\n",
    "# Year without century as a zero-padded decimal number.\n",
    "print(\"%y = {}\".format(d.strftime('%y')))\n",
    "\n",
    "# Hour (24-hour clock) as a zero-padded decimal number.\n",
    "print(\"%H = {}\".format(d.strftime('%H')))\n",
    "\n",
    "# Hour (12-hour clock) as a zero-padded decimal number.\n",
    "print(\"%I = {}\".format(d.strftime('%I')))\n",
    "\n",
    "# Locale’s equivalent of either AM or PM.\n",
    "print(\"%p = {}\".format(d.strftime('%p')))\n",
    "\n",
    "# Minute as a zero-padded decimal number.\n",
    "print(\"%M (min)= {}\".format(d.strftime('%M')))\n",
    "\n",
    "# Second as a zero-padded decimal number.\n",
    "print(\"%S (sec)= {}\".format(d.strftime('%S')))\n",
    "\n",
    "# Microsecond as a decimal number, zero-padded on the left.\n",
    "print(\"%f (microsec)= {}\".format(d.strftime('%f')))\n",
    "\n",
    "# Time zone name\n",
    "print(\"%Z (timezone)= {}\".format(d.strftime('%Z')))\n",
    "\n",
    "# Day of the year as a zero-padded decimal number.\n",
    "# FIND OUT WHAT DAY OF THE YEAR\n",
    "print(\"%j (day of yr)= {}\".format(d.strftime('%j')))\n",
    "\n",
    "# Week number of the year (Sunday as the first day of the week) \n",
    "# as a zero padded decimal number. All days in a new year preceding \n",
    "# the first Sunday are considered to be in week 0.\n",
    "print(\"%U (wk # of yr)= {}\".format(d.strftime('%U')))\n",
    "\n",
    "# Week number of the year (Monday as the first day of the week) \n",
    "# as a decimal number. All days in a new year preceding the \n",
    "# first Monday are considered to be in week 0.\n",
    "print(\"%W (wk # of yr)= {}\".format(d.strftime('%W')))\n",
    "\n",
    "# Locale’s appropriate date and time representation.\n",
    "print(\"%c (date time)= {}\".format(d.strftime('%c')))\n",
    "\n",
    "# Locale’s appropriate date representation.\n",
    "print(\"%x (date time)= {}\".format(d.strftime('%x')))\n",
    "\n",
    "print(\"%X (time)= {}\".format(d.strftime('%X')))"
   ]
  },
  {
   "cell_type": "markdown",
   "metadata": {},
   "source": [
    "## Pandas **date & time**"
   ]
  },
  {
   "cell_type": "code",
   "execution_count": 55,
   "metadata": {},
   "outputs": [
    {
     "data": {
      "text/plain": [
       "Timestamp('2231-07-03 16:37:12')"
      ]
     },
     "execution_count": 55,
     "metadata": {},
     "output_type": "execute_result"
    }
   ],
   "source": [
    "# to_datetime()\n",
    "\n",
    "# Pandas can figure out the datetime from a string! \n",
    "# make a date \n",
    "panda_d = pd.to_datetime(\"3rd of July, 2231, 16:37:12\") \n",
    "\n",
    "panda_d"
   ]
  },
  {
   "cell_type": "code",
   "execution_count": 56,
   "metadata": {},
   "outputs": [
    {
     "data": {
      "text/plain": [
       "'Sunday'"
      ]
     },
     "execution_count": 56,
     "metadata": {},
     "output_type": "execute_result"
    }
   ],
   "source": [
    "# what day of the week is July 3 of 2231 ?\n",
    "panda_d.strftime('%A')"
   ]
  },
  {
   "cell_type": "code",
   "execution_count": 66,
   "metadata": {},
   "outputs": [
    {
     "data": {
      "text/plain": [
       "DatetimeIndex(['2231-07-03 16:37:12', '2231-07-04 16:37:12',\n",
       "               '2231-07-05 16:37:12', '2231-07-06 16:37:12',\n",
       "               '2231-07-07 16:37:12', '2231-07-08 16:37:12',\n",
       "               '2231-07-09 16:37:12', '2231-07-10 16:37:12',\n",
       "               '2231-07-11 16:37:12', '2231-07-12 16:37:12',\n",
       "               '2231-07-13 16:37:12', '2231-07-14 16:37:12'],\n",
       "              dtype='datetime64[ns]', freq=None)"
      ]
     },
     "execution_count": 66,
     "metadata": {},
     "output_type": "execute_result"
    }
   ],
   "source": [
    "# let's create 12 timestamps based on our original date \n",
    "# timedelta will handle the changes per 'D' day\n",
    "\n",
    "panda_d + pd.to_timedelta(np.arange(12), 'D')\n",
    "# returns an array of 12 dates (time unchanged) "
   ]
  },
  {
   "cell_type": "code",
   "execution_count": 67,
   "metadata": {},
   "outputs": [
    {
     "data": {
      "text/plain": [
       "DatetimeIndex(['2231-07-03 16:37:12', '2231-07-03 17:37:12',\n",
       "               '2231-07-03 18:37:12', '2231-07-03 19:37:12',\n",
       "               '2231-07-03 20:37:12', '2231-07-03 21:37:12',\n",
       "               '2231-07-03 22:37:12', '2231-07-03 23:37:12',\n",
       "               '2231-07-04 00:37:12', '2231-07-04 01:37:12',\n",
       "               '2231-07-04 02:37:12', '2231-07-04 03:37:12'],\n",
       "              dtype='datetime64[ns]', freq=None)"
      ]
     },
     "execution_count": 67,
     "metadata": {},
     "output_type": "execute_result"
    }
   ],
   "source": [
    "# timedelta will handle the changes per 'H' hour\n",
    "panda_d + pd.to_timedelta(np.arange(12), 'H') \n",
    "# the date changes slightly, but the hour moves by 12\n",
    "# \"12 hours into the future\" 4:37 PM to 3:37 AM"
   ]
  },
  {
   "cell_type": "markdown",
   "metadata": {},
   "source": [
    "index by timestamps"
   ]
  },
  {
   "cell_type": "code",
   "execution_count": 70,
   "metadata": {},
   "outputs": [
    {
     "data": {
      "text/plain": [
       "2032-04-01    1\n",
       "2032-05-01    2\n",
       "2057-04-01    3\n",
       "2057-05-01    4\n",
       "dtype: int64"
      ]
     },
     "execution_count": 70,
     "metadata": {},
     "output_type": "execute_result"
    }
   ],
   "source": [
    "datetime_index = pd.DatetimeIndex(['2032-04-01',\n",
    "                                   '2032-05-01',\n",
    "                                   '2057-04-01',\n",
    "                                   '2057-05-01'])\n",
    "\n",
    "index_data = pd.Series([1,2,3,4], index= datetime_index)\n",
    "index_data"
   ]
  },
  {
   "cell_type": "code",
   "execution_count": 71,
   "metadata": {},
   "outputs": [
    {
     "data": {
      "text/plain": [
       "2057-04-01    3\n",
       "2057-05-01    4\n",
       "dtype: int64"
      ]
     },
     "execution_count": 71,
     "metadata": {},
     "output_type": "execute_result"
    }
   ],
   "source": [
    "index_data[2:4]"
   ]
  },
  {
   "cell_type": "markdown",
   "metadata": {},
   "source": [
    "### Pandas datetime data strcuture\n",
    "- not all Federation data records have consistent dates for input, some species enter dates \"wrong\" according to Earth standards, but Pandas can handle a variety of inputs. "
   ]
  },
  {
   "cell_type": "code",
   "execution_count": 88,
   "metadata": {},
   "outputs": [
    {
     "data": {
      "text/plain": [
       "DatetimeIndex(['2072-03-25 00:00:00', '2055-04-20 04:57:13',\n",
       "               '2031-05-08 19:46:09', '2059-08-08 17:22:03',\n",
       "               '2041-04-21 13:13:11'],\n",
       "              dtype='datetime64[ns]', freq=None)"
      ]
     },
     "execution_count": 88,
     "metadata": {},
     "output_type": "execute_result"
    }
   ],
   "source": [
    "# convert string dates to datetime objects\n",
    "\n",
    "dt = pd.to_datetime([\n",
    "    datetime(2072,3,25),\n",
    "    '20th of April, 2055, 4:57:13',\n",
    "    '2031-May-8-19:46:09',\n",
    "    '08-08-2059-17:22:03',\n",
    "    '20410421-13:13:11'\n",
    "])\n",
    "\n",
    "dt"
   ]
  },
  {
   "cell_type": "code",
   "execution_count": 89,
   "metadata": {},
   "outputs": [
    {
     "data": {
      "text/plain": [
       "PeriodIndex(['2072-03-25', '2055-04-20', '2031-05-08', '2059-08-08',\n",
       "             '2041-04-21'],\n",
       "            dtype='period[D]', freq='D')"
      ]
     },
     "execution_count": 89,
     "metadata": {},
     "output_type": "execute_result"
    }
   ],
   "source": [
    "dt.to_period(\"D\") # D for daily, excludes time"
   ]
  },
  {
   "cell_type": "code",
   "execution_count": 90,
   "metadata": {},
   "outputs": [
    {
     "data": {
      "text/plain": [
       "PeriodIndex(['2072-03-25 00:00', '2055-04-20 04:00', '2031-05-08 19:00',\n",
       "             '2059-08-08 17:00', '2041-04-21 13:00'],\n",
       "            dtype='period[H]', freq='H')"
      ]
     },
     "execution_count": 90,
     "metadata": {},
     "output_type": "execute_result"
    }
   ],
   "source": [
    "dt.to_period(\"H\") # get the Hour"
   ]
  },
  {
   "cell_type": "markdown",
   "metadata": {},
   "source": [
    "### TimeDelta"
   ]
  },
  {
   "cell_type": "code",
   "execution_count": 2,
   "metadata": {},
   "outputs": [
    {
     "data": {
      "text/plain": [
       "DatetimeIndex(['2020-11-16 15:25:00', '2020-12-25 00:00:00',\n",
       "               '2021-01-20 12:00:00', '2041-04-21 00:00:00',\n",
       "               '2039-03-14 00:00:00', '2040-05-07 00:00:00',\n",
       "               '2050-06-15 00:00:00', '2262-01-01 00:00:00'],\n",
       "              dtype='datetime64[ns]', freq=None)"
      ]
     },
     "execution_count": 2,
     "metadata": {},
     "output_type": "execute_result"
    }
   ],
   "source": [
    "# time delta index is made when 1 date is subtracted from another\n",
    "import pandas as pd\n",
    "timedelta = pd.to_datetime([\n",
    "    '11-16-2020-15:25', # today\n",
    "    'Dec-25-2020',\n",
    "    'Jan-20-2021-12:00',\n",
    "    'April-21-2041',\n",
    "    'Mar-14-2039',\n",
    "    'May-7-2040',\n",
    "    '06-15-2050',\n",
    "    'Jan-01-2262',\n",
    "])\n",
    "\n",
    "timedelta"
   ]
  },
  {
   "cell_type": "code",
   "execution_count": 5,
   "metadata": {},
   "outputs": [
    {
     "name": "stdout",
     "output_type": "stream",
     "text": [
      "Xmas is in:  38 days 08:35:00\n",
      "New US President:  64 days 20:35:00\n"
     ]
    }
   ],
   "source": [
    "# from today, how many days untul Jan 20th 2021 ?\n",
    "# subtract from Jan to get positive value\n",
    "# 2021-01-20  -  2020-11-13\n",
    "print('Xmas is in: ',timedelta[1] - timedelta[0])\n",
    "print('New US President: ',timedelta[2] - timedelta[0])"
   ]
  },
  {
   "cell_type": "markdown",
   "metadata": {},
   "source": [
    "### Pandas **date range**\n",
    "- <code>pd.date_range(start, end)</code> "
   ]
  },
  {
   "cell_type": "markdown",
   "metadata": {},
   "source": [
    "| Code   | Description         | Code   | Description          |\n",
    "|--------|---------------------|--------|----------------------|\n",
    "| ``D``  | Calendar day        | ``B``  | Business day         |\n",
    "| ``W``  | Weekly              |        |                      |\n",
    "| ``M``  | Month end           | ``BM`` | Business month end   |\n",
    "| ``Q``  | Quarter end         | ``BQ`` | Business quarter end |\n",
    "| ``A``  | Year end            | ``BA`` | Business year end    |\n",
    "| ``H``  | Hours               | ``BH`` | Business hours       |\n",
    "| ``T``  | Minutes             |        |                      |\n",
    "| ``S``  | Seconds             |        |                      |\n",
    "| ``L``  | Milliseonds         |        |                      |\n",
    "| ``U``  | Microseconds        |        |                      |\n",
    "| ``N``  | nanoseconds         |        |                      |"
   ]
  },
  {
   "cell_type": "code",
   "execution_count": 121,
   "metadata": {},
   "outputs": [
    {
     "data": {
      "text/plain": [
       "DatetimeIndex(['2103-01-01', '2103-01-02', '2103-01-03', '2103-01-04',\n",
       "               '2103-01-05', '2103-01-06', '2103-01-07', '2103-01-08',\n",
       "               '2103-01-09', '2103-01-10', '2103-01-11'],\n",
       "              dtype='datetime64[ns]', freq='D')"
      ]
     },
     "execution_count": 121,
     "metadata": {},
     "output_type": "execute_result"
    }
   ],
   "source": [
    "# get the dates for Jan 1 2103 \n",
    "pd.date_range('2103-01-01', '2103-01-11')"
   ]
  },
  {
   "cell_type": "code",
   "execution_count": 120,
   "metadata": {},
   "outputs": [
    {
     "data": {
      "text/plain": [
       "DatetimeIndex(['2103-01-03', '2103-01-04', '2103-01-05', '2103-01-06',\n",
       "               '2103-01-07', '2103-01-08', '2103-01-09', '2103-01-10'],\n",
       "              dtype='datetime64[ns]', freq='D')"
      ]
     },
     "execution_count": 120,
     "metadata": {},
     "output_type": "execute_result"
    }
   ],
   "source": [
    "# shortcut to get 8 dates from set date\n",
    "pd.date_range('2103-01-03', periods=8)"
   ]
  },
  {
   "cell_type": "code",
   "execution_count": 122,
   "metadata": {},
   "outputs": [
    {
     "data": {
      "text/plain": [
       "DatetimeIndex(['2103-01-03 13:30:02', '2103-01-03 14:30:02',\n",
       "               '2103-01-03 15:30:02', '2103-01-03 16:30:02',\n",
       "               '2103-01-03 17:30:02', '2103-01-03 18:30:02',\n",
       "               '2103-01-03 19:30:02', '2103-01-03 20:30:02',\n",
       "               '2103-01-03 21:30:02'],\n",
       "              dtype='datetime64[ns]', freq='H')"
      ]
     },
     "execution_count": 122,
     "metadata": {},
     "output_type": "execute_result"
    }
   ],
   "source": [
    "# get dates hourly 'H', 9 dates\n",
    "# start at 1:30 to 9:30\n",
    "\n",
    "pd.date_range('2103-01-03-13:30:02', periods=9, freq='H') "
   ]
  },
  {
   "cell_type": "code",
   "execution_count": 123,
   "metadata": {},
   "outputs": [
    {
     "data": {
      "text/plain": [
       "DatetimeIndex(['2103-01-07', '2103-01-14', '2103-01-21', '2103-01-28',\n",
       "               '2103-02-04', '2103-02-11'],\n",
       "              dtype='datetime64[ns]', freq='W-SUN')"
      ]
     },
     "execution_count": 123,
     "metadata": {},
     "output_type": "execute_result"
    }
   ],
   "source": [
    "# weekly, 1x per week 'W'\n",
    "# 6 weeks\n",
    "pd.date_range('2103-01', periods=6, freq='W') "
   ]
  },
  {
   "cell_type": "code",
   "execution_count": null,
   "metadata": {},
   "outputs": [],
   "source": []
  }
 ],
 "metadata": {
  "kernelspec": {
   "display_name": "Python 3",
   "language": "python",
   "name": "python3"
  },
  "language_info": {
   "codemirror_mode": {
    "name": "ipython",
    "version": 3
   },
   "file_extension": ".py",
   "mimetype": "text/x-python",
   "name": "python",
   "nbconvert_exporter": "python",
   "pygments_lexer": "ipython3",
   "version": "3.8.3"
  }
 },
 "nbformat": 4,
 "nbformat_minor": 4
}
