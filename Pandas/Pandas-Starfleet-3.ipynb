{
 "cells": [
  {
   "cell_type": "markdown",
   "metadata": {},
   "source": [
    "## Pandas -part 3"
   ]
  },
  {
   "cell_type": "code",
   "execution_count": 1,
   "metadata": {},
   "outputs": [],
   "source": [
    "import pandas as pd\n",
    "import numpy as np"
   ]
  },
  {
   "cell_type": "markdown",
   "metadata": {},
   "source": [
    "Part 3 is about using Strings in with dataframes. Also Regular Expressions (working with strings)"
   ]
  },
  {
   "cell_type": "markdown",
   "metadata": {},
   "source": [
    "## Pandas string methods \n",
    "- <code> series.str.<method>()</code>\n",
    "    \n",
    "|             |                  |                  |                  |\n",
    "|-------------|------------------|------------------|------------------|\n",
    "|``len()``    | ``lower()``      | ``translate()``  | ``islower()``    | \n",
    "|``ljust()``  | ``upper()``      | ``startswith()`` | ``isupper()``    | \n",
    "|``rjust()``  | ``find()``       | ``endswith()``   | ``isnumeric()``  | \n",
    "|``center()`` | ``rfind()``      | ``isalnum()``    | ``isdecimal()``  | \n",
    "|``zfill()``  | ``index()``      | ``isalpha()``    | ``split()``      | \n",
    "|``strip()``  | ``rindex()``     | ``isdigit()``    | ``rsplit()``     | \n",
    "|``rstrip()`` | ``capitalize()`` | ``isspace()``    | ``partition()``  | \n",
    "|``lstrip()`` |  ``swapcase()``  |  ``istitle()``   | ``rpartition()`` |\n",
    "\n",
    "Notice that these have various return values. Some, like ``lower()``, return a series of strings:"
   ]
  },
  {
   "cell_type": "code",
   "execution_count": 25,
   "metadata": {},
   "outputs": [],
   "source": [
    "string_series = pd.Series(\n",
    "    ['Picard','Sisko','Riker',\n",
    "     'Dax','Janeway','LaForge'] )\n",
    "\n",
    "str_series = pd.Series(\n",
    "    ['Captain Picard','Captain Sisko',\n",
    "     'Captain Janeway','Lt.Cmdr Dax',\n",
    "     'Chief Engineer LaForge','Doctor Crusher'])\n"
   ]
  },
  {
   "cell_type": "code",
   "execution_count": 26,
   "metadata": {},
   "outputs": [
    {
     "name": "stdout",
     "output_type": "stream",
     "text": [
      "0     picard\n",
      "1      sisko\n",
      "2      riker\n",
      "3        dax\n",
      "4    janeway\n",
      "5    laforge\n",
      "dtype: object\n"
     ]
    }
   ],
   "source": [
    "# .lower()\n",
    "print(string_series.str.lower() )"
   ]
  },
  {
   "cell_type": "code",
   "execution_count": 27,
   "metadata": {},
   "outputs": [
    {
     "name": "stdout",
     "output_type": "stream",
     "text": [
      "0    6\n",
      "1    5\n",
      "2    5\n",
      "3    3\n",
      "4    7\n",
      "5    7\n",
      "dtype: int64\n"
     ]
    }
   ],
   "source": [
    "# find out the length of each string\n",
    "print(string_series.str.len())"
   ]
  },
  {
   "cell_type": "code",
   "execution_count": 28,
   "metadata": {},
   "outputs": [
    {
     "name": "stdout",
     "output_type": "stream",
     "text": [
      "0            Captain Picard\n",
      "1             Captain Sisko\n",
      "2           Captain Janeway\n",
      "3               Lt.Cmdr Dax\n",
      "4    Chief Engineer LaForge\n",
      "5            Doctor Crusher\n",
      "dtype: object\n"
     ]
    },
    {
     "data": {
      "text/plain": [
       "0             [Captain, Picard]\n",
       "1              [Captain, Sisko]\n",
       "2            [Captain, Janeway]\n",
       "3                [Lt.Cmdr, Dax]\n",
       "4    [Chief, Engineer, LaForge]\n",
       "5             [Doctor, Crusher]\n",
       "dtype: object"
      ]
     },
     "execution_count": 28,
     "metadata": {},
     "output_type": "execute_result"
    }
   ],
   "source": [
    "print(str_series)\n",
    "\n",
    "# this is also known as 'Tokenization' \n",
    "# Tokenization is very important for NLP \n",
    "# (Natural Language Processing)\n",
    "\n",
    "str_series.str.split() "
   ]
  },
  {
   "cell_type": "markdown",
   "metadata": {},
   "source": [
    "### Regular Expressions (regex) \n",
    "is very important when working with text data, *especially if you get posted at **Ops**  and have to transmit commications between planets, Starbases and Federation allies.* Federation News report that having basic understanding and knowledge of Regex is essential for Officers on outposts in all space quadrants.\n",
    "\n",
    "\n",
    "Regular Expressions is part of NLP and Machine Learning, it is a vast subject with many functions and is used everywhere in web searches and chatbots. "
   ]
  },
  {
   "cell_type": "markdown",
   "metadata": {},
   "source": [
    "## **Regular Expressions** ``re.<method>()``\n",
    "- import re"
   ]
  },
  {
   "cell_type": "markdown",
   "metadata": {},
   "source": [
    "| Method | Description |\n",
    "|--------|-------------|\n",
    "| ``match()`` | Call ``re.match()`` on each element, returning a boolean. |\n",
    "| ``extract()`` | Call ``re.match()`` on each element, returning matched groups as strings.|\n",
    "| ``findall()`` | Call ``re.findall()`` on each element |\n",
    "| ``replace()`` | Replace occurrences of pattern with some other string|\n",
    "| ``contains()`` | Call ``re.search()`` on each element, returning a boolean |\n",
    "| ``count()`` | Count occurrences of pattern|\n",
    "| ``split()``   | Equivalent to ``str.split()``, but accepts regexps |\n",
    "| ``rsplit()`` | Equivalent to ``str.rsplit()``, but accepts regexps |\n",
    "\n",
    "\n",
    "- https://www.w3schools.com/python/python_regex.asp\n",
    "\n",
    "\n",
    "\n",
    "\n",
    "| Method | Description |\n",
    "|--------|-------------|\n",
    "| ``get()`` | Index each element |\n",
    "| ``slice()`` | Slice each element|\n",
    "| ``slice_replace()`` | Replace slice in each element with passed value|\n",
    "| ``cat()``      | Concatenate strings|\n",
    "| ``repeat()`` | Repeat values |\n",
    "| ``normalize()`` | Return Unicode form of string |\n",
    "| ``pad()`` | Add whitespace to left, right, or both sides of strings|\n",
    "| ``wrap()`` | Split long strings into lines with length less than a given width|\n",
    "| ``join()`` | Join strings in each element of the Series with passed separator|\n",
    "| ``get_dummies()`` | extract dummy variables as a dataframe |"
   ]
  },
  {
   "cell_type": "code",
   "execution_count": 29,
   "metadata": {},
   "outputs": [
    {
     "data": {
      "text/plain": [
       "0     Picard\n",
       "1      Sisko\n",
       "2      Riker\n",
       "3        Dax\n",
       "4    Janeway\n",
       "5    LaForge\n",
       "dtype: object"
      ]
     },
     "execution_count": 29,
     "metadata": {},
     "output_type": "execute_result"
    }
   ],
   "source": [
    "# EXTRACT method\n",
    "\n",
    "# extract first names\n",
    "string_series.str.extract('([A-Za-z]+)', expand=False)"
   ]
  },
  {
   "cell_type": "code",
   "execution_count": 16,
   "metadata": {},
   "outputs": [
    {
     "name": "stdout",
     "output_type": "stream",
     "text": [
      "0     [Captain Picard]\n",
      "1                   []\n",
      "2    [Captain Janeway]\n",
      "3        [Lt.Cmdr Dax]\n",
      "4                   []\n",
      "dtype: object \n",
      "\n",
      "0     [Picard]\n",
      "1           []\n",
      "2      [Riker]\n",
      "3        [Dax]\n",
      "4    [Janeway]\n",
      "5           []\n",
      "dtype: object\n"
     ]
    }
   ],
   "source": [
    "# FIND ALL method\n",
    "\n",
    "print(str_series.str.findall(r'^[^AEIOU].*[^aeiou]$'),'\\n' )\n",
    "\n",
    "print(string_series.str.findall(r'^[^AEIOU].*[^aeiou]$') )"
   ]
  },
  {
   "cell_type": "code",
   "execution_count": 30,
   "metadata": {},
   "outputs": [
    {
     "name": "stdout",
     "output_type": "stream",
     "text": [
      "0    Pic\n",
      "1    Sis\n",
      "2    Rik\n",
      "3    Dax\n",
      "4    Jan\n",
      "5    LaF\n",
      "dtype: object \n",
      "\n",
      "0    Cap\n",
      "1    Cap\n",
      "2    Cap\n",
      "3    Lt.\n",
      "4    Chi\n",
      "5    Doc\n",
      "dtype: object\n"
     ]
    }
   ],
   "source": [
    "# SLICE a string \n",
    "# get first 3 characters of string\n",
    "\n",
    "# NOTE:  \n",
    "# df.str.slice(0, 3) === df.str[0:3] <-- the same\n",
    "\n",
    "print(string_series.str[0:3],'\\n')\n",
    "print(str_series.str[0:3])"
   ]
  },
  {
   "cell_type": "code",
   "execution_count": 31,
   "metadata": {},
   "outputs": [
    {
     "name": "stdout",
     "output_type": "stream",
     "text": [
      "0     Picard\n",
      "1      Sisko\n",
      "2      Riker\n",
      "3        Dax\n",
      "4    Janeway\n",
      "5    LaForge\n",
      "dtype: object \n",
      "\n",
      "0     Picard\n",
      "1      Sisko\n",
      "2    Janeway\n",
      "3        Dax\n",
      "4    LaForge\n",
      "5    Crusher\n",
      "dtype: object\n"
     ]
    }
   ],
   "source": [
    "# get the last word \n",
    "\n",
    "# NOTE:\n",
    "# indexing  df.str.get(i) and  df.str[i] \n",
    "\n",
    "\n",
    "print(string_series.str.split().str.get(-1),'\\n' )\n",
    "print(str_series.str.split().str.get(-1))"
   ]
  },
  {
   "cell_type": "markdown",
   "metadata": {},
   "source": [
    "### Indicator variables\n",
    "- A = alpha\n",
    "- B = bravo\n",
    "- G = gamma\n",
    "- D = delta"
   ]
  },
  {
   "cell_type": "code",
   "execution_count": 32,
   "metadata": {},
   "outputs": [
    {
     "data": {
      "text/html": [
       "<div>\n",
       "<style scoped>\n",
       "    .dataframe tbody tr th:only-of-type {\n",
       "        vertical-align: middle;\n",
       "    }\n",
       "\n",
       "    .dataframe tbody tr th {\n",
       "        vertical-align: top;\n",
       "    }\n",
       "\n",
       "    .dataframe thead th {\n",
       "        text-align: right;\n",
       "    }\n",
       "</style>\n",
       "<table border=\"1\" class=\"dataframe\">\n",
       "  <thead>\n",
       "    <tr style=\"text-align: right;\">\n",
       "      <th></th>\n",
       "      <th>Officer</th>\n",
       "      <th>Code</th>\n",
       "    </tr>\n",
       "  </thead>\n",
       "  <tbody>\n",
       "    <tr>\n",
       "      <th>0</th>\n",
       "      <td>Picard</td>\n",
       "      <td>A-B-D</td>\n",
       "    </tr>\n",
       "    <tr>\n",
       "      <th>1</th>\n",
       "      <td>Sisko</td>\n",
       "      <td>A-B-G</td>\n",
       "    </tr>\n",
       "    <tr>\n",
       "      <th>2</th>\n",
       "      <td>Riker</td>\n",
       "      <td>A-B</td>\n",
       "    </tr>\n",
       "    <tr>\n",
       "      <th>3</th>\n",
       "      <td>Dax</td>\n",
       "      <td>G-D-B-A</td>\n",
       "    </tr>\n",
       "    <tr>\n",
       "      <th>4</th>\n",
       "      <td>Janeway</td>\n",
       "      <td>D-A-B</td>\n",
       "    </tr>\n",
       "    <tr>\n",
       "      <th>5</th>\n",
       "      <td>LaForge</td>\n",
       "      <td>A-B-D</td>\n",
       "    </tr>\n",
       "  </tbody>\n",
       "</table>\n",
       "</div>"
      ],
      "text/plain": [
       "   Officer     Code\n",
       "0   Picard    A-B-D\n",
       "1    Sisko    A-B-G\n",
       "2    Riker      A-B\n",
       "3      Dax  G-D-B-A\n",
       "4  Janeway    D-A-B\n",
       "5  LaForge    A-B-D"
      ]
     },
     "execution_count": 32,
     "metadata": {},
     "output_type": "execute_result"
    }
   ],
   "source": [
    "coded_df = pd.DataFrame(\n",
    "    {'Officer': string_series,\n",
    "     'Code': ['A-B-D','A-B-G','A-B','G-D-B-A','D-A-B','A-B-D']\n",
    "    })\n",
    "\n",
    "coded_df"
   ]
  },
  {
   "cell_type": "code",
   "execution_count": 37,
   "metadata": {},
   "outputs": [
    {
     "data": {
      "text/html": [
       "<div>\n",
       "<style scoped>\n",
       "    .dataframe tbody tr th:only-of-type {\n",
       "        vertical-align: middle;\n",
       "    }\n",
       "\n",
       "    .dataframe tbody tr th {\n",
       "        vertical-align: top;\n",
       "    }\n",
       "\n",
       "    .dataframe thead th {\n",
       "        text-align: right;\n",
       "    }\n",
       "</style>\n",
       "<table border=\"1\" class=\"dataframe\">\n",
       "  <thead>\n",
       "    <tr style=\"text-align: right;\">\n",
       "      <th></th>\n",
       "      <th>Officer</th>\n",
       "      <th>Code</th>\n",
       "    </tr>\n",
       "  </thead>\n",
       "  <tbody>\n",
       "    <tr>\n",
       "      <th>0</th>\n",
       "      <td>Captain Picard</td>\n",
       "      <td>A-B-D</td>\n",
       "    </tr>\n",
       "    <tr>\n",
       "      <th>1</th>\n",
       "      <td>Captain Sisko</td>\n",
       "      <td>A-B-G</td>\n",
       "    </tr>\n",
       "    <tr>\n",
       "      <th>2</th>\n",
       "      <td>Captain Janeway</td>\n",
       "      <td>A-B</td>\n",
       "    </tr>\n",
       "    <tr>\n",
       "      <th>3</th>\n",
       "      <td>Lt.Cmdr Dax</td>\n",
       "      <td>G-D-B-A</td>\n",
       "    </tr>\n",
       "    <tr>\n",
       "      <th>4</th>\n",
       "      <td>Chief Engineer LaForge</td>\n",
       "      <td>D-A-B</td>\n",
       "    </tr>\n",
       "    <tr>\n",
       "      <th>5</th>\n",
       "      <td>Doctor Crusher</td>\n",
       "      <td>A-B-D</td>\n",
       "    </tr>\n",
       "  </tbody>\n",
       "</table>\n",
       "</div>"
      ],
      "text/plain": [
       "                  Officer     Code\n",
       "0          Captain Picard    A-B-D\n",
       "1           Captain Sisko    A-B-G\n",
       "2         Captain Janeway      A-B\n",
       "3             Lt.Cmdr Dax  G-D-B-A\n",
       "4  Chief Engineer LaForge    D-A-B\n",
       "5          Doctor Crusher    A-B-D"
      ]
     },
     "execution_count": 37,
     "metadata": {},
     "output_type": "execute_result"
    }
   ],
   "source": [
    "coded_df = pd.DataFrame(\n",
    "    {'Officer': str_series,\n",
    "     'Code': ['A-B-D','A-B-G','A-B','G-D-B-A','D-A-B','A-B-D']\n",
    "    })\n",
    "\n",
    "coded_df"
   ]
  },
  {
   "cell_type": "code",
   "execution_count": 41,
   "metadata": {
    "scrolled": true
   },
   "outputs": [
    {
     "data": {
      "text/html": [
       "<div>\n",
       "<style scoped>\n",
       "    .dataframe tbody tr th:only-of-type {\n",
       "        vertical-align: middle;\n",
       "    }\n",
       "\n",
       "    .dataframe tbody tr th {\n",
       "        vertical-align: top;\n",
       "    }\n",
       "\n",
       "    .dataframe thead th {\n",
       "        text-align: right;\n",
       "    }\n",
       "</style>\n",
       "<table border=\"1\" class=\"dataframe\">\n",
       "  <thead>\n",
       "    <tr style=\"text-align: right;\">\n",
       "      <th></th>\n",
       "      <th>A</th>\n",
       "      <th>B</th>\n",
       "      <th>D</th>\n",
       "      <th>G</th>\n",
       "    </tr>\n",
       "  </thead>\n",
       "  <tbody>\n",
       "    <tr>\n",
       "      <th>0</th>\n",
       "      <td>1</td>\n",
       "      <td>1</td>\n",
       "      <td>1</td>\n",
       "      <td>0</td>\n",
       "    </tr>\n",
       "    <tr>\n",
       "      <th>1</th>\n",
       "      <td>1</td>\n",
       "      <td>1</td>\n",
       "      <td>0</td>\n",
       "      <td>1</td>\n",
       "    </tr>\n",
       "    <tr>\n",
       "      <th>2</th>\n",
       "      <td>1</td>\n",
       "      <td>1</td>\n",
       "      <td>0</td>\n",
       "      <td>0</td>\n",
       "    </tr>\n",
       "    <tr>\n",
       "      <th>3</th>\n",
       "      <td>1</td>\n",
       "      <td>1</td>\n",
       "      <td>1</td>\n",
       "      <td>1</td>\n",
       "    </tr>\n",
       "    <tr>\n",
       "      <th>4</th>\n",
       "      <td>1</td>\n",
       "      <td>1</td>\n",
       "      <td>1</td>\n",
       "      <td>0</td>\n",
       "    </tr>\n",
       "    <tr>\n",
       "      <th>5</th>\n",
       "      <td>1</td>\n",
       "      <td>1</td>\n",
       "      <td>1</td>\n",
       "      <td>0</td>\n",
       "    </tr>\n",
       "  </tbody>\n",
       "</table>\n",
       "</div>"
      ],
      "text/plain": [
       "   A  B  D  G\n",
       "0  1  1  1  0\n",
       "1  1  1  0  1\n",
       "2  1  1  0  0\n",
       "3  1  1  1  1\n",
       "4  1  1  1  0\n",
       "5  1  1  1  0"
      ]
     },
     "execution_count": 41,
     "metadata": {},
     "output_type": "execute_result"
    }
   ],
   "source": [
    "# get dummies is used for data analysis of a categorical\n",
    "# value say 0= Human, 1= Bajoran \n",
    "# this function fills the category with 0 or 1 \n",
    "# which then can be used to perform functions like sum() etc\n",
    "\n",
    "dum = coded_df['Code'].str.get_dummies('-')\n",
    "dum"
   ]
  },
  {
   "cell_type": "markdown",
   "metadata": {},
   "source": [
    "### More on RegEx functions"
   ]
  },
  {
   "cell_type": "code",
   "execution_count": 68,
   "metadata": {},
   "outputs": [
    {
     "name": "stdout",
     "output_type": "stream",
     "text": [
      "{The} and {Bajor} found\n"
     ]
    }
   ],
   "source": [
    "import re # import the RegEx module\n",
    "\n",
    "# the text of the message\n",
    "txt = \"The rain on Bajor is warm\"\n",
    "\n",
    "# search function for string that starts with 'The'\n",
    "# and for the word 'Bajor'\n",
    "x = re.search(\"^The.*Bajor\", txt)\n",
    "\n",
    "\n",
    "if x:\n",
    "    print('{} and {} found'.format('{The}', '{Bajor}'))"
   ]
  },
  {
   "cell_type": "code",
   "execution_count": 69,
   "metadata": {},
   "outputs": [
    {
     "name": "stdout",
     "output_type": "stream",
     "text": [
      "No match\n"
     ]
    }
   ],
   "source": [
    "# Check if the string starts with \"The\" \n",
    "# and ENDS with \"Bajor\":\n",
    "\n",
    "txt = \"The rain on Bajor is warm\"\n",
    "x = re.search(\"^The.*Bajor$\", txt)\n",
    "\n",
    "if x:\n",
    "    print(\"YES! We have a match!\")\n",
    "else:\n",
    "    print(\"No match\")"
   ]
  },
  {
   "cell_type": "code",
   "execution_count": 72,
   "metadata": {},
   "outputs": [
    {
     "name": "stdout",
     "output_type": "stream",
     "text": [
      "Message ends with {Bajor}\n"
     ]
    }
   ],
   "source": [
    "# Check if the string starts with \"The\" \n",
    "# and ENDS with \"Bajor\":\n",
    "\n",
    "txt = \"The rain on Bajor\"  # changed text\n",
    "x = re.search(\"^The.*Bajor$\", txt)\n",
    "\n",
    "if x:\n",
    "    print(\"Message ends with {}\".format('{Bajor}'))\n",
    "else:\n",
    "    print(\"No match found\")"
   ]
  },
  {
   "cell_type": "markdown",
   "metadata": {},
   "source": [
    "## RegEx **metacharacters**"
   ]
  },
  {
   "cell_type": "code",
   "execution_count": 73,
   "metadata": {},
   "outputs": [
    {
     "name": "stdout",
     "output_type": "stream",
     "text": [
      "['h', 'e', 'a', 'i', 'a', 'j']\n"
     ]
    }
   ],
   "source": [
    "txt = \"The rain on Bajor\"\n",
    "\n",
    "# Find all lower case characters alphabetically \n",
    "# between \"a\" and \"m\": \n",
    "\n",
    "x = re.findall(\"[a-m]\", txt)\n",
    "print(x)"
   ]
  },
  {
   "cell_type": "code",
   "execution_count": 74,
   "metadata": {},
   "outputs": [
    {
     "name": "stdout",
     "output_type": "stream",
     "text": [
      "['3']\n"
     ]
    }
   ],
   "source": [
    "txt = \"that will 3 strips of Latinum\"\n",
    "\n",
    "# Find all digit characters:\n",
    "x = re.findall(\"\\d\", txt)\n",
    "print(x)"
   ]
  },
  {
   "cell_type": "code",
   "execution_count": 80,
   "metadata": {},
   "outputs": [
    {
     "name": "stdout",
     "output_type": "stream",
     "text": [
      "['Klingon']\n"
     ]
    }
   ],
   "source": [
    "txt = \"Klingon Empire\"\n",
    "\n",
    "# Search for a sequence that starts with \"Kl\", \n",
    "# followed by four (any) characters, and an \"n\":\n",
    "\n",
    "# NOTE: \n",
    "# the dots inside \" \" matter, must match word length\n",
    "# \"Kl [i] [n] [g] [o] n\"\n",
    "# \"Kl . . . . n\"\n",
    "\n",
    "x = re.findall(\"Kl....n\", txt)\n",
    "print(x)"
   ]
  },
  {
   "cell_type": "code",
   "execution_count": 84,
   "metadata": {},
   "outputs": [
    {
     "name": "stdout",
     "output_type": "stream",
     "text": [
      "['Bajor']\n",
      "['Bajoran']\n"
     ]
    }
   ],
   "source": [
    "txt = 'Bajoran Temple'\n",
    "\n",
    "# notice the 2 dots in the string\n",
    "b = re.findall(\"Ba..r\", txt)\n",
    "print(b)\n",
    "\n",
    "# notice the 4 dots in the string\n",
    "x = re.findall(\"Ba....n\", txt)\n",
    "print(x)"
   ]
  },
  {
   "cell_type": "code",
   "execution_count": 142,
   "metadata": {},
   "outputs": [
    {
     "name": "stdout",
     "output_type": "stream",
     "text": [
      "message starts with ['wormhole']\n"
     ]
    }
   ],
   "source": [
    "# Check if the string starts with 'wormhole':\n",
    "txt = \"wormhole aliens\"\n",
    "\n",
    "x = re.findall(\"^wormhole\", txt)\n",
    "if x:\n",
    "    print(\"message starts with {}\".format(x))\n",
    "else:\n",
    "    print(\"No match found\")"
   ]
  },
  {
   "cell_type": "code",
   "execution_count": 141,
   "metadata": {},
   "outputs": [
    {
     "name": "stdout",
     "output_type": "stream",
     "text": [
      "message ends with word ['prisons']\n"
     ]
    }
   ],
   "source": [
    "#Check if the string ends with 'prisons':\n",
    "txt = \"the shut down of Cardassian prisons\"\n",
    "\n",
    "x = re.findall(\"prisons$\", txt)\n",
    "if x:\n",
    "    print(\"message ends with word {}\".format(x))\n",
    "else:\n",
    "    print(\"No match found\")"
   ]
  },
  {
   "cell_type": "code",
   "execution_count": 97,
   "metadata": {},
   "outputs": [
    {
     "name": "stdout",
     "output_type": "stream",
     "text": [
      "found 3 matches: ['lax', 'lax', 'lax']\n"
     ]
    }
   ],
   "source": [
    "# Check if the string contains \"lax\" \n",
    "# followed by 0 or more \"x\" characters:\n",
    "\n",
    "txt = \"hard to relax on Talax, \\\n",
    "    everything with flax to the max\"\n",
    "\n",
    "x = re.findall(\"lax*\", txt)\n",
    "\n",
    "#print(x)\n",
    "\n",
    "if x:\n",
    "    print(\"found {} matches: {}\".format(len(x),x))\n",
    "else:\n",
    "    print(\"No match found\")"
   ]
  },
  {
   "cell_type": "code",
   "execution_count": 100,
   "metadata": {},
   "outputs": [
    {
     "name": "stdout",
     "output_type": "stream",
     "text": [
      "found 3 matches: ['lax', 'lax', 'lax']\n"
     ]
    }
   ],
   "source": [
    "# Check if the string contains \"lax\" \n",
    "# followed by 1 or more \"x\" characters:\n",
    "\n",
    "x = re.findall(\"lax+\", txt)\n",
    "\n",
    "if x:\n",
    "    print(\"found {} matches: {}\".format(len(x),x))\n",
    "else:\n",
    "    print(\"No match found\")"
   ]
  },
  {
   "cell_type": "code",
   "execution_count": 135,
   "metadata": {},
   "outputs": [
    {
     "name": "stdout",
     "output_type": "stream",
     "text": [
      "message has 2 results for ['all', 'all']\n"
     ]
    }
   ],
   "source": [
    "# Check if the string contains \"a\" \n",
    "# followed by exactly two \"l\" characters:\n",
    "txt = \"all Bajorans want all Cardassian of Bajor\"\n",
    "\n",
    "x = re.findall(\"al{2}\", txt)\n",
    "\n",
    "if x:\n",
    "    print(\"message has {} results for {}\".format(len(x), x))\n",
    "else:\n",
    "    print(\"No match found\")"
   ]
  },
  {
   "cell_type": "code",
   "execution_count": 139,
   "metadata": {},
   "outputs": [
    {
     "name": "stdout",
     "output_type": "stream",
     "text": [
      "['ketracel ']\n",
      "message has 2 results for ['ketracel', 'white']\n"
     ]
    }
   ],
   "source": [
    "# Check if the string contains \n",
    "# either \"ketracel\" or \"white\":\n",
    "\n",
    "txt = \"Alpha quadrant Jem'Hadar need more ketracel white\"\n",
    "\n",
    "x = re.findall(\"ketracel|white\", txt)\n",
    "\n",
    "# the space between the 'or' matters \n",
    "x1 = re.findall(\"ketracel | white\", txt)\n",
    "print(x1)\n",
    "\n",
    "if x:\n",
    "    print(\"message has {} results for {}\".format(len(x), x))\n",
    "else:\n",
    "    print(\"No match found\")"
   ]
  },
  {
   "cell_type": "markdown",
   "metadata": {},
   "source": [
    "### *Special*  **Sequences**"
   ]
  },
  {
   "cell_type": "code",
   "execution_count": 143,
   "metadata": {},
   "outputs": [
    {
     "name": "stdout",
     "output_type": "stream",
     "text": [
      "message has 1 results for ['The']\n"
     ]
    }
   ],
   "source": [
    "# Check if the string starts with \"The\":\n",
    "\n",
    "txt = \"The Cardassians enjoy the heat\"\n",
    "\n",
    "x = re.findall(\"\\AThe\", txt)\n",
    "\n",
    "if x:\n",
    "    print(\"message has {} results for {}\".format(len(x), x))\n",
    "else:\n",
    "    print(\"No match found\")"
   ]
  },
  {
   "cell_type": "markdown",
   "metadata": {},
   "source": [
    "the \"r\" in the beginning is making sure that the string is being treated as a \"raw string\""
   ]
  },
  {
   "cell_type": "code",
   "execution_count": 160,
   "metadata": {},
   "outputs": [
    {
     "name": "stdout",
     "output_type": "stream",
     "text": [
      "[]\n",
      "message has 1 results for ['The']\n"
     ]
    }
   ],
   "source": [
    "# Check if \"The\" is present at the beginning \n",
    "# r\"\\b + str\"\n",
    "\n",
    "txt = \"The Cardassians enjoy the heat\"\n",
    "\n",
    "# NOTE: the 'b' vs 'B' is different! \n",
    "x = re.findall(r\"\\bThe\", txt)\n",
    "x1 = re.findall(r\"\\BThe\", txt)\n",
    "print(x1)\n",
    "\n",
    "if x:\n",
    "    print(\"message has {} results for {}\".format(len(x), x))\n",
    "else:\n",
    "    print(\"No match found\")"
   ]
  },
  {
   "cell_type": "code",
   "execution_count": 161,
   "metadata": {},
   "outputs": [
    {
     "name": "stdout",
     "output_type": "stream",
     "text": [
      "[]\n",
      "message has 1 results for ['girl']\n"
     ]
    }
   ],
   "source": [
    "# Check if \"girl\" is present at the end word \n",
    "# r\"str + \\b\"  \n",
    "# r\"\\b + str\"\n",
    "\n",
    "txt = \"watch the dabo table, not the girl\"\n",
    "\n",
    "x = re.findall(r\"girl\\b\", txt)\n",
    "x1 = re.findall(r\"girl\\B\", txt)\n",
    "print(x1)\n",
    "\n",
    "if x:\n",
    "    print(\"message has {} results for {}\".format(len(x), x))\n",
    "else:\n",
    "    print(\"No match found\")"
   ]
  },
  {
   "cell_type": "code",
   "execution_count": 179,
   "metadata": {},
   "outputs": [
    {
     "name": "stdout",
     "output_type": "stream",
     "text": [
      "['abo', 'abo']\n",
      "[]\n"
     ]
    }
   ],
   "source": [
    "# Check if \"abo\" is present, \n",
    "# but NOT at the beginning of a word:\n",
    "\n",
    "txt = \"watch the dabo table, not dabo the girl\"\n",
    "\n",
    "x = re.findall(r\"\\Babo\", txt)\n",
    "print(x)\n",
    "\n",
    "# Check if \"abo\" is present, \n",
    "# but NOT at the end of a word:\n",
    "x2 = re.findall(r\"abo\\B\", txt)\n",
    "print(x2)"
   ]
  },
  {
   "cell_type": "code",
   "execution_count": 182,
   "metadata": {},
   "outputs": [
    {
     "name": "stdout",
     "output_type": "stream",
     "text": [
      "[]\n",
      "['w', 'a', 't', 'c', 'h', ' ', 't', 'h', 'e', ' ', 'd', 'a', 'b', 'o', ' ', 't', 'a', 'b', 'l', 'e', ',', ' ', 'n', 'o', 't', ' ', 'd', 'a', 'b', 'o', ' ', 't', 'h', 'e', ' ', 'g', 'i', 'r', 'l']\n"
     ]
    }
   ],
   "source": [
    "# Check if the string contains any digits (numbers from 0-9):\n",
    "txt = \"watch the dabo table, not dabo the girl\"\n",
    "x = re.findall(\"\\d\", txt)\n",
    "print(x)\n",
    "\n",
    "# Return a match at every non-digit character:\n",
    "# the result will be tokenized characters\n",
    "x2 = re.findall(\"\\D\", txt)\n",
    "print(x2)"
   ]
  },
  {
   "cell_type": "code",
   "execution_count": 186,
   "metadata": {},
   "outputs": [
    {
     "name": "stdout",
     "output_type": "stream",
     "text": [
      "white space:  [' ', ' ', ' ', ' ', ' ', ' ', ' ']\n",
      "non white space  ['w', 'a', 't', 'c', 'h', 't', 'h', 'e', 'd', 'a', 'b', 'o', 't', 'a', 'b', 'l', 'e', ',', 'n', 'o', 't', 'd', 'a', 'b', 'o', 't', 'h', 'e', 'g', 'i', 'r', 'l']\n"
     ]
    }
   ],
   "source": [
    "#Return a match at every white-space character:\n",
    "x = re.findall(\"\\s\", txt)\n",
    "print('white space: ',x)\n",
    "\n",
    "#Return a match at every NON white-space character:\n",
    "x2 = re.findall(\"\\S\", txt)\n",
    "print('non white space ',x2)"
   ]
  },
  {
   "cell_type": "code",
   "execution_count": 191,
   "metadata": {},
   "outputs": [
    {
     "name": "stdout",
     "output_type": "stream",
     "text": [
      "['T', 'h', 'e', 'r', 'e', 'a', 'r', 'e', '4', '5', 'T', 'r', 'i', 'l', 'l', 's', 'o', 'n', 't', 'h', 'i', 's', 'D', 'S', '9', 's', 't', 'a', 't', 'i', 'o', 'n', 'D', 'i', 'd', 'y', 'o', 'u', 'k', 'n', 'o', 'w']\n"
     ]
    }
   ],
   "source": [
    "# Return a match at every word character \n",
    "# (characters from a to Z, digits from 0-9, \n",
    "# and the underscore _ character):\n",
    "\n",
    "txt = \"There are 45 Trills on this DS9 station! Did you know?\"\n",
    "x = re.findall(\"\\w\", txt)\n",
    "print(x) "
   ]
  },
  {
   "cell_type": "code",
   "execution_count": 192,
   "metadata": {},
   "outputs": [
    {
     "name": "stdout",
     "output_type": "stream",
     "text": [
      "[' ', ' ', ' ', ' ', ' ', ' ', ' ', '!', ' ', ' ', ' ', '?']\n"
     ]
    }
   ],
   "source": [
    "# Return a match at every NON word character \n",
    "# (characters NOT between a and Z. Like \"!\", \"?\" \n",
    "# white-space etc.):\n",
    "\n",
    "x = re.findall(\"\\W\", txt)\n",
    "print(x)"
   ]
  },
  {
   "cell_type": "code",
   "execution_count": 195,
   "metadata": {},
   "outputs": [
    {
     "data": {
      "text/plain": [
       "['rains']"
      ]
     },
     "execution_count": 195,
     "metadata": {},
     "output_type": "execute_result"
    }
   ],
   "source": [
    "# Check if the string ends with \"rain\":\n",
    "txt = \"on the planet Troyius it hardly rains\"\n",
    "x = re.findall(\"rains\\Z\", txt)\n",
    "x"
   ]
  },
  {
   "cell_type": "markdown",
   "metadata": {},
   "source": [
    "### Regular Expression **sets**"
   ]
  },
  {
   "cell_type": "code",
   "execution_count": 208,
   "metadata": {},
   "outputs": [
    {
     "name": "stdout",
     "output_type": "stream",
     "text": [
      "[a-zA-Z] :['T', 'h', 'i', 's', 'e', 'n', 'c', 'r', 'y', 'p', 't', 'e', 'd', 'm', 'e', 's', 's', 'a', 'g', 'e', 'f', 'r', 'o', 'm', 'C', 'a', 'r', 'd', 'a', 's', 's', 'i', 'a', 'i', 's', 'K', 'B', 'b', 'i', 'g', 'o', 'n', 'l', 'y', 'p', 'e', 'r', 's', 'o', 'n', 'o', 'n', 't', 'h', 'e', 'D', 'S', 's', 't', 'a', 't', 'i', 'o', 'n', 'w', 'h', 'o', 'c', 'a', 'n', 'c', 'r', 'a', 'c', 'k', 'i', 't', 'i', 's', 'G', 'a', 'r', 'a', 'k']\n",
      "\n",
      " [arn] :['n', 'r', 'a', 'r', 'a', 'r', 'a', 'a', 'n', 'r', 'n', 'n', 'a', 'n', 'a', 'n', 'r', 'a', 'a', 'r', 'a']\n",
      "\n",
      " [a-n] :['h', 'i', 'e', 'n', 'c', 'e', 'd', 'm', 'e', 'a', 'g', 'e', 'f', 'm', 'a', 'd', 'a', 'i', 'a', 'i', 'b', 'i', 'g', 'n', 'l', 'e', 'n', 'n', 'h', 'e', 'a', 'i', 'n', 'h', 'c', 'a', 'n', 'c', 'a', 'c', 'k', 'i', 'i', 'a', 'a', 'k']\n",
      "\n",
      " [^arn] :['T', 'h', 'i', 's', ' ', 'e', 'c', 'y', 'p', 't', 'e', 'd', ' ', 'm', 'e', 's', 's', 'g', 'e', ' ', 'f', 'o', 'm', ' ', 'C', 'd', 's', 's', 'i', ' ', 'i', 's', ' ', '3', '4', ' ', 'K', 'B', ' ', 'b', 'i', 'g', '.', 'o', 'l', 'y', ' ', 'p', 'e', 's', 'o', ' ', 'o', ' ', 't', 'h', 'e', ' ', 'D', 'S', '9', ' ', 's', 't', 't', 'i', 'o', ' ', 'w', 'h', 'o', ' ', 'c', ' ', 'c', 'c', 'k', ' ', 'i', 't', ' ', 'i', 's', ' ', 'G', 'k']\n",
      "\n",
      " [0-4] :['3', '4']\n",
      "\n",
      " [0-5][0-9] :['34']\n"
     ]
    }
   ],
   "source": [
    "txt = \"This encrypted message from Cardassia is 34 KB big.\\\n",
    "only person on the DS9 station who can crack it is Garak\"\n",
    "\n",
    "# Check if the string has any characters from a to z \n",
    "# lower case, and A to Z upper case:\n",
    "x0 = re.findall(\"[a-zA-Z]\", txt)\n",
    "print(\"[a-zA-Z] :{}\".format(x0))\n",
    "\n",
    "# Check if the string has any a, r, or n characters:\n",
    "x = re.findall(\"[arn]\", txt)\n",
    "print(\"\\n [arn] :{}\".format(x))\n",
    "\n",
    "# Check if the string has any characters between a and n:\n",
    "x2 = re.findall(\"[a-n]\", txt)\n",
    "print(\"\\n [a-n] :{}\".format(x2))\n",
    "\n",
    "# Check if the string has other characters than a, r, or n:\n",
    "x3 = re.findall(\"[^arn]\", txt)\n",
    "print(\"\\n [^arn] :{}\".format(x3))\n",
    "\n",
    "# Check if the string has any 0, 1, 2, or 3 digits:\n",
    "x4 = re.findall(\"[0-4]\", txt)\n",
    "print(\"\\n [0-4] :{}\".format(x4))\n",
    "\n",
    "# Check if the string has any two-digit numbers, from 00 to 59:\n",
    "x5 = re.findall(\"[0-5][0-9]\", txt)\n",
    "print(\"\\n [0-5][0-9] :{}\".format(x5))"
   ]
  },
  {
   "cell_type": "markdown",
   "metadata": {},
   "source": [
    "### the **sub()** function"
   ]
  },
  {
   "cell_type": "code",
   "execution_count": 212,
   "metadata": {},
   "outputs": [
    {
     "name": "stdout",
     "output_type": "stream",
     "text": [
      "The<&>Promenade<&><&><&>is<&>busy<&>today<&>\n"
     ]
    }
   ],
   "source": [
    "# Replace all white-space characters with the digit \"4\":\n",
    "\n",
    "txt = \"The Promenade   is busy today \"\n",
    "x = re.sub(\"\\s\", \"44\", txt)\n",
    "x\n",
    "\n",
    "x2 = re.sub(\"\\s\", \"<&>\", txt)\n",
    "print(x2)"
   ]
  },
  {
   "cell_type": "markdown",
   "metadata": {},
   "source": [
    "You have learned how to work with strings in dataframes and how regular expression works in text data. This concludes this notebook."
   ]
  },
  {
   "cell_type": "code",
   "execution_count": null,
   "metadata": {},
   "outputs": [],
   "source": []
  }
 ],
 "metadata": {
  "kernelspec": {
   "display_name": "Python 3",
   "language": "python",
   "name": "python3"
  },
  "language_info": {
   "codemirror_mode": {
    "name": "ipython",
    "version": 3
   },
   "file_extension": ".py",
   "mimetype": "text/x-python",
   "name": "python",
   "nbconvert_exporter": "python",
   "pygments_lexer": "ipython3",
   "version": "3.8.3"
  }
 },
 "nbformat": 4,
 "nbformat_minor": 4
}
