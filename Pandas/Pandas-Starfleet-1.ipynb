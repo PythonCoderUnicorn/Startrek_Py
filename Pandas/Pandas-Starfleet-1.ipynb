{
 "cells": [
  {
   "cell_type": "markdown",
   "metadata": {},
   "source": [
    "# Pandas for Starfleet"
   ]
  },
  {
   "cell_type": "code",
   "execution_count": 1,
   "metadata": {},
   "outputs": [],
   "source": [
    "import pandas as pd\n",
    "import numpy as np\n"
   ]
  },
  {
   "cell_type": "markdown",
   "metadata": {},
   "source": [
    "This tutorial is aimed at teaching all essential functions for Pandas.\n",
    "The Numpy library module is the basic foundation for Pandas, so by learning Pandas you are also learning Numpy, although there are some differences between the two. "
   ]
  },
  {
   "cell_type": "markdown",
   "metadata": {},
   "source": [
    "## Pandas **Series** \n",
    "- a Series is a column in a dataset"
   ]
  },
  {
   "cell_type": "code",
   "execution_count": 2,
   "metadata": {},
   "outputs": [
    {
     "data": {
      "text/plain": [
       "0     5\n",
       "1    10\n",
       "2    15\n",
       "3    20\n",
       "4    25\n",
       "5    30\n",
       "dtype: int64"
      ]
     },
     "execution_count": 2,
     "metadata": {},
     "output_type": "execute_result"
    }
   ],
   "source": [
    "pandaSeries = pd.Series([5,10,15,20,25,30])\n",
    "pandaSeries\n",
    "\n",
    "# index values 0 to 5"
   ]
  },
  {
   "cell_type": "code",
   "execution_count": 3,
   "metadata": {},
   "outputs": [
    {
     "data": {
      "text/plain": [
       "array([ 5, 10, 15, 20, 25, 30])"
      ]
     },
     "execution_count": 3,
     "metadata": {},
     "output_type": "execute_result"
    }
   ],
   "source": [
    "# to get just the values for the Series\n",
    "# this returns a Numpy array\n",
    "pandaSeries.values"
   ]
  },
  {
   "cell_type": "code",
   "execution_count": 4,
   "metadata": {},
   "outputs": [
    {
     "data": {
      "text/plain": [
       "20"
      ]
     },
     "execution_count": 4,
     "metadata": {},
     "output_type": "execute_result"
    }
   ],
   "source": [
    "# grab element by index\n",
    "pandaSeries[3]\n",
    "# this will grab the 3rd element "
   ]
  },
  {
   "cell_type": "markdown",
   "metadata": {},
   "source": [
    "## Pandas Series as a dict"
   ]
  },
  {
   "cell_type": "code",
   "execution_count": 5,
   "metadata": {},
   "outputs": [
    {
     "data": {
      "text/plain": [
       "A1     5\n",
       "B2    10\n",
       "C3    15\n",
       "D4    20\n",
       "E5    25\n",
       "F6    30\n",
       "dtype: int64"
      ]
     },
     "execution_count": 5,
     "metadata": {},
     "output_type": "execute_result"
    }
   ],
   "source": [
    "# you can create a Pandas Series using a Python dictionary\n",
    "# note: Pandas allows string index, not allowed in Numpy\n",
    "\n",
    "pandaSeries = pd.Series([5,10,15,20,25,30],\n",
    "                       index= ['A1','B2','C3','D4','E5','F6'])\n",
    "\n",
    "pandaSeries"
   ]
  },
  {
   "cell_type": "code",
   "execution_count": 6,
   "metadata": {},
   "outputs": [
    {
     "data": {
      "text/plain": [
       "10"
      ]
     },
     "execution_count": 6,
     "metadata": {},
     "output_type": "execute_result"
    }
   ],
   "source": [
    "# grab the element from the Series\n",
    "pandaSeries['B2']"
   ]
  },
  {
   "cell_type": "markdown",
   "metadata": {},
   "source": [
    "### Series **non-sequential** index "
   ]
  },
  {
   "cell_type": "code",
   "execution_count": 7,
   "metadata": {},
   "outputs": [
    {
     "data": {
      "text/plain": [
       "1.2    40\n",
       "1.0    50\n",
       "1.4    60\n",
       "1.3    70\n",
       "dtype: int64"
      ]
     },
     "execution_count": 7,
     "metadata": {},
     "output_type": "execute_result"
    }
   ],
   "source": [
    "# can create weird index \n",
    "# Pandas Series (non-sequential indices)\n",
    "\n",
    "non_seq_indx = pd.Series([40,50,60,70],\n",
    "                        index= [1.2, 1.0, 1.4, 1.3])\n",
    "\n",
    "# the index is not in order\n",
    "non_seq_indx"
   ]
  },
  {
   "cell_type": "code",
   "execution_count": 9,
   "metadata": {},
   "outputs": [
    {
     "data": {
      "text/plain": [
       "alpha    40\n",
       "bravo    50\n",
       "delta    60\n",
       "gamma    70\n",
       "dtype: int64"
      ]
     },
     "execution_count": 9,
     "metadata": {},
     "output_type": "execute_result"
    }
   ],
   "source": [
    "non_seq_indx = pd.Series([40,50,60,70],\n",
    "                        index= ['alpha','bravo','delta','gamma'])\n",
    "non_seq_indx"
   ]
  },
  {
   "cell_type": "code",
   "execution_count": 115,
   "metadata": {},
   "outputs": [
    {
     "data": {
      "text/html": [
       "<div>\n",
       "<style scoped>\n",
       "    .dataframe tbody tr th:only-of-type {\n",
       "        vertical-align: middle;\n",
       "    }\n",
       "\n",
       "    .dataframe tbody tr th {\n",
       "        vertical-align: top;\n",
       "    }\n",
       "\n",
       "    .dataframe thead th {\n",
       "        text-align: right;\n",
       "    }\n",
       "</style>\n",
       "<table border=\"1\" class=\"dataframe\">\n",
       "  <thead>\n",
       "    <tr style=\"text-align: right;\">\n",
       "      <th></th>\n",
       "      <th>Population</th>\n",
       "    </tr>\n",
       "  </thead>\n",
       "  <tbody>\n",
       "    <tr>\n",
       "      <th>Drayan</th>\n",
       "      <td>383332521</td>\n",
       "    </tr>\n",
       "    <tr>\n",
       "      <th>Etanian</th>\n",
       "      <td>126448193</td>\n",
       "    </tr>\n",
       "    <tr>\n",
       "      <th>Garenor</th>\n",
       "      <td>119651127</td>\n",
       "    </tr>\n",
       "    <tr>\n",
       "      <th>Kazon</th>\n",
       "      <td>129552860</td>\n",
       "    </tr>\n",
       "    <tr>\n",
       "      <th>Nasari</th>\n",
       "      <td>142882135</td>\n",
       "    </tr>\n",
       "  </tbody>\n",
       "</table>\n",
       "</div>"
      ],
      "text/plain": [
       "         Population\n",
       "Drayan    383332521\n",
       "Etanian   126448193\n",
       "Garenor   119651127\n",
       "Kazon     129552860\n",
       "Nasari    142882135"
      ]
     },
     "execution_count": 115,
     "metadata": {},
     "output_type": "execute_result"
    }
   ],
   "source": [
    "# Python dictionary\n",
    "\n",
    "# some planets of the Delta quadrant and population\n",
    "population_dict = {'Drayan': 383332521,\n",
    "                   'Etanian': 126448193,\n",
    "                   'Garenor': 119651127,\n",
    "                   'Kazon': 129552860,\n",
    "                   'Nasari': 142882135,\n",
    "                   ''\n",
    "                  }\n",
    "\n",
    "# TURN DICTIONARY TO PANDAS SERIES\n",
    "population = pd.Series(population_dict)\n",
    "#population\n",
    "\n",
    "# population Series (created from dict) \n",
    "# selecting the column 'population'\n",
    "p = pd.DataFrame(population, columns=['Population'])\n",
    "p"
   ]
  },
  {
   "cell_type": "code",
   "execution_count": 116,
   "metadata": {},
   "outputs": [
    {
     "data": {
      "text/plain": [
       "129552860"
      ]
     },
     "execution_count": 116,
     "metadata": {},
     "output_type": "execute_result"
    }
   ],
   "source": [
    "# access a dictionary element\n",
    "\n",
    "# get the population for planet Kazon\n",
    "population['Kazon']"
   ]
  },
  {
   "cell_type": "code",
   "execution_count": 117,
   "metadata": {},
   "outputs": [
    {
     "data": {
      "text/plain": [
       "Garenor    119651127\n",
       "Kazon      129552860\n",
       "Nasari     142882135\n",
       "dtype: int64"
      ]
     },
     "execution_count": 117,
     "metadata": {},
     "output_type": "execute_result"
    }
   ],
   "source": [
    "# Slice the Panda Series for only Garenor to Nasari\n",
    "\n",
    "population['Garenor':'Nasari']"
   ]
  },
  {
   "cell_type": "code",
   "execution_count": 118,
   "metadata": {},
   "outputs": [
    {
     "data": {
      "text/plain": [
       "8    Episilon-Tango-8\n",
       "6       Delta-Alpha-6\n",
       "3       Tango-Bravo-3\n",
       "dtype: object"
      ]
     },
     "execution_count": 118,
     "metadata": {},
     "output_type": "execute_result"
    }
   ],
   "source": [
    "# data can also be a dictionary, \n",
    "# index is by default sorted by keys\n",
    "\n",
    "pd.Series( \n",
    "    {8:'Episilon-Tango-8',\n",
    "     6:'Delta-Alpha-6', \n",
    "     3:'Tango-Bravo-3'} )"
   ]
  },
  {
   "cell_type": "markdown",
   "metadata": {},
   "source": [
    "## Making a DataFrame"
   ]
  },
  {
   "cell_type": "code",
   "execution_count": 119,
   "metadata": {},
   "outputs": [
    {
     "data": {
      "text/html": [
       "<div>\n",
       "<style scoped>\n",
       "    .dataframe tbody tr th:only-of-type {\n",
       "        vertical-align: middle;\n",
       "    }\n",
       "\n",
       "    .dataframe tbody tr th {\n",
       "        vertical-align: top;\n",
       "    }\n",
       "\n",
       "    .dataframe thead th {\n",
       "        text-align: right;\n",
       "    }\n",
       "</style>\n",
       "<table border=\"1\" class=\"dataframe\">\n",
       "  <thead>\n",
       "    <tr style=\"text-align: right;\">\n",
       "      <th></th>\n",
       "      <th>Alcohol_Level</th>\n",
       "      <th>Num_of_orders</th>\n",
       "    </tr>\n",
       "  </thead>\n",
       "  <tbody>\n",
       "    <tr>\n",
       "      <th>Organia Crush</th>\n",
       "      <td>6.7</td>\n",
       "      <td>34</td>\n",
       "    </tr>\n",
       "    <tr>\n",
       "      <th>Risa Tequila Splash</th>\n",
       "      <td>7.3</td>\n",
       "      <td>247</td>\n",
       "    </tr>\n",
       "    <tr>\n",
       "      <th>Trill Swill</th>\n",
       "      <td>4.5</td>\n",
       "      <td>28</td>\n",
       "    </tr>\n",
       "    <tr>\n",
       "      <th>Barzan Man</th>\n",
       "      <td>8.8</td>\n",
       "      <td>93</td>\n",
       "    </tr>\n",
       "    <tr>\n",
       "      <th>Ardana Banana</th>\n",
       "      <td>7.8</td>\n",
       "      <td>181</td>\n",
       "    </tr>\n",
       "    <tr>\n",
       "      <th>Remus Rum Drum</th>\n",
       "      <td>9.6</td>\n",
       "      <td>9</td>\n",
       "    </tr>\n",
       "    <tr>\n",
       "      <th>Arrithean Gin Mint</th>\n",
       "      <td>8.5</td>\n",
       "      <td>145</td>\n",
       "    </tr>\n",
       "    <tr>\n",
       "      <th>Karemma Berry Punch</th>\n",
       "      <td>9.9</td>\n",
       "      <td>284</td>\n",
       "    </tr>\n",
       "    <tr>\n",
       "      <th>Dosi Tula-Mosh</th>\n",
       "      <td>7.5</td>\n",
       "      <td>147</td>\n",
       "    </tr>\n",
       "    <tr>\n",
       "      <th>Brax the Max</th>\n",
       "      <td>5.5</td>\n",
       "      <td>58</td>\n",
       "    </tr>\n",
       "  </tbody>\n",
       "</table>\n",
       "</div>"
      ],
      "text/plain": [
       "                     Alcohol_Level  Num_of_orders\n",
       "Organia Crush                  6.7             34\n",
       "Risa Tequila Splash            7.3            247\n",
       "Trill Swill                    4.5             28\n",
       "Barzan Man                     8.8             93\n",
       "Ardana Banana                  7.8            181\n",
       "Remus Rum Drum                 9.6              9\n",
       "Arrithean Gin Mint             8.5            145\n",
       "Karemma Berry Punch            9.9            284\n",
       "Dosi Tula-Mosh                 7.5            147\n",
       "Brax the Max                   5.5             58"
      ]
     },
     "execution_count": 119,
     "metadata": {},
     "output_type": "execute_result"
    }
   ],
   "source": [
    "# drinks served at Quark's bar on DS9\n",
    "# name and alcohol by volume level %\n",
    "\n",
    "beverages = pd.Series({\n",
    "    'Organia Crush': 6.7,\n",
    "    'Risa Tequila Splash': 7.3,\n",
    "    'Trill Swill': 4.5,\n",
    "    'Barzan Man': 8.8,\n",
    "    'Ardana Banana': 7.8,\n",
    "    'Remus Rum Drum': 9.6,\n",
    "    'Arrithean Gin Mint': 8.5,\n",
    "    'Karemma Berry Punch': 9.9,\n",
    "    'Dosi Tula-Mosh': 7.5,\n",
    "    'Brax the Max': 5.5\n",
    "    })\n",
    "\n",
    "orders = pd.Series({\n",
    "    'Organia Crush': 34,\n",
    "    'Risa Tequila Splash': 247,\n",
    "    'Trill Swill': 28,\n",
    "    'Barzan Man': 93,\n",
    "    'Ardana Banana': 181,\n",
    "    'Remus Rum Drum': 9,\n",
    "    'Arrithean Gin Mint': 145,\n",
    "    'Karemma Berry Punch': 284,\n",
    "    'Dosi Tula-Mosh': 147,\n",
    "    'Brax the Max': 58\n",
    "    })\n",
    "\n",
    "Quarks_drinks = pd.DataFrame({\n",
    "    'Alcohol_Level':beverages,\n",
    "    'Num_of_orders':orders,\n",
    "    })\n",
    "\n",
    "Quarks_drinks"
   ]
  },
  {
   "cell_type": "code",
   "execution_count": 120,
   "metadata": {},
   "outputs": [
    {
     "data": {
      "text/plain": [
       "Organia Crush           34\n",
       "Risa Tequila Splash    247\n",
       "Trill Swill             28\n",
       "Barzan Man              93\n",
       "Ardana Banana          181\n",
       "Remus Rum Drum           9\n",
       "Arrithean Gin Mint     145\n",
       "Karemma Berry Punch    284\n",
       "Dosi Tula-Mosh         147\n",
       "Brax the Max            58\n",
       "Name: Num_of_orders, dtype: int64"
      ]
     },
     "execution_count": 120,
     "metadata": {},
     "output_type": "execute_result"
    }
   ],
   "source": [
    "Quarks_drinks['Num_of_orders']"
   ]
  },
  {
   "cell_type": "code",
   "execution_count": 121,
   "metadata": {},
   "outputs": [
    {
     "data": {
      "text/plain": [
       "Organia Crush          6.7\n",
       "Risa Tequila Splash    7.3\n",
       "Trill Swill            4.5\n",
       "Barzan Man             8.8\n",
       "Ardana Banana          7.8\n",
       "Remus Rum Drum         9.6\n",
       "Arrithean Gin Mint     8.5\n",
       "Karemma Berry Punch    9.9\n",
       "Dosi Tula-Mosh         7.5\n",
       "Brax the Max           5.5\n",
       "Name: Alcohol_Level, dtype: float64"
      ]
     },
     "execution_count": 121,
     "metadata": {},
     "output_type": "execute_result"
    }
   ],
   "source": [
    "Quarks_drinks['Alcohol_Level']"
   ]
  },
  {
   "cell_type": "markdown",
   "metadata": {},
   "source": [
    "## Pandas **loc** and **iloc**\n",
    "- get elements from a dataframe using <code>.loc</code> for strings\n",
    "and <code>.iloc</code> for integer index value"
   ]
  },
  {
   "cell_type": "code",
   "execution_count": 122,
   "metadata": {},
   "outputs": [
    {
     "data": {
      "text/html": [
       "<div>\n",
       "<style scoped>\n",
       "    .dataframe tbody tr th:only-of-type {\n",
       "        vertical-align: middle;\n",
       "    }\n",
       "\n",
       "    .dataframe tbody tr th {\n",
       "        vertical-align: top;\n",
       "    }\n",
       "\n",
       "    .dataframe thead th {\n",
       "        text-align: right;\n",
       "    }\n",
       "</style>\n",
       "<table border=\"1\" class=\"dataframe\">\n",
       "  <thead>\n",
       "    <tr style=\"text-align: right;\">\n",
       "      <th></th>\n",
       "      <th>Alcohol_Level</th>\n",
       "      <th>Num_of_orders</th>\n",
       "    </tr>\n",
       "  </thead>\n",
       "  <tbody>\n",
       "    <tr>\n",
       "      <th>Organia Crush</th>\n",
       "      <td>6.7</td>\n",
       "      <td>34</td>\n",
       "    </tr>\n",
       "    <tr>\n",
       "      <th>Risa Tequila Splash</th>\n",
       "      <td>7.3</td>\n",
       "      <td>247</td>\n",
       "    </tr>\n",
       "    <tr>\n",
       "      <th>Trill Swill</th>\n",
       "      <td>4.5</td>\n",
       "      <td>28</td>\n",
       "    </tr>\n",
       "  </tbody>\n",
       "</table>\n",
       "</div>"
      ],
      "text/plain": [
       "                     Alcohol_Level  Num_of_orders\n",
       "Organia Crush                  6.7             34\n",
       "Risa Tequila Splash            7.3            247\n",
       "Trill Swill                    4.5             28"
      ]
     },
     "execution_count": 122,
     "metadata": {},
     "output_type": "execute_result"
    }
   ],
   "source": [
    "# to get the first 3 rows\n",
    "# and get the 2 columns of dataframe\n",
    "Quarks_drinks.iloc[:3, :2]"
   ]
  },
  {
   "cell_type": "code",
   "execution_count": 123,
   "metadata": {},
   "outputs": [
    {
     "data": {
      "text/plain": [
       "Alcohol_Level     4.5\n",
       "Num_of_orders    28.0\n",
       "Name: Trill Swill, dtype: float64"
      ]
     },
     "execution_count": 123,
     "metadata": {},
     "output_type": "execute_result"
    }
   ],
   "source": [
    "# get just the drink Trill Swill by name\n",
    "Quarks_drinks.loc['Trill Swill']"
   ]
  },
  {
   "cell_type": "markdown",
   "metadata": {},
   "source": [
    "### *Fancy* indexing elements"
   ]
  },
  {
   "cell_type": "code",
   "execution_count": 125,
   "metadata": {},
   "outputs": [
    {
     "data": {
      "text/html": [
       "<div>\n",
       "<style scoped>\n",
       "    .dataframe tbody tr th:only-of-type {\n",
       "        vertical-align: middle;\n",
       "    }\n",
       "\n",
       "    .dataframe tbody tr th {\n",
       "        vertical-align: top;\n",
       "    }\n",
       "\n",
       "    .dataframe thead th {\n",
       "        text-align: right;\n",
       "    }\n",
       "</style>\n",
       "<table border=\"1\" class=\"dataframe\">\n",
       "  <thead>\n",
       "    <tr style=\"text-align: right;\">\n",
       "      <th></th>\n",
       "      <th>Alcohol_Level</th>\n",
       "      <th>Num_of_orders</th>\n",
       "    </tr>\n",
       "  </thead>\n",
       "  <tbody>\n",
       "    <tr>\n",
       "      <th>Risa Tequila Splash</th>\n",
       "      <td>7.3</td>\n",
       "      <td>247</td>\n",
       "    </tr>\n",
       "    <tr>\n",
       "      <th>Barzan Man</th>\n",
       "      <td>8.8</td>\n",
       "      <td>93</td>\n",
       "    </tr>\n",
       "    <tr>\n",
       "      <th>Ardana Banana</th>\n",
       "      <td>7.8</td>\n",
       "      <td>181</td>\n",
       "    </tr>\n",
       "    <tr>\n",
       "      <th>Remus Rum Drum</th>\n",
       "      <td>9.6</td>\n",
       "      <td>9</td>\n",
       "    </tr>\n",
       "    <tr>\n",
       "      <th>Arrithean Gin Mint</th>\n",
       "      <td>8.5</td>\n",
       "      <td>145</td>\n",
       "    </tr>\n",
       "    <tr>\n",
       "      <th>Karemma Berry Punch</th>\n",
       "      <td>9.9</td>\n",
       "      <td>284</td>\n",
       "    </tr>\n",
       "    <tr>\n",
       "      <th>Dosi Tula-Mosh</th>\n",
       "      <td>7.5</td>\n",
       "      <td>147</td>\n",
       "    </tr>\n",
       "  </tbody>\n",
       "</table>\n",
       "</div>"
      ],
      "text/plain": [
       "                     Alcohol_Level  Num_of_orders\n",
       "Risa Tequila Splash            7.3            247\n",
       "Barzan Man                     8.8             93\n",
       "Ardana Banana                  7.8            181\n",
       "Remus Rum Drum                 9.6              9\n",
       "Arrithean Gin Mint             8.5            145\n",
       "Karemma Berry Punch            9.9            284\n",
       "Dosi Tula-Mosh                 7.5            147"
      ]
     },
     "execution_count": 125,
     "metadata": {},
     "output_type": "execute_result"
    }
   ],
   "source": [
    "# Fancy indexing\n",
    "\n",
    "# let's find drinks that have alcohol levels greater than 7\n",
    "# also show both columns\n",
    "Quarks_drinks.loc[Quarks_drinks.Alcohol_Level > 7,\n",
    "                 ['Alcohol_Level','Num_of_orders']]\n"
   ]
  },
  {
   "cell_type": "code",
   "execution_count": 130,
   "metadata": {},
   "outputs": [
    {
     "data": {
      "text/html": [
       "<div>\n",
       "<style scoped>\n",
       "    .dataframe tbody tr th:only-of-type {\n",
       "        vertical-align: middle;\n",
       "    }\n",
       "\n",
       "    .dataframe tbody tr th {\n",
       "        vertical-align: top;\n",
       "    }\n",
       "\n",
       "    .dataframe thead th {\n",
       "        text-align: right;\n",
       "    }\n",
       "</style>\n",
       "<table border=\"1\" class=\"dataframe\">\n",
       "  <thead>\n",
       "    <tr style=\"text-align: right;\">\n",
       "      <th></th>\n",
       "      <th>Alcohol_Level</th>\n",
       "      <th>Num_of_orders</th>\n",
       "    </tr>\n",
       "  </thead>\n",
       "  <tbody>\n",
       "    <tr>\n",
       "      <th>Organia Crush</th>\n",
       "      <td>6.7</td>\n",
       "      <td>34</td>\n",
       "    </tr>\n",
       "    <tr>\n",
       "      <th>Risa Tequila Splash</th>\n",
       "      <td>7.3</td>\n",
       "      <td>247</td>\n",
       "    </tr>\n",
       "    <tr>\n",
       "      <th>Trill Swill</th>\n",
       "      <td>4.5</td>\n",
       "      <td>28</td>\n",
       "    </tr>\n",
       "    <tr>\n",
       "      <th>Barzan Man</th>\n",
       "      <td>8.8</td>\n",
       "      <td>93</td>\n",
       "    </tr>\n",
       "    <tr>\n",
       "      <th>Ardana Banana</th>\n",
       "      <td>7.8</td>\n",
       "      <td>181</td>\n",
       "    </tr>\n",
       "    <tr>\n",
       "      <th>Remus Rum Drum</th>\n",
       "      <td>9.6</td>\n",
       "      <td>39</td>\n",
       "    </tr>\n",
       "    <tr>\n",
       "      <th>Arrithean Gin Mint</th>\n",
       "      <td>8.5</td>\n",
       "      <td>145</td>\n",
       "    </tr>\n",
       "    <tr>\n",
       "      <th>Karemma Berry Punch</th>\n",
       "      <td>9.9</td>\n",
       "      <td>284</td>\n",
       "    </tr>\n",
       "    <tr>\n",
       "      <th>Dosi Tula-Mosh</th>\n",
       "      <td>7.5</td>\n",
       "      <td>147</td>\n",
       "    </tr>\n",
       "    <tr>\n",
       "      <th>Brax the Max</th>\n",
       "      <td>5.5</td>\n",
       "      <td>58</td>\n",
       "    </tr>\n",
       "  </tbody>\n",
       "</table>\n",
       "</div>"
      ],
      "text/plain": [
       "                     Alcohol_Level  Num_of_orders\n",
       "Organia Crush                  6.7             34\n",
       "Risa Tequila Splash            7.3            247\n",
       "Trill Swill                    4.5             28\n",
       "Barzan Man                     8.8             93\n",
       "Ardana Banana                  7.8            181\n",
       "Remus Rum Drum                 9.6             39\n",
       "Arrithean Gin Mint             8.5            145\n",
       "Karemma Berry Punch            9.9            284\n",
       "Dosi Tula-Mosh                 7.5            147\n",
       "Brax the Max                   5.5             58"
      ]
     },
     "execution_count": 130,
     "metadata": {},
     "output_type": "execute_result"
    }
   ],
   "source": [
    "# custom indexing\n",
    "\n",
    "# the drink Remus Rum Drum now has 30 more orders\n",
    "# let's change that value\n",
    "# row, column = new_value\n",
    "Quarks_drinks.iloc[5,1] = 9+30\n",
    "Quarks_drinks"
   ]
  },
  {
   "cell_type": "code",
   "execution_count": 139,
   "metadata": {},
   "outputs": [
    {
     "data": {
      "text/html": [
       "<div>\n",
       "<style scoped>\n",
       "    .dataframe tbody tr th:only-of-type {\n",
       "        vertical-align: middle;\n",
       "    }\n",
       "\n",
       "    .dataframe tbody tr th {\n",
       "        vertical-align: top;\n",
       "    }\n",
       "\n",
       "    .dataframe thead th {\n",
       "        text-align: right;\n",
       "    }\n",
       "</style>\n",
       "<table border=\"1\" class=\"dataframe\">\n",
       "  <thead>\n",
       "    <tr style=\"text-align: right;\">\n",
       "      <th></th>\n",
       "      <th>Alcohol_Level</th>\n",
       "      <th>Num_of_orders</th>\n",
       "    </tr>\n",
       "  </thead>\n",
       "  <tbody>\n",
       "    <tr>\n",
       "      <th>Barzan Man</th>\n",
       "      <td>8.8</td>\n",
       "      <td>93</td>\n",
       "    </tr>\n",
       "    <tr>\n",
       "      <th>Ardana Banana</th>\n",
       "      <td>7.8</td>\n",
       "      <td>181</td>\n",
       "    </tr>\n",
       "    <tr>\n",
       "      <th>Remus Rum Drum</th>\n",
       "      <td>9.6</td>\n",
       "      <td>39</td>\n",
       "    </tr>\n",
       "    <tr>\n",
       "      <th>Arrithean Gin Mint</th>\n",
       "      <td>8.5</td>\n",
       "      <td>145</td>\n",
       "    </tr>\n",
       "  </tbody>\n",
       "</table>\n",
       "</div>"
      ],
      "text/plain": [
       "                    Alcohol_Level  Num_of_orders\n",
       "Barzan Man                    8.8             93\n",
       "Ardana Banana                 7.8            181\n",
       "Remus Rum Drum                9.6             39\n",
       "Arrithean Gin Mint            8.5            145"
      ]
     },
     "execution_count": 139,
     "metadata": {},
     "output_type": "execute_result"
    }
   ],
   "source": [
    "# the dataframe slice\n",
    "Quarks_drinks[3:7]"
   ]
  },
  {
   "cell_type": "code",
   "execution_count": 140,
   "metadata": {},
   "outputs": [
    {
     "data": {
      "text/html": [
       "<div>\n",
       "<style scoped>\n",
       "    .dataframe tbody tr th:only-of-type {\n",
       "        vertical-align: middle;\n",
       "    }\n",
       "\n",
       "    .dataframe tbody tr th {\n",
       "        vertical-align: top;\n",
       "    }\n",
       "\n",
       "    .dataframe thead th {\n",
       "        text-align: right;\n",
       "    }\n",
       "</style>\n",
       "<table border=\"1\" class=\"dataframe\">\n",
       "  <thead>\n",
       "    <tr style=\"text-align: right;\">\n",
       "      <th></th>\n",
       "      <th>Alcohol_Level</th>\n",
       "      <th>Num_of_orders</th>\n",
       "    </tr>\n",
       "  </thead>\n",
       "  <tbody>\n",
       "    <tr>\n",
       "      <th>Barzan Man</th>\n",
       "      <td>8.8</td>\n",
       "      <td>93</td>\n",
       "    </tr>\n",
       "    <tr>\n",
       "      <th>Ardana Banana</th>\n",
       "      <td>7.8</td>\n",
       "      <td>181</td>\n",
       "    </tr>\n",
       "    <tr>\n",
       "      <th>Remus Rum Drum</th>\n",
       "      <td>9.6</td>\n",
       "      <td>39</td>\n",
       "    </tr>\n",
       "    <tr>\n",
       "      <th>Arrithean Gin Mint</th>\n",
       "      <td>8.5</td>\n",
       "      <td>145</td>\n",
       "    </tr>\n",
       "  </tbody>\n",
       "</table>\n",
       "</div>"
      ],
      "text/plain": [
       "                    Alcohol_Level  Num_of_orders\n",
       "Barzan Man                    8.8             93\n",
       "Ardana Banana                 7.8            181\n",
       "Remus Rum Drum                9.6             39\n",
       "Arrithean Gin Mint            8.5            145"
      ]
     },
     "execution_count": 140,
     "metadata": {},
     "output_type": "execute_result"
    }
   ],
   "source": [
    "Quarks_drinks['Barzan Man': 'Arrithean Gin Mint']"
   ]
  },
  {
   "cell_type": "code",
   "execution_count": 141,
   "metadata": {},
   "outputs": [
    {
     "data": {
      "text/html": [
       "<div>\n",
       "<style scoped>\n",
       "    .dataframe tbody tr th:only-of-type {\n",
       "        vertical-align: middle;\n",
       "    }\n",
       "\n",
       "    .dataframe tbody tr th {\n",
       "        vertical-align: top;\n",
       "    }\n",
       "\n",
       "    .dataframe thead th {\n",
       "        text-align: right;\n",
       "    }\n",
       "</style>\n",
       "<table border=\"1\" class=\"dataframe\">\n",
       "  <thead>\n",
       "    <tr style=\"text-align: right;\">\n",
       "      <th></th>\n",
       "      <th>Alcohol_Level</th>\n",
       "      <th>Num_of_orders</th>\n",
       "    </tr>\n",
       "  </thead>\n",
       "  <tbody>\n",
       "    <tr>\n",
       "      <th>Barzan Man</th>\n",
       "      <td>8.8</td>\n",
       "      <td>93</td>\n",
       "    </tr>\n",
       "    <tr>\n",
       "      <th>Remus Rum Drum</th>\n",
       "      <td>9.6</td>\n",
       "      <td>39</td>\n",
       "    </tr>\n",
       "    <tr>\n",
       "      <th>Arrithean Gin Mint</th>\n",
       "      <td>8.5</td>\n",
       "      <td>145</td>\n",
       "    </tr>\n",
       "    <tr>\n",
       "      <th>Karemma Berry Punch</th>\n",
       "      <td>9.9</td>\n",
       "      <td>284</td>\n",
       "    </tr>\n",
       "  </tbody>\n",
       "</table>\n",
       "</div>"
      ],
      "text/plain": [
       "                     Alcohol_Level  Num_of_orders\n",
       "Barzan Man                     8.8             93\n",
       "Remus Rum Drum                 9.6             39\n",
       "Arrithean Gin Mint             8.5            145\n",
       "Karemma Berry Punch            9.9            284"
      ]
     },
     "execution_count": 141,
     "metadata": {},
     "output_type": "execute_result"
    }
   ],
   "source": [
    "# masking\n",
    "\n",
    "# dataframe [ dataframe dot columnName <condition> ]\n",
    "# get drinks that have higher than 8 alcohol level\n",
    "Quarks_drinks[Quarks_drinks.Alcohol_Level >8]"
   ]
  },
  {
   "cell_type": "markdown",
   "metadata": {},
   "source": [
    "### Create another DataFrame"
   ]
  },
  {
   "cell_type": "code",
   "execution_count": 143,
   "metadata": {},
   "outputs": [
    {
     "data": {
      "text/html": [
       "<div>\n",
       "<style scoped>\n",
       "    .dataframe tbody tr th:only-of-type {\n",
       "        vertical-align: middle;\n",
       "    }\n",
       "\n",
       "    .dataframe tbody tr th {\n",
       "        vertical-align: top;\n",
       "    }\n",
       "\n",
       "    .dataframe thead th {\n",
       "        text-align: right;\n",
       "    }\n",
       "</style>\n",
       "<table border=\"1\" class=\"dataframe\">\n",
       "  <thead>\n",
       "    <tr style=\"text-align: right;\">\n",
       "      <th></th>\n",
       "      <th>holosuite1</th>\n",
       "      <th>holosuite2</th>\n",
       "      <th>holosuite3</th>\n",
       "      <th>holosuite4</th>\n",
       "    </tr>\n",
       "  </thead>\n",
       "  <tbody>\n",
       "    <tr>\n",
       "      <th>0</th>\n",
       "      <td>302</td>\n",
       "      <td>88</td>\n",
       "      <td>254</td>\n",
       "      <td>110</td>\n",
       "    </tr>\n",
       "    <tr>\n",
       "      <th>1</th>\n",
       "      <td>205</td>\n",
       "      <td>219</td>\n",
       "      <td>263</td>\n",
       "      <td>347</td>\n",
       "    </tr>\n",
       "    <tr>\n",
       "      <th>2</th>\n",
       "      <td>329</td>\n",
       "      <td>134</td>\n",
       "      <td>163</td>\n",
       "      <td>234</td>\n",
       "    </tr>\n",
       "    <tr>\n",
       "      <th>3</th>\n",
       "      <td>61</td>\n",
       "      <td>372</td>\n",
       "      <td>285</td>\n",
       "      <td>294</td>\n",
       "    </tr>\n",
       "  </tbody>\n",
       "</table>\n",
       "</div>"
      ],
      "text/plain": [
       "   holosuite1  holosuite2  holosuite3  holosuite4\n",
       "0         302          88         254         110\n",
       "1         205         219         263         347\n",
       "2         329         134         163         234\n",
       "3          61         372         285         294"
      ]
     },
     "execution_count": 143,
     "metadata": {},
     "output_type": "execute_result"
    }
   ],
   "source": [
    "# create a dataframe that has holosuite usage per holosuite\n",
    "# we will randomly generate the values\n",
    "\n",
    "# randint(60, 402) generate integer numbers from 60 to 401\n",
    "# (4,4) is 4 rows by 4 column matrix\n",
    "\n",
    "holosuites = pd.DataFrame(np.random.randint(60,402, (4,4)),\n",
    "                          columns=['holosuite1',\n",
    "                                   'holosuite2',\n",
    "                                   'holosuite3',\n",
    "                                   'holosuite4'] )\n",
    "\n",
    "holosuites"
   ]
  },
  {
   "cell_type": "code",
   "execution_count": 152,
   "metadata": {},
   "outputs": [
    {
     "data": {
      "text/html": [
       "<div>\n",
       "<style scoped>\n",
       "    .dataframe tbody tr th:only-of-type {\n",
       "        vertical-align: middle;\n",
       "    }\n",
       "\n",
       "    .dataframe tbody tr th {\n",
       "        vertical-align: top;\n",
       "    }\n",
       "\n",
       "    .dataframe thead th {\n",
       "        text-align: right;\n",
       "    }\n",
       "</style>\n",
       "<table border=\"1\" class=\"dataframe\">\n",
       "  <thead>\n",
       "    <tr style=\"text-align: right;\">\n",
       "      <th></th>\n",
       "      <th>holosuite1</th>\n",
       "      <th>holosuite2</th>\n",
       "      <th>holosuite3</th>\n",
       "      <th>holosuite4</th>\n",
       "    </tr>\n",
       "  </thead>\n",
       "  <tbody>\n",
       "    <tr>\n",
       "      <th>0</th>\n",
       "      <td>302</td>\n",
       "      <td>88</td>\n",
       "      <td>254</td>\n",
       "      <td>110</td>\n",
       "    </tr>\n",
       "    <tr>\n",
       "      <th>1</th>\n",
       "      <td>205</td>\n",
       "      <td>219</td>\n",
       "      <td>263</td>\n",
       "      <td>347</td>\n",
       "    </tr>\n",
       "    <tr>\n",
       "      <th>2</th>\n",
       "      <td>329</td>\n",
       "      <td>134</td>\n",
       "      <td>163</td>\n",
       "      <td>234</td>\n",
       "    </tr>\n",
       "  </tbody>\n",
       "</table>\n",
       "</div>"
      ],
      "text/plain": [
       "   holosuite1  holosuite2  holosuite3  holosuite4\n",
       "0         302          88         254         110\n",
       "1         205         219         263         347\n",
       "2         329         134         163         234"
      ]
     },
     "execution_count": 152,
     "metadata": {},
     "output_type": "execute_result"
    }
   ],
   "source": [
    "# dataframe [dataframe . column <condition>]\n",
    "holosuites[holosuites.holosuite1 > 100]"
   ]
  },
  {
   "cell_type": "markdown",
   "metadata": {},
   "source": [
    "## Pandas DataFrame index with list"
   ]
  },
  {
   "cell_type": "code",
   "execution_count": 165,
   "metadata": {},
   "outputs": [
    {
     "data": {
      "text/html": [
       "<div>\n",
       "<style scoped>\n",
       "    .dataframe tbody tr th:only-of-type {\n",
       "        vertical-align: middle;\n",
       "    }\n",
       "\n",
       "    .dataframe tbody tr th {\n",
       "        vertical-align: top;\n",
       "    }\n",
       "\n",
       "    .dataframe thead th {\n",
       "        text-align: right;\n",
       "    }\n",
       "</style>\n",
       "<table border=\"1\" class=\"dataframe\">\n",
       "  <thead>\n",
       "    <tr style=\"text-align: right;\">\n",
       "      <th></th>\n",
       "      <th>CargoBay_1</th>\n",
       "      <th>CargoBay_2</th>\n",
       "      <th>CargoBay_3</th>\n",
       "      <th>CargoBay_4</th>\n",
       "    </tr>\n",
       "  </thead>\n",
       "  <tbody>\n",
       "    <tr>\n",
       "      <th>weaponry</th>\n",
       "      <td>28</td>\n",
       "      <td>28</td>\n",
       "      <td>20</td>\n",
       "      <td>28</td>\n",
       "    </tr>\n",
       "    <tr>\n",
       "      <th>food</th>\n",
       "      <td>12</td>\n",
       "      <td>11</td>\n",
       "      <td>7</td>\n",
       "      <td>4</td>\n",
       "    </tr>\n",
       "    <tr>\n",
       "      <th>technology</th>\n",
       "      <td>15</td>\n",
       "      <td>14</td>\n",
       "      <td>20</td>\n",
       "      <td>18</td>\n",
       "    </tr>\n",
       "    <tr>\n",
       "      <th>other</th>\n",
       "      <td>17</td>\n",
       "      <td>21</td>\n",
       "      <td>27</td>\n",
       "      <td>3</td>\n",
       "    </tr>\n",
       "  </tbody>\n",
       "</table>\n",
       "</div>"
      ],
      "text/plain": [
       "            CargoBay_1  CargoBay_2  CargoBay_3  CargoBay_4\n",
       "weaponry            28          28          20          28\n",
       "food                12          11           7           4\n",
       "technology          15          14          20          18\n",
       "other               17          21          27           3"
      ]
     },
     "execution_count": 165,
     "metadata": {},
     "output_type": "execute_result"
    }
   ],
   "source": [
    "# using a list for making a dataframe\n",
    "# use random integers for values, 3x3 matrix\n",
    "\n",
    "# * note: number of items in lists must match in length! *\n",
    "\n",
    "# the Cargo Bay is a busy place, \n",
    "# make a dataframe for listing the number of items\n",
    "# for each Cargo Bay and type of item\n",
    "\n",
    "CargoBay = pd.DataFrame(\n",
    "    # generate integers from 2 to 30, 4x4 matrix\n",
    "    np.random.randint(2,30, (4,4)),\n",
    "    columns= ['CargoBay_1','CargoBay_2','CargoBay_3','CargoBay_4'],\n",
    "    index=['weaponry','food','technology','other']\n",
    ")\n",
    "CargoBay"
   ]
  },
  {
   "cell_type": "markdown",
   "metadata": {},
   "source": [
    "### multi index Series or DataFrame"
   ]
  },
  {
   "cell_type": "code",
   "execution_count": 177,
   "metadata": {},
   "outputs": [
    {
     "data": {
      "text/html": [
       "<div>\n",
       "<style scoped>\n",
       "    .dataframe tbody tr th:only-of-type {\n",
       "        vertical-align: middle;\n",
       "    }\n",
       "\n",
       "    .dataframe tbody tr th {\n",
       "        vertical-align: top;\n",
       "    }\n",
       "\n",
       "    .dataframe thead th {\n",
       "        text-align: right;\n",
       "    }\n",
       "</style>\n",
       "<table border=\"1\" class=\"dataframe\">\n",
       "  <thead>\n",
       "    <tr style=\"text-align: right;\">\n",
       "      <th></th>\n",
       "      <th></th>\n",
       "      <th>dock_1</th>\n",
       "      <th>dock_2</th>\n",
       "      <th>dock_3</th>\n",
       "    </tr>\n",
       "  </thead>\n",
       "  <tbody>\n",
       "    <tr>\n",
       "      <th rowspan=\"2\" valign=\"top\">Section A</th>\n",
       "      <th>1</th>\n",
       "      <td>106</td>\n",
       "      <td>97</td>\n",
       "      <td>59</td>\n",
       "    </tr>\n",
       "    <tr>\n",
       "      <th>2</th>\n",
       "      <td>41</td>\n",
       "      <td>122</td>\n",
       "      <td>49</td>\n",
       "    </tr>\n",
       "    <tr>\n",
       "      <th rowspan=\"2\" valign=\"top\">Section B</th>\n",
       "      <th>1</th>\n",
       "      <td>192</td>\n",
       "      <td>50</td>\n",
       "      <td>132</td>\n",
       "    </tr>\n",
       "    <tr>\n",
       "      <th>2</th>\n",
       "      <td>68</td>\n",
       "      <td>186</td>\n",
       "      <td>84</td>\n",
       "    </tr>\n",
       "    <tr>\n",
       "      <th rowspan=\"2\" valign=\"top\">Section C</th>\n",
       "      <th>1</th>\n",
       "      <td>138</td>\n",
       "      <td>172</td>\n",
       "      <td>102</td>\n",
       "    </tr>\n",
       "    <tr>\n",
       "      <th>2</th>\n",
       "      <td>87</td>\n",
       "      <td>154</td>\n",
       "      <td>170</td>\n",
       "    </tr>\n",
       "  </tbody>\n",
       "</table>\n",
       "</div>"
      ],
      "text/plain": [
       "             dock_1  dock_2  dock_3\n",
       "Section A 1     106      97      59\n",
       "          2      41     122      49\n",
       "Section B 1     192      50     132\n",
       "          2      68     186      84\n",
       "Section C 1     138     172     102\n",
       "          2      87     154     170"
      ]
     },
     "execution_count": 177,
     "metadata": {},
     "output_type": "execute_result"
    }
   ],
   "source": [
    "# let's make a docking log dataframe\n",
    "# 3 docking stations\n",
    "# 3 sections \n",
    "# 2 doors\n",
    "# random values for count of ships that have docked\n",
    "\n",
    "df = pd.DataFrame(np.random.randint(0,200,(6, 3)),\n",
    "                  index=[['Section A', \n",
    "                          'Section A', \n",
    "                          'Section B', \n",
    "                          'Section B',\n",
    "                          'Section C',\n",
    "                          'Section C'], \n",
    "                         [1, 2, 1, 2, 1,2]],\n",
    "                  columns=['dock_1', 'dock_2','dock_3'])\n",
    "df"
   ]
  },
  {
   "cell_type": "markdown",
   "metadata": {},
   "source": [
    "## **Merge & Join** dataframes\n",
    "\n",
    "Merge & Join a Pandas Series or DataFrame. <code>pd.merge()</code>\n",
    "\n",
    "- 1 to 1 join\n",
    "- many to 1 join\n",
    "- many to many join\n",
    "- Merge options: \n",
    "    - left_on=None, \n",
    "    - right_on=None, \n",
    "    - left_index=False, \n",
    "    - right_index=False"
   ]
  },
  {
   "cell_type": "markdown",
   "metadata": {},
   "source": [
    "## one to one **Join**"
   ]
  },
  {
   "cell_type": "code",
   "execution_count": 184,
   "metadata": {},
   "outputs": [
    {
     "data": {
      "text/html": [
       "<div>\n",
       "<style scoped>\n",
       "    .dataframe tbody tr th:only-of-type {\n",
       "        vertical-align: middle;\n",
       "    }\n",
       "\n",
       "    .dataframe tbody tr th {\n",
       "        vertical-align: top;\n",
       "    }\n",
       "\n",
       "    .dataframe thead th {\n",
       "        text-align: right;\n",
       "    }\n",
       "</style>\n",
       "<table border=\"1\" class=\"dataframe\">\n",
       "  <thead>\n",
       "    <tr style=\"text-align: right;\">\n",
       "      <th></th>\n",
       "      <th>Officers</th>\n",
       "      <th>Department</th>\n",
       "      <th>Honours</th>\n",
       "    </tr>\n",
       "  </thead>\n",
       "  <tbody>\n",
       "    <tr>\n",
       "      <th>0</th>\n",
       "      <td>Dax</td>\n",
       "      <td>Science</td>\n",
       "      <td>14</td>\n",
       "    </tr>\n",
       "    <tr>\n",
       "      <th>1</th>\n",
       "      <td>Sisko</td>\n",
       "      <td>Command</td>\n",
       "      <td>3</td>\n",
       "    </tr>\n",
       "    <tr>\n",
       "      <th>2</th>\n",
       "      <td>Nerys</td>\n",
       "      <td>Command</td>\n",
       "      <td>0</td>\n",
       "    </tr>\n",
       "    <tr>\n",
       "      <th>3</th>\n",
       "      <td>Worf</td>\n",
       "      <td>Operations</td>\n",
       "      <td>5</td>\n",
       "    </tr>\n",
       "    <tr>\n",
       "      <th>4</th>\n",
       "      <td>OBrien</td>\n",
       "      <td>Engineering</td>\n",
       "      <td>4</td>\n",
       "    </tr>\n",
       "    <tr>\n",
       "      <th>5</th>\n",
       "      <td>Bashir</td>\n",
       "      <td>Medical</td>\n",
       "      <td>2</td>\n",
       "    </tr>\n",
       "    <tr>\n",
       "      <th>6</th>\n",
       "      <td>Odo</td>\n",
       "      <td>Security</td>\n",
       "      <td>0</td>\n",
       "    </tr>\n",
       "  </tbody>\n",
       "</table>\n",
       "</div>"
      ],
      "text/plain": [
       "  Officers   Department  Honours\n",
       "0      Dax      Science       14\n",
       "1    Sisko      Command        3\n",
       "2    Nerys      Command        0\n",
       "3     Worf   Operations        5\n",
       "4   OBrien  Engineering        4\n",
       "5   Bashir      Medical        2\n",
       "6      Odo     Security        0"
      ]
     },
     "execution_count": 184,
     "metadata": {},
     "output_type": "execute_result"
    }
   ],
   "source": [
    "# one to one dataframe join\n",
    "\n",
    "df1 = pd.DataFrame({\n",
    "    'Officers': [\n",
    "        'Dax', 'Sisko', 'Nerys','Worf', 'OBrien','Bashir','Odo'], # = 7\n",
    "    'Department': [\n",
    "        'Science', \n",
    "        'Command', \n",
    "        'Command',\n",
    "        'Operations', \n",
    "        'Engineering',\n",
    "        'Medical',\n",
    "        'Security'] #= 7\n",
    "    })\n",
    "\n",
    "df2 = pd.DataFrame({\n",
    "    #= 7\n",
    "    'Officers': ['Dax', 'Sisko','Nerys', 'Worf', 'OBrien','Bashir','Odo'],\n",
    "    #= 7\n",
    "    'Honours': [14, 3, 0, 5, 4, 2,0]})\n",
    "\n",
    "# NOTE: the Series/column 'Officers' is the key for joining tables\n",
    "df3 = pd.merge(df1, df2) \n",
    "df3"
   ]
  },
  {
   "cell_type": "markdown",
   "metadata": {},
   "source": [
    "## Many to one **Join**"
   ]
  },
  {
   "cell_type": "code",
   "execution_count": 208,
   "metadata": {},
   "outputs": [
    {
     "data": {
      "text/html": [
       "<div>\n",
       "<style scoped>\n",
       "    .dataframe tbody tr th:only-of-type {\n",
       "        vertical-align: middle;\n",
       "    }\n",
       "\n",
       "    .dataframe tbody tr th {\n",
       "        vertical-align: top;\n",
       "    }\n",
       "\n",
       "    .dataframe thead th {\n",
       "        text-align: right;\n",
       "    }\n",
       "</style>\n",
       "<table border=\"1\" class=\"dataframe\">\n",
       "  <thead>\n",
       "    <tr style=\"text-align: right;\">\n",
       "      <th></th>\n",
       "      <th>Officers</th>\n",
       "      <th>Department</th>\n",
       "      <th>Honours</th>\n",
       "      <th>Combat_Experience</th>\n",
       "    </tr>\n",
       "  </thead>\n",
       "  <tbody>\n",
       "    <tr>\n",
       "      <th>0</th>\n",
       "      <td>Dax</td>\n",
       "      <td>Science</td>\n",
       "      <td>14</td>\n",
       "      <td>1</td>\n",
       "    </tr>\n",
       "    <tr>\n",
       "      <th>1</th>\n",
       "      <td>Sisko</td>\n",
       "      <td>Command</td>\n",
       "      <td>3</td>\n",
       "      <td>1</td>\n",
       "    </tr>\n",
       "    <tr>\n",
       "      <th>2</th>\n",
       "      <td>Nerys</td>\n",
       "      <td>Command</td>\n",
       "      <td>0</td>\n",
       "      <td>1</td>\n",
       "    </tr>\n",
       "    <tr>\n",
       "      <th>3</th>\n",
       "      <td>Worf</td>\n",
       "      <td>Operations</td>\n",
       "      <td>5</td>\n",
       "      <td>1</td>\n",
       "    </tr>\n",
       "    <tr>\n",
       "      <th>4</th>\n",
       "      <td>OBrien</td>\n",
       "      <td>Engineering</td>\n",
       "      <td>4</td>\n",
       "      <td>1</td>\n",
       "    </tr>\n",
       "    <tr>\n",
       "      <th>5</th>\n",
       "      <td>Bashir</td>\n",
       "      <td>Medical</td>\n",
       "      <td>2</td>\n",
       "      <td>0</td>\n",
       "    </tr>\n",
       "    <tr>\n",
       "      <th>6</th>\n",
       "      <td>Odo</td>\n",
       "      <td>Security</td>\n",
       "      <td>0</td>\n",
       "      <td>0</td>\n",
       "    </tr>\n",
       "  </tbody>\n",
       "</table>\n",
       "</div>"
      ],
      "text/plain": [
       "  Officers   Department  Honours  Combat_Experience\n",
       "0      Dax      Science       14                  1\n",
       "1    Sisko      Command        3                  1\n",
       "2    Nerys      Command        0                  1\n",
       "3     Worf   Operations        5                  1\n",
       "4   OBrien  Engineering        4                  1\n",
       "5   Bashir      Medical        2                  0\n",
       "6      Odo     Security        0                  0"
      ]
     },
     "execution_count": 208,
     "metadata": {},
     "output_type": "execute_result"
    }
   ],
   "source": [
    "df4 = pd.DataFrame({\n",
    "    'Officers': [\n",
    "        'Dax', 'Sisko', 'Nerys','Worf', 'OBrien','Bashir','Odo'],\n",
    "    'Department': [\n",
    "        'Science', \n",
    "        'Command', \n",
    "        'Command',\n",
    "        'Operations', \n",
    "        'Engineering',\n",
    "        'Medical',\n",
    "        'Security'\n",
    "    ],\n",
    "    'Combat_Experience': [\n",
    "        1,1,1,1,1,0,0]})\n",
    "\n",
    "#print(df3)\n",
    "\n",
    "\n",
    "pd.merge(df3,df4)"
   ]
  },
  {
   "cell_type": "markdown",
   "metadata": {},
   "source": [
    "## Many to Many **Join**"
   ]
  },
  {
   "cell_type": "code",
   "execution_count": 207,
   "metadata": {
    "scrolled": true
   },
   "outputs": [
    {
     "data": {
      "text/html": [
       "<div>\n",
       "<style scoped>\n",
       "    .dataframe tbody tr th:only-of-type {\n",
       "        vertical-align: middle;\n",
       "    }\n",
       "\n",
       "    .dataframe tbody tr th {\n",
       "        vertical-align: top;\n",
       "    }\n",
       "\n",
       "    .dataframe thead th {\n",
       "        text-align: right;\n",
       "    }\n",
       "</style>\n",
       "<table border=\"1\" class=\"dataframe\">\n",
       "  <thead>\n",
       "    <tr style=\"text-align: right;\">\n",
       "      <th></th>\n",
       "      <th>Officers</th>\n",
       "      <th>Department</th>\n",
       "      <th>Honours</th>\n",
       "      <th>Skills</th>\n",
       "    </tr>\n",
       "  </thead>\n",
       "  <tbody>\n",
       "    <tr>\n",
       "      <th>0</th>\n",
       "      <td>Dax</td>\n",
       "      <td>Science</td>\n",
       "      <td>14</td>\n",
       "      <td>Geospatial Calculus, Problem Solving</td>\n",
       "    </tr>\n",
       "    <tr>\n",
       "      <th>1</th>\n",
       "      <td>Sisko</td>\n",
       "      <td>Command</td>\n",
       "      <td>3</td>\n",
       "      <td>Political &amp; Religious diplomacy</td>\n",
       "    </tr>\n",
       "    <tr>\n",
       "      <th>2</th>\n",
       "      <td>Nerys</td>\n",
       "      <td>Command</td>\n",
       "      <td>0</td>\n",
       "      <td>Planning &amp; Execution</td>\n",
       "    </tr>\n",
       "    <tr>\n",
       "      <th>3</th>\n",
       "      <td>Worf</td>\n",
       "      <td>Operations</td>\n",
       "      <td>5</td>\n",
       "      <td>Combat &amp; Training</td>\n",
       "    </tr>\n",
       "    <tr>\n",
       "      <th>4</th>\n",
       "      <td>OBrien</td>\n",
       "      <td>Engineering</td>\n",
       "      <td>4</td>\n",
       "      <td>Systems Problem Solving</td>\n",
       "    </tr>\n",
       "    <tr>\n",
       "      <th>5</th>\n",
       "      <td>Bashir</td>\n",
       "      <td>Medical</td>\n",
       "      <td>2</td>\n",
       "      <td>Diagnostics</td>\n",
       "    </tr>\n",
       "    <tr>\n",
       "      <th>6</th>\n",
       "      <td>Odo</td>\n",
       "      <td>Security</td>\n",
       "      <td>0</td>\n",
       "      <td>Criminal Justice</td>\n",
       "    </tr>\n",
       "  </tbody>\n",
       "</table>\n",
       "</div>"
      ],
      "text/plain": [
       "  Officers   Department  Honours                                Skills\n",
       "0      Dax      Science       14  Geospatial Calculus, Problem Solving\n",
       "1    Sisko      Command        3       Political & Religious diplomacy\n",
       "2    Nerys      Command        0                  Planning & Execution\n",
       "3     Worf   Operations        5                     Combat & Training\n",
       "4   OBrien  Engineering        4               Systems Problem Solving\n",
       "5   Bashir      Medical        2                           Diagnostics\n",
       "6      Odo     Security        0                      Criminal Justice"
      ]
     },
     "execution_count": 207,
     "metadata": {},
     "output_type": "execute_result"
    }
   ],
   "source": [
    "df5 = pd.DataFrame({\n",
    "    'Officers': [\n",
    "        'Dax', 'Sisko', 'Nerys','Worf', 'OBrien','Bashir','Odo'],\n",
    "    'Department': [\n",
    "        'Science', \n",
    "        'Command', \n",
    "        'Command',\n",
    "        'Operations', \n",
    "        'Engineering',\n",
    "        'Medical',\n",
    "        'Security'],\n",
    "    \n",
    "    'Skills': [\n",
    "        'Geospatial Calculus, Problem Solving',\n",
    "        'Political & Religious diplomacy',\n",
    "        'Planning & Execution',\n",
    "        'Combat & Training',\n",
    "        'Systems Problem Solving',\n",
    "        'Diagnostics',\n",
    "        'Criminal Justice'\n",
    "    ]}\n",
    "    )\n",
    "\n",
    "#print(df1)\n",
    "pd.merge(df3, df5)"
   ]
  },
  {
   "cell_type": "markdown",
   "metadata": {},
   "source": [
    "### Pandas merge **on** keyword\n",
    "- you can explicitly specify the name of the key column using the on keyword, which takes a column name or a list of column names:"
   ]
  },
  {
   "cell_type": "code",
   "execution_count": 209,
   "metadata": {},
   "outputs": [
    {
     "data": {
      "text/html": [
       "<div>\n",
       "<style scoped>\n",
       "    .dataframe tbody tr th:only-of-type {\n",
       "        vertical-align: middle;\n",
       "    }\n",
       "\n",
       "    .dataframe tbody tr th {\n",
       "        vertical-align: top;\n",
       "    }\n",
       "\n",
       "    .dataframe thead th {\n",
       "        text-align: right;\n",
       "    }\n",
       "</style>\n",
       "<table border=\"1\" class=\"dataframe\">\n",
       "  <thead>\n",
       "    <tr style=\"text-align: right;\">\n",
       "      <th></th>\n",
       "      <th>Officers</th>\n",
       "      <th>Department</th>\n",
       "      <th>Honours</th>\n",
       "    </tr>\n",
       "  </thead>\n",
       "  <tbody>\n",
       "    <tr>\n",
       "      <th>0</th>\n",
       "      <td>Dax</td>\n",
       "      <td>Science</td>\n",
       "      <td>14</td>\n",
       "    </tr>\n",
       "    <tr>\n",
       "      <th>1</th>\n",
       "      <td>Sisko</td>\n",
       "      <td>Command</td>\n",
       "      <td>3</td>\n",
       "    </tr>\n",
       "    <tr>\n",
       "      <th>2</th>\n",
       "      <td>Nerys</td>\n",
       "      <td>Command</td>\n",
       "      <td>0</td>\n",
       "    </tr>\n",
       "    <tr>\n",
       "      <th>3</th>\n",
       "      <td>Worf</td>\n",
       "      <td>Operations</td>\n",
       "      <td>5</td>\n",
       "    </tr>\n",
       "    <tr>\n",
       "      <th>4</th>\n",
       "      <td>OBrien</td>\n",
       "      <td>Engineering</td>\n",
       "      <td>4</td>\n",
       "    </tr>\n",
       "    <tr>\n",
       "      <th>5</th>\n",
       "      <td>Bashir</td>\n",
       "      <td>Medical</td>\n",
       "      <td>2</td>\n",
       "    </tr>\n",
       "    <tr>\n",
       "      <th>6</th>\n",
       "      <td>Odo</td>\n",
       "      <td>Security</td>\n",
       "      <td>0</td>\n",
       "    </tr>\n",
       "  </tbody>\n",
       "</table>\n",
       "</div>"
      ],
      "text/plain": [
       "  Officers   Department  Honours\n",
       "0      Dax      Science       14\n",
       "1    Sisko      Command        3\n",
       "2    Nerys      Command        0\n",
       "3     Worf   Operations        5\n",
       "4   OBrien  Engineering        4\n",
       "5   Bashir      Medical        2\n",
       "6      Odo     Security        0"
      ]
     },
     "execution_count": 209,
     "metadata": {},
     "output_type": "execute_result"
    }
   ],
   "source": [
    "pd.merge(df1, df2, on='Officers')"
   ]
  },
  {
   "cell_type": "code",
   "execution_count": 215,
   "metadata": {},
   "outputs": [
    {
     "data": {
      "text/html": [
       "<div>\n",
       "<style scoped>\n",
       "    .dataframe tbody tr th:only-of-type {\n",
       "        vertical-align: middle;\n",
       "    }\n",
       "\n",
       "    .dataframe tbody tr th {\n",
       "        vertical-align: top;\n",
       "    }\n",
       "\n",
       "    .dataframe thead th {\n",
       "        text-align: right;\n",
       "    }\n",
       "</style>\n",
       "<table border=\"1\" class=\"dataframe\">\n",
       "  <thead>\n",
       "    <tr style=\"text-align: right;\">\n",
       "      <th></th>\n",
       "      <th>Officers</th>\n",
       "      <th>Department</th>\n",
       "      <th>Skills</th>\n",
       "      <th>Home_Planet</th>\n",
       "    </tr>\n",
       "  </thead>\n",
       "  <tbody>\n",
       "    <tr>\n",
       "      <th>0</th>\n",
       "      <td>Dax</td>\n",
       "      <td>Science</td>\n",
       "      <td>Geospatial Calculus, Problem Solving</td>\n",
       "      <td>Trill</td>\n",
       "    </tr>\n",
       "    <tr>\n",
       "      <th>1</th>\n",
       "      <td>Sisko</td>\n",
       "      <td>Command</td>\n",
       "      <td>Political &amp; Religious diplomacy</td>\n",
       "      <td>Earth</td>\n",
       "    </tr>\n",
       "    <tr>\n",
       "      <th>2</th>\n",
       "      <td>Nerys</td>\n",
       "      <td>Command</td>\n",
       "      <td>Planning &amp; Execution</td>\n",
       "      <td>Bajor</td>\n",
       "    </tr>\n",
       "    <tr>\n",
       "      <th>3</th>\n",
       "      <td>Worf</td>\n",
       "      <td>Operations</td>\n",
       "      <td>Combat &amp; Training</td>\n",
       "      <td>Earth</td>\n",
       "    </tr>\n",
       "    <tr>\n",
       "      <th>4</th>\n",
       "      <td>Bashir</td>\n",
       "      <td>Medical</td>\n",
       "      <td>Diagnostics</td>\n",
       "      <td>Earth</td>\n",
       "    </tr>\n",
       "    <tr>\n",
       "      <th>5</th>\n",
       "      <td>Odo</td>\n",
       "      <td>Security</td>\n",
       "      <td>Criminal Justice</td>\n",
       "      <td>Bajor</td>\n",
       "    </tr>\n",
       "  </tbody>\n",
       "</table>\n",
       "</div>"
      ],
      "text/plain": [
       "  Officers  Department                                Skills Home_Planet\n",
       "0      Dax     Science  Geospatial Calculus, Problem Solving       Trill\n",
       "1    Sisko     Command       Political & Religious diplomacy       Earth\n",
       "2    Nerys     Command                  Planning & Execution       Bajor\n",
       "3     Worf  Operations                     Combat & Training       Earth\n",
       "4   Bashir     Medical                           Diagnostics       Earth\n",
       "5      Odo    Security                      Criminal Justice       Bajor"
      ]
     },
     "execution_count": 215,
     "metadata": {},
     "output_type": "execute_result"
    }
   ],
   "source": [
    "df6 = pd.DataFrame({\n",
    "    'Officers': [\n",
    "        'Dax', 'Sisko', 'Nerys','Worf', \n",
    "        \"O'Brien\",'Bashir','Odo'],\n",
    "    'Home_Planet': [\n",
    "        'Trill','Earth','Bajor','Earth',\n",
    "        'Earth','Earth','Bajor'] })\n",
    "\n",
    "pd.merge(df5, df6, left_on='Officers', right_on='Officers')"
   ]
  },
  {
   "cell_type": "code",
   "execution_count": 221,
   "metadata": {},
   "outputs": [
    {
     "data": {
      "text/html": [
       "<div>\n",
       "<style scoped>\n",
       "    .dataframe tbody tr th:only-of-type {\n",
       "        vertical-align: middle;\n",
       "    }\n",
       "\n",
       "    .dataframe tbody tr th {\n",
       "        vertical-align: top;\n",
       "    }\n",
       "\n",
       "    .dataframe thead th {\n",
       "        text-align: right;\n",
       "    }\n",
       "</style>\n",
       "<table border=\"1\" class=\"dataframe\">\n",
       "  <thead>\n",
       "    <tr style=\"text-align: right;\">\n",
       "      <th></th>\n",
       "      <th>Department</th>\n",
       "    </tr>\n",
       "    <tr>\n",
       "      <th>Officers</th>\n",
       "      <th></th>\n",
       "    </tr>\n",
       "  </thead>\n",
       "  <tbody>\n",
       "    <tr>\n",
       "      <th>Dax</th>\n",
       "      <td>Science</td>\n",
       "    </tr>\n",
       "    <tr>\n",
       "      <th>Sisko</th>\n",
       "      <td>Command</td>\n",
       "    </tr>\n",
       "    <tr>\n",
       "      <th>Nerys</th>\n",
       "      <td>Command</td>\n",
       "    </tr>\n",
       "    <tr>\n",
       "      <th>Worf</th>\n",
       "      <td>Operations</td>\n",
       "    </tr>\n",
       "    <tr>\n",
       "      <th>OBrien</th>\n",
       "      <td>Engineering</td>\n",
       "    </tr>\n",
       "    <tr>\n",
       "      <th>Bashir</th>\n",
       "      <td>Medical</td>\n",
       "    </tr>\n",
       "    <tr>\n",
       "      <th>Odo</th>\n",
       "      <td>Security</td>\n",
       "    </tr>\n",
       "  </tbody>\n",
       "</table>\n",
       "</div>"
      ],
      "text/plain": [
       "           Department\n",
       "Officers             \n",
       "Dax           Science\n",
       "Sisko         Command\n",
       "Nerys         Command\n",
       "Worf       Operations\n",
       "OBrien    Engineering\n",
       "Bashir        Medical\n",
       "Odo          Security"
      ]
     },
     "execution_count": 221,
     "metadata": {},
     "output_type": "execute_result"
    }
   ],
   "source": [
    "# to align the officers to the left\n",
    "# assign officers to set_index \n",
    "# this results in a stacked dataframe\n",
    "df1a = df1.set_index('Officers')\n",
    "df2a = df2.set_index('Officers')\n",
    "df3a = df3.set_index('Officers')\n",
    "df5a = df5.set_index('Officers')\n",
    "\n",
    "df1a"
   ]
  },
  {
   "cell_type": "code",
   "execution_count": 217,
   "metadata": {},
   "outputs": [
    {
     "data": {
      "text/html": [
       "<div>\n",
       "<style scoped>\n",
       "    .dataframe tbody tr th:only-of-type {\n",
       "        vertical-align: middle;\n",
       "    }\n",
       "\n",
       "    .dataframe tbody tr th {\n",
       "        vertical-align: top;\n",
       "    }\n",
       "\n",
       "    .dataframe thead th {\n",
       "        text-align: right;\n",
       "    }\n",
       "</style>\n",
       "<table border=\"1\" class=\"dataframe\">\n",
       "  <thead>\n",
       "    <tr style=\"text-align: right;\">\n",
       "      <th></th>\n",
       "      <th>Honours</th>\n",
       "    </tr>\n",
       "    <tr>\n",
       "      <th>Officers</th>\n",
       "      <th></th>\n",
       "    </tr>\n",
       "  </thead>\n",
       "  <tbody>\n",
       "    <tr>\n",
       "      <th>Dax</th>\n",
       "      <td>14</td>\n",
       "    </tr>\n",
       "    <tr>\n",
       "      <th>Sisko</th>\n",
       "      <td>3</td>\n",
       "    </tr>\n",
       "    <tr>\n",
       "      <th>Nerys</th>\n",
       "      <td>0</td>\n",
       "    </tr>\n",
       "    <tr>\n",
       "      <th>Worf</th>\n",
       "      <td>5</td>\n",
       "    </tr>\n",
       "    <tr>\n",
       "      <th>OBrien</th>\n",
       "      <td>4</td>\n",
       "    </tr>\n",
       "    <tr>\n",
       "      <th>Bashir</th>\n",
       "      <td>2</td>\n",
       "    </tr>\n",
       "    <tr>\n",
       "      <th>Odo</th>\n",
       "      <td>0</td>\n",
       "    </tr>\n",
       "  </tbody>\n",
       "</table>\n",
       "</div>"
      ],
      "text/plain": [
       "          Honours\n",
       "Officers         \n",
       "Dax            14\n",
       "Sisko           3\n",
       "Nerys           0\n",
       "Worf            5\n",
       "OBrien          4\n",
       "Bashir          2\n",
       "Odo             0"
      ]
     },
     "execution_count": 217,
     "metadata": {},
     "output_type": "execute_result"
    }
   ],
   "source": [
    "df2a"
   ]
  },
  {
   "cell_type": "code",
   "execution_count": 220,
   "metadata": {},
   "outputs": [
    {
     "data": {
      "text/html": [
       "<div>\n",
       "<style scoped>\n",
       "    .dataframe tbody tr th:only-of-type {\n",
       "        vertical-align: middle;\n",
       "    }\n",
       "\n",
       "    .dataframe tbody tr th {\n",
       "        vertical-align: top;\n",
       "    }\n",
       "\n",
       "    .dataframe thead th {\n",
       "        text-align: right;\n",
       "    }\n",
       "</style>\n",
       "<table border=\"1\" class=\"dataframe\">\n",
       "  <thead>\n",
       "    <tr style=\"text-align: right;\">\n",
       "      <th></th>\n",
       "      <th>Department</th>\n",
       "      <th>Honours</th>\n",
       "    </tr>\n",
       "    <tr>\n",
       "      <th>Officers</th>\n",
       "      <th></th>\n",
       "      <th></th>\n",
       "    </tr>\n",
       "  </thead>\n",
       "  <tbody>\n",
       "    <tr>\n",
       "      <th>Dax</th>\n",
       "      <td>Science</td>\n",
       "      <td>14</td>\n",
       "    </tr>\n",
       "    <tr>\n",
       "      <th>Sisko</th>\n",
       "      <td>Command</td>\n",
       "      <td>3</td>\n",
       "    </tr>\n",
       "    <tr>\n",
       "      <th>Nerys</th>\n",
       "      <td>Command</td>\n",
       "      <td>0</td>\n",
       "    </tr>\n",
       "    <tr>\n",
       "      <th>Worf</th>\n",
       "      <td>Operations</td>\n",
       "      <td>5</td>\n",
       "    </tr>\n",
       "    <tr>\n",
       "      <th>OBrien</th>\n",
       "      <td>Engineering</td>\n",
       "      <td>4</td>\n",
       "    </tr>\n",
       "    <tr>\n",
       "      <th>Bashir</th>\n",
       "      <td>Medical</td>\n",
       "      <td>2</td>\n",
       "    </tr>\n",
       "    <tr>\n",
       "      <th>Odo</th>\n",
       "      <td>Security</td>\n",
       "      <td>0</td>\n",
       "    </tr>\n",
       "  </tbody>\n",
       "</table>\n",
       "</div>"
      ],
      "text/plain": [
       "           Department  Honours\n",
       "Officers                      \n",
       "Dax           Science       14\n",
       "Sisko         Command        3\n",
       "Nerys         Command        0\n",
       "Worf       Operations        5\n",
       "OBrien    Engineering        4\n",
       "Bashir        Medical        2\n",
       "Odo          Security        0"
      ]
     },
     "execution_count": 220,
     "metadata": {},
     "output_type": "execute_result"
    }
   ],
   "source": [
    "df3a"
   ]
  },
  {
   "cell_type": "code",
   "execution_count": 222,
   "metadata": {},
   "outputs": [
    {
     "data": {
      "text/html": [
       "<div>\n",
       "<style scoped>\n",
       "    .dataframe tbody tr th:only-of-type {\n",
       "        vertical-align: middle;\n",
       "    }\n",
       "\n",
       "    .dataframe tbody tr th {\n",
       "        vertical-align: top;\n",
       "    }\n",
       "\n",
       "    .dataframe thead th {\n",
       "        text-align: right;\n",
       "    }\n",
       "</style>\n",
       "<table border=\"1\" class=\"dataframe\">\n",
       "  <thead>\n",
       "    <tr style=\"text-align: right;\">\n",
       "      <th></th>\n",
       "      <th>Department</th>\n",
       "      <th>Skills</th>\n",
       "    </tr>\n",
       "    <tr>\n",
       "      <th>Officers</th>\n",
       "      <th></th>\n",
       "      <th></th>\n",
       "    </tr>\n",
       "  </thead>\n",
       "  <tbody>\n",
       "    <tr>\n",
       "      <th>Dax</th>\n",
       "      <td>Science</td>\n",
       "      <td>Geospatial Calculus, Problem Solving</td>\n",
       "    </tr>\n",
       "    <tr>\n",
       "      <th>Sisko</th>\n",
       "      <td>Command</td>\n",
       "      <td>Political &amp; Religious diplomacy</td>\n",
       "    </tr>\n",
       "    <tr>\n",
       "      <th>Nerys</th>\n",
       "      <td>Command</td>\n",
       "      <td>Planning &amp; Execution</td>\n",
       "    </tr>\n",
       "    <tr>\n",
       "      <th>Worf</th>\n",
       "      <td>Operations</td>\n",
       "      <td>Combat &amp; Training</td>\n",
       "    </tr>\n",
       "    <tr>\n",
       "      <th>OBrien</th>\n",
       "      <td>Engineering</td>\n",
       "      <td>Systems Problem Solving</td>\n",
       "    </tr>\n",
       "    <tr>\n",
       "      <th>Bashir</th>\n",
       "      <td>Medical</td>\n",
       "      <td>Diagnostics</td>\n",
       "    </tr>\n",
       "    <tr>\n",
       "      <th>Odo</th>\n",
       "      <td>Security</td>\n",
       "      <td>Criminal Justice</td>\n",
       "    </tr>\n",
       "  </tbody>\n",
       "</table>\n",
       "</div>"
      ],
      "text/plain": [
       "           Department                                Skills\n",
       "Officers                                                   \n",
       "Dax           Science  Geospatial Calculus, Problem Solving\n",
       "Sisko         Command       Political & Religious diplomacy\n",
       "Nerys         Command                  Planning & Execution\n",
       "Worf       Operations                     Combat & Training\n",
       "OBrien    Engineering               Systems Problem Solving\n",
       "Bashir        Medical                           Diagnostics\n",
       "Odo          Security                      Criminal Justice"
      ]
     },
     "execution_count": 222,
     "metadata": {},
     "output_type": "execute_result"
    }
   ],
   "source": [
    "df5a"
   ]
  },
  {
   "cell_type": "markdown",
   "metadata": {},
   "source": [
    "### **left_index** & **right_index** keywords"
   ]
  },
  {
   "cell_type": "code",
   "execution_count": 223,
   "metadata": {},
   "outputs": [
    {
     "data": {
      "text/html": [
       "<div>\n",
       "<style scoped>\n",
       "    .dataframe tbody tr th:only-of-type {\n",
       "        vertical-align: middle;\n",
       "    }\n",
       "\n",
       "    .dataframe tbody tr th {\n",
       "        vertical-align: top;\n",
       "    }\n",
       "\n",
       "    .dataframe thead th {\n",
       "        text-align: right;\n",
       "    }\n",
       "</style>\n",
       "<table border=\"1\" class=\"dataframe\">\n",
       "  <thead>\n",
       "    <tr style=\"text-align: right;\">\n",
       "      <th></th>\n",
       "      <th>Department</th>\n",
       "      <th>Honours</th>\n",
       "    </tr>\n",
       "    <tr>\n",
       "      <th>Officers</th>\n",
       "      <th></th>\n",
       "      <th></th>\n",
       "    </tr>\n",
       "  </thead>\n",
       "  <tbody>\n",
       "    <tr>\n",
       "      <th>Dax</th>\n",
       "      <td>Science</td>\n",
       "      <td>14</td>\n",
       "    </tr>\n",
       "    <tr>\n",
       "      <th>Sisko</th>\n",
       "      <td>Command</td>\n",
       "      <td>3</td>\n",
       "    </tr>\n",
       "    <tr>\n",
       "      <th>Nerys</th>\n",
       "      <td>Command</td>\n",
       "      <td>0</td>\n",
       "    </tr>\n",
       "    <tr>\n",
       "      <th>Worf</th>\n",
       "      <td>Operations</td>\n",
       "      <td>5</td>\n",
       "    </tr>\n",
       "    <tr>\n",
       "      <th>OBrien</th>\n",
       "      <td>Engineering</td>\n",
       "      <td>4</td>\n",
       "    </tr>\n",
       "    <tr>\n",
       "      <th>Bashir</th>\n",
       "      <td>Medical</td>\n",
       "      <td>2</td>\n",
       "    </tr>\n",
       "    <tr>\n",
       "      <th>Odo</th>\n",
       "      <td>Security</td>\n",
       "      <td>0</td>\n",
       "    </tr>\n",
       "  </tbody>\n",
       "</table>\n",
       "</div>"
      ],
      "text/plain": [
       "           Department  Honours\n",
       "Officers                      \n",
       "Dax           Science       14\n",
       "Sisko         Command        3\n",
       "Nerys         Command        0\n",
       "Worf       Operations        5\n",
       "OBrien    Engineering        4\n",
       "Bashir        Medical        2\n",
       "Odo          Security        0"
      ]
     },
     "execution_count": 223,
     "metadata": {},
     "output_type": "execute_result"
    }
   ],
   "source": [
    "# LEFT & RIGHT INDEX \n",
    "# using the set_index dataframes above\n",
    "pd.merge(df1a, df2a, left_index=True, right_index=True)"
   ]
  },
  {
   "cell_type": "code",
   "execution_count": 224,
   "metadata": {},
   "outputs": [
    {
     "data": {
      "text/html": [
       "<div>\n",
       "<style scoped>\n",
       "    .dataframe tbody tr th:only-of-type {\n",
       "        vertical-align: middle;\n",
       "    }\n",
       "\n",
       "    .dataframe tbody tr th {\n",
       "        vertical-align: top;\n",
       "    }\n",
       "\n",
       "    .dataframe thead th {\n",
       "        text-align: right;\n",
       "    }\n",
       "</style>\n",
       "<table border=\"1\" class=\"dataframe\">\n",
       "  <thead>\n",
       "    <tr style=\"text-align: right;\">\n",
       "      <th></th>\n",
       "      <th>Department</th>\n",
       "      <th>Honours</th>\n",
       "    </tr>\n",
       "    <tr>\n",
       "      <th>Officers</th>\n",
       "      <th></th>\n",
       "      <th></th>\n",
       "    </tr>\n",
       "  </thead>\n",
       "  <tbody>\n",
       "    <tr>\n",
       "      <th>Dax</th>\n",
       "      <td>Science</td>\n",
       "      <td>14</td>\n",
       "    </tr>\n",
       "    <tr>\n",
       "      <th>Sisko</th>\n",
       "      <td>Command</td>\n",
       "      <td>3</td>\n",
       "    </tr>\n",
       "    <tr>\n",
       "      <th>Nerys</th>\n",
       "      <td>Command</td>\n",
       "      <td>0</td>\n",
       "    </tr>\n",
       "    <tr>\n",
       "      <th>Worf</th>\n",
       "      <td>Operations</td>\n",
       "      <td>5</td>\n",
       "    </tr>\n",
       "    <tr>\n",
       "      <th>OBrien</th>\n",
       "      <td>Engineering</td>\n",
       "      <td>4</td>\n",
       "    </tr>\n",
       "    <tr>\n",
       "      <th>Bashir</th>\n",
       "      <td>Medical</td>\n",
       "      <td>2</td>\n",
       "    </tr>\n",
       "    <tr>\n",
       "      <th>Odo</th>\n",
       "      <td>Security</td>\n",
       "      <td>0</td>\n",
       "    </tr>\n",
       "  </tbody>\n",
       "</table>\n",
       "</div>"
      ],
      "text/plain": [
       "           Department  Honours\n",
       "Officers                      \n",
       "Dax           Science       14\n",
       "Sisko         Command        3\n",
       "Nerys         Command        0\n",
       "Worf       Operations        5\n",
       "OBrien    Engineering        4\n",
       "Bashir        Medical        2\n",
       "Odo          Security        0"
      ]
     },
     "execution_count": 224,
     "metadata": {},
     "output_type": "execute_result"
    }
   ],
   "source": [
    "# use the DataFrame to join table\n",
    "df1a.join(df2a)"
   ]
  },
  {
   "cell_type": "code",
   "execution_count": 225,
   "metadata": {},
   "outputs": [
    {
     "data": {
      "text/html": [
       "<div>\n",
       "<style scoped>\n",
       "    .dataframe tbody tr th:only-of-type {\n",
       "        vertical-align: middle;\n",
       "    }\n",
       "\n",
       "    .dataframe tbody tr th {\n",
       "        vertical-align: top;\n",
       "    }\n",
       "\n",
       "    .dataframe thead th {\n",
       "        text-align: right;\n",
       "    }\n",
       "</style>\n",
       "<table border=\"1\" class=\"dataframe\">\n",
       "  <thead>\n",
       "    <tr style=\"text-align: right;\">\n",
       "      <th></th>\n",
       "      <th>Department</th>\n",
       "      <th>Officers</th>\n",
       "      <th>Home_Planet</th>\n",
       "    </tr>\n",
       "  </thead>\n",
       "  <tbody>\n",
       "    <tr>\n",
       "      <th>0</th>\n",
       "      <td>Science</td>\n",
       "      <td>Dax</td>\n",
       "      <td>Trill</td>\n",
       "    </tr>\n",
       "    <tr>\n",
       "      <th>1</th>\n",
       "      <td>Command</td>\n",
       "      <td>Sisko</td>\n",
       "      <td>Earth</td>\n",
       "    </tr>\n",
       "    <tr>\n",
       "      <th>2</th>\n",
       "      <td>Command</td>\n",
       "      <td>Nerys</td>\n",
       "      <td>Bajor</td>\n",
       "    </tr>\n",
       "    <tr>\n",
       "      <th>3</th>\n",
       "      <td>Operations</td>\n",
       "      <td>Worf</td>\n",
       "      <td>Earth</td>\n",
       "    </tr>\n",
       "    <tr>\n",
       "      <th>5</th>\n",
       "      <td>Medical</td>\n",
       "      <td>Bashir</td>\n",
       "      <td>Earth</td>\n",
       "    </tr>\n",
       "    <tr>\n",
       "      <th>6</th>\n",
       "      <td>Security</td>\n",
       "      <td>Odo</td>\n",
       "      <td>Bajor</td>\n",
       "    </tr>\n",
       "  </tbody>\n",
       "</table>\n",
       "</div>"
      ],
      "text/plain": [
       "   Department Officers Home_Planet\n",
       "0     Science      Dax       Trill\n",
       "1     Command    Sisko       Earth\n",
       "2     Command    Nerys       Bajor\n",
       "3  Operations     Worf       Earth\n",
       "5     Medical   Bashir       Earth\n",
       "6    Security      Odo       Bajor"
      ]
     },
     "execution_count": 225,
     "metadata": {},
     "output_type": "execute_result"
    }
   ],
   "source": [
    "# RIGHT ON\n",
    "pd.merge(df1a, df6, left_index=True, right_on='Officers')"
   ]
  },
  {
   "cell_type": "markdown",
   "metadata": {},
   "source": [
    "### INNER JOIN \n",
    "- column value that is shared between ALL tables"
   ]
  },
  {
   "cell_type": "code",
   "execution_count": 253,
   "metadata": {
    "scrolled": true
   },
   "outputs": [
    {
     "data": {
      "text/html": [
       "<div>\n",
       "<style scoped>\n",
       "    .dataframe tbody tr th:only-of-type {\n",
       "        vertical-align: middle;\n",
       "    }\n",
       "\n",
       "    .dataframe tbody tr th {\n",
       "        vertical-align: top;\n",
       "    }\n",
       "\n",
       "    .dataframe thead th {\n",
       "        text-align: right;\n",
       "    }\n",
       "</style>\n",
       "<table border=\"1\" class=\"dataframe\">\n",
       "  <thead>\n",
       "    <tr style=\"text-align: right;\">\n",
       "      <th></th>\n",
       "      <th>ENT_1701</th>\n",
       "      <th>Conflicts</th>\n",
       "      <th>DS9</th>\n",
       "    </tr>\n",
       "  </thead>\n",
       "  <tbody>\n",
       "    <tr>\n",
       "      <th>0</th>\n",
       "      <td>O'Brien</td>\n",
       "      <td>Cardassians</td>\n",
       "      <td>O'Brien</td>\n",
       "    </tr>\n",
       "  </tbody>\n",
       "</table>\n",
       "</div>"
      ],
      "text/plain": [
       "  ENT_1701    Conflicts      DS9\n",
       "0  O'Brien  Cardassians  O'Brien"
      ]
     },
     "execution_count": 253,
     "metadata": {},
     "output_type": "execute_result"
    }
   ],
   "source": [
    "df7 = pd.DataFrame({\n",
    "    'ENT_1701': [\n",
    "        'LaForge',\n",
    "        \"O'Brien\", \n",
    "        'Worf',\n",
    "        'Crusher'\n",
    "    ],  \n",
    "    'Conflicts': [\n",
    "        'Romulans', 'Cardassians','Borg','Borg']},\n",
    "    columns=['ENT_1701', 'Conflicts'])\n",
    "\n",
    "\n",
    "df8 = pd.DataFrame({\n",
    "    'DS9': [\n",
    "        \"O'Brien\",\n",
    "        'Bashir',\n",
    "        'Worf',\n",
    "        'Dax',\n",
    "      ], \n",
    "    'Conflicts': [\n",
    "        'Cardassians','Klingons', 'Dominion','Tosk']},\n",
    "    columns=['DS9', 'Conflicts'])\n",
    "\n",
    "\n",
    "pd.merge(df7, df8) \n",
    "# shows only common items between both tables"
   ]
  },
  {
   "cell_type": "markdown",
   "metadata": {},
   "source": [
    "### **inner, outer, left, right Join**"
   ]
  },
  {
   "cell_type": "code",
   "execution_count": 254,
   "metadata": {},
   "outputs": [
    {
     "data": {
      "text/html": [
       "<div>\n",
       "<style scoped>\n",
       "    .dataframe tbody tr th:only-of-type {\n",
       "        vertical-align: middle;\n",
       "    }\n",
       "\n",
       "    .dataframe tbody tr th {\n",
       "        vertical-align: top;\n",
       "    }\n",
       "\n",
       "    .dataframe thead th {\n",
       "        text-align: right;\n",
       "    }\n",
       "</style>\n",
       "<table border=\"1\" class=\"dataframe\">\n",
       "  <thead>\n",
       "    <tr style=\"text-align: right;\">\n",
       "      <th></th>\n",
       "      <th>ENT_1701</th>\n",
       "      <th>Conflicts</th>\n",
       "      <th>DS9</th>\n",
       "    </tr>\n",
       "  </thead>\n",
       "  <tbody>\n",
       "    <tr>\n",
       "      <th>0</th>\n",
       "      <td>O'Brien</td>\n",
       "      <td>Cardassians</td>\n",
       "      <td>O'Brien</td>\n",
       "    </tr>\n",
       "  </tbody>\n",
       "</table>\n",
       "</div>"
      ],
      "text/plain": [
       "  ENT_1701    Conflicts      DS9\n",
       "0  O'Brien  Cardassians  O'Brien"
      ]
     },
     "execution_count": 254,
     "metadata": {},
     "output_type": "execute_result"
    }
   ],
   "source": [
    "pd.merge(df7, df8, how='inner')"
   ]
  },
  {
   "cell_type": "code",
   "execution_count": 255,
   "metadata": {},
   "outputs": [
    {
     "data": {
      "text/html": [
       "<div>\n",
       "<style scoped>\n",
       "    .dataframe tbody tr th:only-of-type {\n",
       "        vertical-align: middle;\n",
       "    }\n",
       "\n",
       "    .dataframe tbody tr th {\n",
       "        vertical-align: top;\n",
       "    }\n",
       "\n",
       "    .dataframe thead th {\n",
       "        text-align: right;\n",
       "    }\n",
       "</style>\n",
       "<table border=\"1\" class=\"dataframe\">\n",
       "  <thead>\n",
       "    <tr style=\"text-align: right;\">\n",
       "      <th></th>\n",
       "      <th>ENT_1701</th>\n",
       "      <th>Conflicts</th>\n",
       "      <th>DS9</th>\n",
       "    </tr>\n",
       "  </thead>\n",
       "  <tbody>\n",
       "    <tr>\n",
       "      <th>0</th>\n",
       "      <td>LaForge</td>\n",
       "      <td>Romulans</td>\n",
       "      <td>NaN</td>\n",
       "    </tr>\n",
       "    <tr>\n",
       "      <th>1</th>\n",
       "      <td>O'Brien</td>\n",
       "      <td>Cardassians</td>\n",
       "      <td>O'Brien</td>\n",
       "    </tr>\n",
       "    <tr>\n",
       "      <th>2</th>\n",
       "      <td>Worf</td>\n",
       "      <td>Borg</td>\n",
       "      <td>NaN</td>\n",
       "    </tr>\n",
       "    <tr>\n",
       "      <th>3</th>\n",
       "      <td>Crusher</td>\n",
       "      <td>Borg</td>\n",
       "      <td>NaN</td>\n",
       "    </tr>\n",
       "    <tr>\n",
       "      <th>4</th>\n",
       "      <td>NaN</td>\n",
       "      <td>Klingons</td>\n",
       "      <td>Bashir</td>\n",
       "    </tr>\n",
       "    <tr>\n",
       "      <th>5</th>\n",
       "      <td>NaN</td>\n",
       "      <td>Dominion</td>\n",
       "      <td>Worf</td>\n",
       "    </tr>\n",
       "    <tr>\n",
       "      <th>6</th>\n",
       "      <td>NaN</td>\n",
       "      <td>Tosk</td>\n",
       "      <td>Dax</td>\n",
       "    </tr>\n",
       "  </tbody>\n",
       "</table>\n",
       "</div>"
      ],
      "text/plain": [
       "  ENT_1701    Conflicts      DS9\n",
       "0  LaForge     Romulans      NaN\n",
       "1  O'Brien  Cardassians  O'Brien\n",
       "2     Worf         Borg      NaN\n",
       "3  Crusher         Borg      NaN\n",
       "4      NaN     Klingons   Bashir\n",
       "5      NaN     Dominion     Worf\n",
       "6      NaN         Tosk      Dax"
      ]
     },
     "execution_count": 255,
     "metadata": {},
     "output_type": "execute_result"
    }
   ],
   "source": [
    "pd.merge(df7, df8, how='outer')"
   ]
  },
  {
   "cell_type": "code",
   "execution_count": 256,
   "metadata": {},
   "outputs": [
    {
     "data": {
      "text/html": [
       "<div>\n",
       "<style scoped>\n",
       "    .dataframe tbody tr th:only-of-type {\n",
       "        vertical-align: middle;\n",
       "    }\n",
       "\n",
       "    .dataframe tbody tr th {\n",
       "        vertical-align: top;\n",
       "    }\n",
       "\n",
       "    .dataframe thead th {\n",
       "        text-align: right;\n",
       "    }\n",
       "</style>\n",
       "<table border=\"1\" class=\"dataframe\">\n",
       "  <thead>\n",
       "    <tr style=\"text-align: right;\">\n",
       "      <th></th>\n",
       "      <th>ENT_1701</th>\n",
       "      <th>Conflicts</th>\n",
       "      <th>DS9</th>\n",
       "    </tr>\n",
       "  </thead>\n",
       "  <tbody>\n",
       "    <tr>\n",
       "      <th>0</th>\n",
       "      <td>LaForge</td>\n",
       "      <td>Romulans</td>\n",
       "      <td>NaN</td>\n",
       "    </tr>\n",
       "    <tr>\n",
       "      <th>1</th>\n",
       "      <td>O'Brien</td>\n",
       "      <td>Cardassians</td>\n",
       "      <td>O'Brien</td>\n",
       "    </tr>\n",
       "    <tr>\n",
       "      <th>2</th>\n",
       "      <td>Worf</td>\n",
       "      <td>Borg</td>\n",
       "      <td>NaN</td>\n",
       "    </tr>\n",
       "    <tr>\n",
       "      <th>3</th>\n",
       "      <td>Crusher</td>\n",
       "      <td>Borg</td>\n",
       "      <td>NaN</td>\n",
       "    </tr>\n",
       "  </tbody>\n",
       "</table>\n",
       "</div>"
      ],
      "text/plain": [
       "  ENT_1701    Conflicts      DS9\n",
       "0  LaForge     Romulans      NaN\n",
       "1  O'Brien  Cardassians  O'Brien\n",
       "2     Worf         Borg      NaN\n",
       "3  Crusher         Borg      NaN"
      ]
     },
     "execution_count": 256,
     "metadata": {},
     "output_type": "execute_result"
    }
   ],
   "source": [
    "pd.merge(df7, df8, how='left')"
   ]
  },
  {
   "cell_type": "code",
   "execution_count": 257,
   "metadata": {},
   "outputs": [
    {
     "data": {
      "text/html": [
       "<div>\n",
       "<style scoped>\n",
       "    .dataframe tbody tr th:only-of-type {\n",
       "        vertical-align: middle;\n",
       "    }\n",
       "\n",
       "    .dataframe tbody tr th {\n",
       "        vertical-align: top;\n",
       "    }\n",
       "\n",
       "    .dataframe thead th {\n",
       "        text-align: right;\n",
       "    }\n",
       "</style>\n",
       "<table border=\"1\" class=\"dataframe\">\n",
       "  <thead>\n",
       "    <tr style=\"text-align: right;\">\n",
       "      <th></th>\n",
       "      <th>ENT_1701</th>\n",
       "      <th>Conflicts</th>\n",
       "      <th>DS9</th>\n",
       "    </tr>\n",
       "  </thead>\n",
       "  <tbody>\n",
       "    <tr>\n",
       "      <th>0</th>\n",
       "      <td>O'Brien</td>\n",
       "      <td>Cardassians</td>\n",
       "      <td>O'Brien</td>\n",
       "    </tr>\n",
       "    <tr>\n",
       "      <th>1</th>\n",
       "      <td>NaN</td>\n",
       "      <td>Klingons</td>\n",
       "      <td>Bashir</td>\n",
       "    </tr>\n",
       "    <tr>\n",
       "      <th>2</th>\n",
       "      <td>NaN</td>\n",
       "      <td>Dominion</td>\n",
       "      <td>Worf</td>\n",
       "    </tr>\n",
       "    <tr>\n",
       "      <th>3</th>\n",
       "      <td>NaN</td>\n",
       "      <td>Tosk</td>\n",
       "      <td>Dax</td>\n",
       "    </tr>\n",
       "  </tbody>\n",
       "</table>\n",
       "</div>"
      ],
      "text/plain": [
       "  ENT_1701    Conflicts      DS9\n",
       "0  O'Brien  Cardassians  O'Brien\n",
       "1      NaN     Klingons   Bashir\n",
       "2      NaN     Dominion     Worf\n",
       "3      NaN         Tosk      Dax"
      ]
     },
     "execution_count": 257,
     "metadata": {},
     "output_type": "execute_result"
    }
   ],
   "source": [
    "pd.merge(df7, df8, how='right')"
   ]
  },
  {
   "cell_type": "code",
   "execution_count": 261,
   "metadata": {
    "scrolled": true
   },
   "outputs": [
    {
     "data": {
      "text/html": [
       "<div>\n",
       "<style scoped>\n",
       "    .dataframe tbody tr th:only-of-type {\n",
       "        vertical-align: middle;\n",
       "    }\n",
       "\n",
       "    .dataframe tbody tr th {\n",
       "        vertical-align: top;\n",
       "    }\n",
       "\n",
       "    .dataframe thead th {\n",
       "        text-align: right;\n",
       "    }\n",
       "</style>\n",
       "<table border=\"1\" class=\"dataframe\">\n",
       "  <thead>\n",
       "    <tr style=\"text-align: right;\">\n",
       "      <th></th>\n",
       "      <th>name</th>\n",
       "      <th>clearance_x</th>\n",
       "      <th>clearance_y</th>\n",
       "    </tr>\n",
       "  </thead>\n",
       "  <tbody>\n",
       "    <tr>\n",
       "      <th>0</th>\n",
       "      <td>Picard</td>\n",
       "      <td>1</td>\n",
       "      <td>3</td>\n",
       "    </tr>\n",
       "    <tr>\n",
       "      <th>1</th>\n",
       "      <td>Riker</td>\n",
       "      <td>2</td>\n",
       "      <td>1</td>\n",
       "    </tr>\n",
       "    <tr>\n",
       "      <th>2</th>\n",
       "      <td>Worf</td>\n",
       "      <td>3</td>\n",
       "      <td>4</td>\n",
       "    </tr>\n",
       "    <tr>\n",
       "      <th>3</th>\n",
       "      <td>LaForge</td>\n",
       "      <td>4</td>\n",
       "      <td>2</td>\n",
       "    </tr>\n",
       "  </tbody>\n",
       "</table>\n",
       "</div>"
      ],
      "text/plain": [
       "      name  clearance_x  clearance_y\n",
       "0   Picard            1            3\n",
       "1    Riker            2            1\n",
       "2     Worf            3            4\n",
       "3  LaForge            4            2"
      ]
     },
     "execution_count": 261,
     "metadata": {},
     "output_type": "execute_result"
    }
   ],
   "source": [
    "df9 = pd.DataFrame({'name': [\n",
    "    'Picard', 'Riker', 'Worf', 'LaForge'],\n",
    "                    'clearance': [1, 2, 3, 4]})\n",
    "df10 = pd.DataFrame({'name': [\n",
    "    'Picard', 'Riker', 'Worf', 'LaForge'],\n",
    "                    'clearance': [3, 1, 4, 2]})\n",
    "\n",
    "# both DataFrames have 'rank' \n",
    "# Pandas appends a suffix to avoid errors\n",
    "pd.merge(df9, df10, on=\"name\")"
   ]
  },
  {
   "cell_type": "code",
   "execution_count": 262,
   "metadata": {},
   "outputs": [
    {
     "data": {
      "text/html": [
       "<div>\n",
       "<style scoped>\n",
       "    .dataframe tbody tr th:only-of-type {\n",
       "        vertical-align: middle;\n",
       "    }\n",
       "\n",
       "    .dataframe tbody tr th {\n",
       "        vertical-align: top;\n",
       "    }\n",
       "\n",
       "    .dataframe thead th {\n",
       "        text-align: right;\n",
       "    }\n",
       "</style>\n",
       "<table border=\"1\" class=\"dataframe\">\n",
       "  <thead>\n",
       "    <tr style=\"text-align: right;\">\n",
       "      <th></th>\n",
       "      <th>name</th>\n",
       "      <th>clearance_L</th>\n",
       "      <th>clearance_R</th>\n",
       "    </tr>\n",
       "  </thead>\n",
       "  <tbody>\n",
       "    <tr>\n",
       "      <th>0</th>\n",
       "      <td>Picard</td>\n",
       "      <td>1</td>\n",
       "      <td>3</td>\n",
       "    </tr>\n",
       "    <tr>\n",
       "      <th>1</th>\n",
       "      <td>Riker</td>\n",
       "      <td>2</td>\n",
       "      <td>1</td>\n",
       "    </tr>\n",
       "    <tr>\n",
       "      <th>2</th>\n",
       "      <td>Worf</td>\n",
       "      <td>3</td>\n",
       "      <td>4</td>\n",
       "    </tr>\n",
       "    <tr>\n",
       "      <th>3</th>\n",
       "      <td>LaForge</td>\n",
       "      <td>4</td>\n",
       "      <td>2</td>\n",
       "    </tr>\n",
       "  </tbody>\n",
       "</table>\n",
       "</div>"
      ],
      "text/plain": [
       "      name  clearance_L  clearance_R\n",
       "0   Picard            1            3\n",
       "1    Riker            2            1\n",
       "2     Worf            3            4\n",
       "3  LaForge            4            2"
      ]
     },
     "execution_count": 262,
     "metadata": {},
     "output_type": "execute_result"
    }
   ],
   "source": [
    "# customize the suffix \n",
    "\n",
    "pd.merge(df9, df10, on=\"name\", suffixes=['_L','_R'])"
   ]
  },
  {
   "cell_type": "markdown",
   "metadata": {},
   "source": [
    "this is the end of the Pandas basics. Next is working with data. There are many more things to do with Pandas that I left out and so for further discovery, read the Pandas documentation with a simple web search."
   ]
  },
  {
   "cell_type": "code",
   "execution_count": null,
   "metadata": {},
   "outputs": [],
   "source": []
  }
 ],
 "metadata": {
  "kernelspec": {
   "display_name": "Python 3",
   "language": "python",
   "name": "python3"
  },
  "language_info": {
   "codemirror_mode": {
    "name": "ipython",
    "version": 3
   },
   "file_extension": ".py",
   "mimetype": "text/x-python",
   "name": "python",
   "nbconvert_exporter": "python",
   "pygments_lexer": "ipython3",
   "version": "3.8.3"
  }
 },
 "nbformat": 4,
 "nbformat_minor": 4
}
