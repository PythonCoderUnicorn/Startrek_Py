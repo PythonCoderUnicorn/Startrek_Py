{
 "cells": [
  {
   "cell_type": "markdown",
   "metadata": {},
   "source": [
    "# Startrek Python - While Loops"
   ]
  },
  {
   "cell_type": "markdown",
   "metadata": {},
   "source": [
    "With the while loop we can execute a set of statements as long as a condition is true."
   ]
  },
  {
   "cell_type": "code",
   "execution_count": 5,
   "metadata": {},
   "outputs": [
    {
     "name": "stdout",
     "output_type": "stream",
     "text": [
      "while loop: 1\n",
      "while loop: 2\n",
      "while loop: 3\n",
      "while loop: 4\n",
      "while loop: 5\n"
     ]
    }
   ],
   "source": [
    "# often in while loops i is used, i for index\n",
    "i = 1\n",
    "\n",
    "# condition statement\n",
    "while i < 6:\n",
    "    print('while loop:',i)\n",
    "    i +=1"
   ]
  },
  {
   "cell_type": "code",
   "execution_count": 8,
   "metadata": {},
   "outputs": [
    {
     "name": "stdout",
     "output_type": "stream",
     "text": [
      "Weyoun iteration: 1\n",
      "Weyoun iteration: 2\n",
      "Weyoun iteration: 3\n",
      "Weyoun iteration: 4\n",
      "Weyoun iteration: 5\n",
      "Weyoun iteration: 6\n",
      "Weyoun iteration: 7\n",
      "Weyoun iteration: 8\n"
     ]
    }
   ],
   "source": [
    "# Dominion Cloning factory makes so many clones\n",
    "# efficiency is to use a while loop\n",
    "\n",
    "Weyoun_index = 1\n",
    "Weyoun_max = 9\n",
    "while Weyoun_index < Weyoun_max:\n",
    "    print('Weyoun iteration:',Weyoun_index)\n",
    "    Weyoun_index += 1"
   ]
  },
  {
   "cell_type": "markdown",
   "metadata": {},
   "source": [
    "## Break"
   ]
  },
  {
   "cell_type": "markdown",
   "metadata": {},
   "source": [
    "With the break statement we can stop the loop even if the while condition is true:"
   ]
  },
  {
   "cell_type": "code",
   "execution_count": 16,
   "metadata": {},
   "outputs": [
    {
     "name": "stdout",
     "output_type": "stream",
     "text": [
      "1 Jem Hadar soldier(s) of 600\n",
      "2 Jem Hadar soldier(s) of 600\n",
      "3 Jem Hadar soldier(s) of 600\n",
      "4 Jem Hadar soldier(s) of 600\n",
      " -- Cloning facility attacked\n"
     ]
    }
   ],
   "source": [
    "# Jem'Hadar cloning facility uses while loops\n",
    "# using break statements help avoid forever loops\n",
    "\n",
    "Jem_Hadar = 1\n",
    "\n",
    "while Jem_Hadar < 600:\n",
    "    print('{} Jem Hadar soldier(s) of {}'.format(Jem_Hadar, 600))\n",
    "    \n",
    "    if Jem_Hadar == 4:\n",
    "        print(' -- Cloning facility attacked')\n",
    "        break\n",
    "    Jem_Hadar +=1"
   ]
  },
  {
   "cell_type": "markdown",
   "metadata": {},
   "source": [
    "## Continue"
   ]
  },
  {
   "cell_type": "markdown",
   "metadata": {},
   "source": [
    "TO BE CONTINUED . . .\n",
    "\n",
    "the continue statement we can stop the current iteration, and continue with the next:"
   ]
  },
  {
   "cell_type": "code",
   "execution_count": 20,
   "metadata": {},
   "outputs": [
    {
     "name": "stdout",
     "output_type": "stream",
     "text": [
      "2\n",
      "3\n",
      "4\n",
      "6\n",
      "7\n"
     ]
    }
   ],
   "source": [
    "# IF part of your loop you want to skip over but not end the loop\n",
    "# use continue\n",
    "\n",
    "Jem_Hadar = 1\n",
    "\n",
    "while Jem_Hadar < 7:\n",
    "    Jem_Hadar +=1\n",
    "    \n",
    "    if Jem_Hadar == 5:\n",
    "        # uncomment the line below and run cell\n",
    "        #print('5th skipped')\n",
    "        continue\n",
    "    print(Jem_Hadar)"
   ]
  },
  {
   "cell_type": "markdown",
   "metadata": {},
   "source": [
    "## Else"
   ]
  },
  {
   "cell_type": "code",
   "execution_count": 23,
   "metadata": {},
   "outputs": [
    {
     "name": "stdout",
     "output_type": "stream",
     "text": [
      "Weyoun interation 1\n",
      "Weyoun interation 2\n",
      "Weyoun interation 3\n",
      "Weyoun interation 4\n",
      "Weyoun interation 5\n",
      "Weyoun interation 6\n",
      "Weyoun interation 7\n",
      "Weyoun interation 8\n",
      " - Cloning Weyouns no longer available -\n"
     ]
    }
   ],
   "source": [
    "Weyoun_index = 1\n",
    "Weyoun_max = 9\n",
    "\n",
    "while Weyoun_index < Weyoun_max:\n",
    "    print('Weyoun interation',Weyoun_index)\n",
    "    Weyoun_index += 1\n",
    "    \n",
    "else: # Cloning facility is attacked\n",
    "    print(' - Cloning Weyouns no longer available -')"
   ]
  },
  {
   "cell_type": "code",
   "execution_count": null,
   "metadata": {},
   "outputs": [],
   "source": []
  }
 ],
 "metadata": {
  "kernelspec": {
   "display_name": "Python 3",
   "language": "python",
   "name": "python3"
  },
  "language_info": {
   "codemirror_mode": {
    "name": "ipython",
    "version": 3
   },
   "file_extension": ".py",
   "mimetype": "text/x-python",
   "name": "python",
   "nbconvert_exporter": "python",
   "pygments_lexer": "ipython3",
   "version": "3.8.3"
  }
 },
 "nbformat": 4,
 "nbformat_minor": 4
}
