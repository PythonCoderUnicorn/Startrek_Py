{
 "cells": [
  {
   "cell_type": "markdown",
   "metadata": {},
   "source": [
    "# Startrek Python - Final"
   ]
  },
  {
   "cell_type": "markdown",
   "metadata": {},
   "source": [
    "<h1> Congrats on making it through 23 notebooks! </h1>\n",
    "\n",
    "You just learned all the essentials to Python. You now have the skills to make programs for your Starfleet needs. The basics of Python can do everything you need to do, the learning past the basics is using modules and learning fields of study.\n",
    "\n",
    "Where to study next?\n",
    "\n",
    "- reading/ working with data files\n",
    "- learning NumPy part of data files \n",
    "- learning SciPy {Scientific Python} for various topics like Graphs and Spatial data\n",
    "- Machine Learning is a massively beneficial subject to learn, learn this and fast-track your way to Chief Engineer!\n",
    "\n",
    "\n",
    "Thank you for spending time learning Startrek Py\n",
    "\n",
    "- remember to save file, and shutdown any running kernels (terminal: Ctrl + C, enter 'y'), (Notebook: close tab, click on file running, click 'shutdown')"
   ]
  },
  {
   "cell_type": "code",
   "execution_count": null,
   "metadata": {},
   "outputs": [],
   "source": []
  }
 ],
 "metadata": {
  "kernelspec": {
   "display_name": "Python 3",
   "language": "python",
   "name": "python3"
  },
  "language_info": {
   "codemirror_mode": {
    "name": "ipython",
    "version": 3
   },
   "file_extension": ".py",
   "mimetype": "text/x-python",
   "name": "python",
   "nbconvert_exporter": "python",
   "pygments_lexer": "ipython3",
   "version": "3.8.3"
  }
 },
 "nbformat": 4,
 "nbformat_minor": 4
}
