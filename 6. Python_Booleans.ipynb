{
 "cells": [
  {
   "cell_type": "markdown",
   "metadata": {},
   "source": [
    "# Startrek Python - Boolean Logic"
   ]
  },
  {
   "cell_type": "markdown",
   "metadata": {},
   "source": [
    "Romulans and Vulcans are the most logical species in the galaxy, in Python Boolean logic True or False is used for various tasks. "
   ]
  },
  {
   "cell_type": "code",
   "execution_count": 1,
   "metadata": {},
   "outputs": [
    {
     "data": {
      "text/plain": [
       "False"
      ]
     },
     "execution_count": 1,
     "metadata": {},
     "output_type": "execute_result"
    }
   ],
   "source": [
    "1701 < 9"
   ]
  },
  {
   "cell_type": "code",
   "execution_count": 2,
   "metadata": {},
   "outputs": [
    {
     "data": {
      "text/plain": [
       "True"
      ]
     },
     "execution_count": 2,
     "metadata": {},
     "output_type": "execute_result"
    }
   ],
   "source": [
    "1701 > 9"
   ]
  },
  {
   "cell_type": "code",
   "execution_count": 3,
   "metadata": {},
   "outputs": [
    {
     "name": "stdout",
     "output_type": "stream",
     "text": [
      " medium coffee\n"
     ]
    }
   ],
   "source": [
    "kanar = 760 # mL\n",
    "rahktajino = 455 # mL\n",
    "\n",
    "#--- this is a IF-Else \n",
    "# >= means equal or greater than\n",
    "if rahktajino >= 750:\n",
    "    print(' 750 mL of coffee')\n",
    "if rahktajino > 400:\n",
    "    print(' medium coffee')\n",
    "else:\n",
    "    print(' too small amount')"
   ]
  },
  {
   "cell_type": "code",
   "execution_count": 7,
   "metadata": {},
   "outputs": [
    {
     "name": "stdout",
     "output_type": "stream",
     "text": [
      " exactly a new bottle\n",
      " no kanar!\n"
     ]
    }
   ],
   "source": [
    "kanar = 760 # mL\n",
    "\n",
    "if kanar >= 800:\n",
    "    print(' lots of kanar for Damar')\n",
    "if kanar > 760:\n",
    "    print(' full bottle of kanar')\n",
    "if kanar >= 750:\n",
    "    print(' exactly a new bottle')\n",
    "if kanar < 750:\n",
    "    print(' someone had a drink')\n",
    "if kanar < 400:\n",
    "    print(' running out')\n",
    "else:\n",
    "    print(' no kanar!')\n",
    "    \n",
    "# notice that this code prints out 2 times\n",
    "# because each if condition is met"
   ]
  },
  {
   "cell_type": "code",
   "execution_count": 9,
   "metadata": {},
   "outputs": [
    {
     "name": "stdout",
     "output_type": "stream",
     "text": [
      " exactly a new bottle\n"
     ]
    }
   ],
   "source": [
    "# this code uses 'elif' else-if shich only prints the exact condition\n",
    "\n",
    "kanar = 760 # mL\n",
    "\n",
    "if kanar >= 800:\n",
    "    print(' lots of kanar for Damar')\n",
    "elif kanar > 760:\n",
    "    print(' full bottle of kanar')\n",
    "elif kanar >= 750:\n",
    "    print(' exactly a new bottle')\n",
    "elif kanar < 750:\n",
    "    print(' someone had a drink')\n",
    "elif kanar < 400:\n",
    "    print(' running out')\n",
    "else:\n",
    "    print(' no kanar!')"
   ]
  },
  {
   "cell_type": "code",
   "execution_count": null,
   "metadata": {},
   "outputs": [],
   "source": []
  }
 ],
 "metadata": {
  "kernelspec": {
   "display_name": "Python 3",
   "language": "python",
   "name": "python3"
  },
  "language_info": {
   "codemirror_mode": {
    "name": "ipython",
    "version": 3
   },
   "file_extension": ".py",
   "mimetype": "text/x-python",
   "name": "python",
   "nbconvert_exporter": "python",
   "pygments_lexer": "ipython3",
   "version": "3.8.3"
  }
 },
 "nbformat": 4,
 "nbformat_minor": 4
}
