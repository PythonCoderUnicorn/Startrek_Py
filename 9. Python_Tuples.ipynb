{
 "cells": [
  {
   "cell_type": "markdown",
   "metadata": {},
   "source": [
    "# Startrek Python -  Tuples"
   ]
  },
  {
   "cell_type": "markdown",
   "metadata": {},
   "source": [
    "A tuple is a collection which is ordered and unchangeable. In Python tuples are written with round brackets."
   ]
  },
  {
   "cell_type": "code",
   "execution_count": 10,
   "metadata": {},
   "outputs": [
    {
     "name": "stdout",
     "output_type": "stream",
     "text": [
      "('blackberry', 'redberry', 'purpleberry', 'tulaberry', 'trippleberry')\n"
     ]
    }
   ],
   "source": [
    "tuple_berry = (\"blackberry\", \"redberry\", \"purpleberry\",\"tulaberry\",\"trippleberry\")\n",
    "print(tuple_berry)"
   ]
  },
  {
   "cell_type": "markdown",
   "metadata": {},
   "source": [
    "## Access Tuple element"
   ]
  },
  {
   "cell_type": "code",
   "execution_count": 13,
   "metadata": {},
   "outputs": [
    {
     "name": "stdout",
     "output_type": "stream",
     "text": [
      "tuple_berry redberry\n",
      "tuple_berry tulaberry\n",
      "tuple_berry [2:5] ('purpleberry', 'tulaberry', 'trippleberry')\n"
     ]
    }
   ],
   "source": [
    "# grab element \n",
    "print('tuple_berry',(tuple_berry[1]))\n",
    "\n",
    "# negative index\n",
    "print('tuple_berry',(tuple_berry[-2]))\n",
    "\n",
    "# slice indexing of a tuple, negative values are valid\n",
    "print('tuple_berry [2:5]',(tuple_berry[2:5]))"
   ]
  },
  {
   "cell_type": "markdown",
   "metadata": {},
   "source": [
    "## Loop through Tuple"
   ]
  },
  {
   "cell_type": "code",
   "execution_count": 15,
   "metadata": {},
   "outputs": [
    {
     "name": "stdout",
     "output_type": "stream",
     "text": [
      "Dominion blackberry jam\n",
      "Dominion redberry jam\n",
      "Dominion purpleberry jam\n",
      "Dominion tulaberry jam\n",
      "Dominion trippleberry jam\n"
     ]
    }
   ],
   "source": [
    "# using tuple_berry \n",
    "\n",
    "for berry in tuple_berry:\n",
    "    print('Dominion {} jam'.format(berry))"
   ]
  },
  {
   "cell_type": "markdown",
   "metadata": {},
   "source": [
    "### Check if item is in tuple"
   ]
  },
  {
   "cell_type": "code",
   "execution_count": 17,
   "metadata": {},
   "outputs": [
    {
     "name": "stdout",
     "output_type": "stream",
     "text": [
      " SearchError:'kava' item not found\n"
     ]
    }
   ],
   "source": [
    "if \"kava\" in tuple_berry:\n",
    "    print('yes, Dominion has {} jam'.format('kava'))\n",
    "else:\n",
    "    print(\" SearchError:'{}' item not found\".format(\"kava\"))"
   ]
  },
  {
   "cell_type": "markdown",
   "metadata": {},
   "source": [
    "### Tuple Length"
   ]
  },
  {
   "cell_type": "code",
   "execution_count": 18,
   "metadata": {},
   "outputs": [
    {
     "name": "stdout",
     "output_type": "stream",
     "text": [
      " tuple_berry tuple has 5 items\n"
     ]
    }
   ],
   "source": [
    "# works like it does for List Arrays\n",
    "print(' tuple_berry tuple has', len(tuple_berry),'items')"
   ]
  },
  {
   "cell_type": "markdown",
   "metadata": {},
   "source": [
    "### Join Tuples"
   ]
  },
  {
   "cell_type": "code",
   "execution_count": 19,
   "metadata": {},
   "outputs": [
    {
     "name": "stdout",
     "output_type": "stream",
     "text": [
      " joing berries  ('blackberry', 'redberry', 'purpleberry', 'tulaberry', 'trippleberry', 'apple', 'cherry')\n"
     ]
    }
   ],
   "source": [
    "tuple_berry = (\"blackberry\", \"redberry\", \"purpleberry\",\"tulaberry\",\"trippleberry\")\n",
    "\n",
    "pie_berry = ('apple','cherry')\n",
    "\n",
    "# join the two tuples\n",
    "tuples_of_berries = tuple_berry + pie_berry\n",
    "\n",
    "print(' joing berries ',tuples_of_berries )"
   ]
  },
  {
   "cell_type": "markdown",
   "metadata": {},
   "source": [
    "### Tuple Count() and Index()"
   ]
  },
  {
   "cell_type": "code",
   "execution_count": 41,
   "metadata": {},
   "outputs": [
    {
     "name": "stdout",
     "output_type": "stream",
     "text": [
      " counted 3 five integer values\n",
      " index value for #7 is: 2\n"
     ]
    }
   ],
   "source": [
    "numtuple = (1, 3, 7, 8, 7, 5, 4, 6, 8, 5, 4, 4, 3, 5)\n",
    "\n",
    "# count() \n",
    "fives = numtuple.count(5)\n",
    "print(' counted {} five integer values'.format(fives))\n",
    "\n",
    "# index(), find index of 7\n",
    "indexx = numtuple.index(7)\n",
    "print(' index value for #7 is: {}'.format(indexx))"
   ]
  },
  {
   "cell_type": "code",
   "execution_count": null,
   "metadata": {},
   "outputs": [],
   "source": [
    "thistuple = (1, 3, 7, 8, 7, 5, 4, 6, 8, 5)\n",
    "\n",
    "x = thistuple.index(8)\n",
    "\n",
    "print(x)"
   ]
  },
  {
   "cell_type": "markdown",
   "metadata": {},
   "source": [
    "## Reminder: Tuples can't be changed or edited"
   ]
  },
  {
   "cell_type": "code",
   "execution_count": null,
   "metadata": {},
   "outputs": [],
   "source": []
  }
 ],
 "metadata": {
  "kernelspec": {
   "display_name": "Python 3",
   "language": "python",
   "name": "python3"
  },
  "language_info": {
   "codemirror_mode": {
    "name": "ipython",
    "version": 3
   },
   "file_extension": ".py",
   "mimetype": "text/x-python",
   "name": "python",
   "nbconvert_exporter": "python",
   "pygments_lexer": "ipython3",
   "version": "3.8.3"
  }
 },
 "nbformat": 4,
 "nbformat_minor": 4
}
