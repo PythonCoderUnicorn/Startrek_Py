{
 "cells": [
  {
   "cell_type": "markdown",
   "metadata": {},
   "source": [
    "# Startrek Python - Lambda"
   ]
  },
  {
   "cell_type": "markdown",
   "metadata": {},
   "source": [
    "When in a hurry to make a function to perform a task while under attack or strict time constraints, Lambda functions are there to help. \n",
    "A lambda function is a small anonymous function, and takes any number of arguments, but can only have one expression.\n",
    "\n",
    "- the syntax <code> lambda arguments : expression </code>"
   ]
  },
  {
   "cell_type": "markdown",
   "metadata": {},
   "source": [
    "<h2> 1 trick that Engineers don't want you to know</h2>\n",
    "Lambda functions are the Engineering secret that Command Officers\n",
    "aren't suppose to know. To look like an amazing Officer by getting the job done faster than estimated, lambda is the tool for short term use, \"patches\" or \"duct tape\" to a problem while a real solution is being generated"
   ]
  },
  {
   "cell_type": "code",
   "execution_count": 22,
   "metadata": {},
   "outputs": [
    {
     "name": "stdout",
     "output_type": "stream",
     "text": [
      "FM lambda: 32.8%\n"
     ]
    }
   ],
   "source": [
    "boost = 20\n",
    "\n",
    "field_modulators = lambda fm : fm + boost\n",
    "print('FM lambda: {}%'.format(field_modulators(12.8)))"
   ]
  },
  {
   "cell_type": "code",
   "execution_count": 23,
   "metadata": {},
   "outputs": [
    {
     "name": "stdout",
     "output_type": "stream",
     "text": [
      "pulse drive lambda: 13.93\n"
     ]
    }
   ],
   "source": [
    "# Engineering shorthand lambda function\n",
    "\n",
    "pulse_drive = lambda pulse_init, pulse_wave : pulse_init * pulse_wave\n",
    "print('pulse drive lambda: {:.2f}'.format(pulse_drive(3.3,4.22)))"
   ]
  },
  {
   "cell_type": "code",
   "execution_count": 24,
   "metadata": {},
   "outputs": [
    {
     "name": "stdout",
     "output_type": "stream",
     "text": [
      "deuterium flow increase: 3.39%\n"
     ]
    }
   ],
   "source": [
    "# quickly increase deuterium flow by 5% to reaction chamber 2\n",
    "\n",
    "deuterium_flow = lambda chamber2 : chamber2 * 0.05\n",
    "print('deuterium flow increase: {:.2f}%'.format(deuterium_flow(67.8)))"
   ]
  },
  {
   "cell_type": "code",
   "execution_count": 25,
   "metadata": {},
   "outputs": [
    {
     "name": "stdout",
     "output_type": "stream",
     "text": [
      "all exhaust pipelines temp -33.0 Celsius\n"
     ]
    }
   ],
   "source": [
    "# lower plasma temperature in exhaust pipelines\n",
    "\n",
    "plasma_temps = lambda ep1, ep2, ep3 : ep1 + ep2 + ep3\n",
    "print('all exhaust pipelines temp {} Celsius'.format(plasma_temps(-4.5,-22.9,-5.6)))"
   ]
  },
  {
   "cell_type": "code",
   "execution_count": 38,
   "metadata": {},
   "outputs": [
    {
     "name": "stdout",
     "output_type": "stream",
     "text": [
      "flux density 10.50\n"
     ]
    }
   ],
   "source": [
    "# return Flux density \n",
    "\n",
    "def flux_density(d):\n",
    "    return lambda flux : flux * d\n",
    "\n",
    "density = flux_density(2)\n",
    "\n",
    "print('flux density {:.2f}'.format(density(5.25)))\n"
   ]
  },
  {
   "cell_type": "code",
   "execution_count": null,
   "metadata": {},
   "outputs": [],
   "source": []
  },
  {
   "cell_type": "code",
   "execution_count": null,
   "metadata": {},
   "outputs": [],
   "source": []
  }
 ],
 "metadata": {
  "kernelspec": {
   "display_name": "Python 3",
   "language": "python",
   "name": "python3"
  },
  "language_info": {
   "codemirror_mode": {
    "name": "ipython",
    "version": 3
   },
   "file_extension": ".py",
   "mimetype": "text/x-python",
   "name": "python",
   "nbconvert_exporter": "python",
   "pygments_lexer": "ipython3",
   "version": "3.8.3"
  }
 },
 "nbformat": 4,
 "nbformat_minor": 4
}
