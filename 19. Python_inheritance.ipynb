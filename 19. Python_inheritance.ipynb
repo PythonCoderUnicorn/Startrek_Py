{
 "cells": [
  {
   "cell_type": "markdown",
   "metadata": {},
   "source": [
    "# Startrek Python - Inheritance"
   ]
  },
  {
   "cell_type": "markdown",
   "metadata": {},
   "source": [
    "For understanding inheritance in Python it is helpful to think\n",
    "of a family tree and genetic inheritance. \n",
    "\n",
    "Inheritance allows us to define a class that inherits all the methods and properties from another class.\n",
    "\n",
    "- Parent class is the class being inherited from, also called base class.\n",
    "- Child class is the class that inherits from another class, also called derived class.\n",
    "\n",
    "Using a family theme for this topic was decied to help with understanding"
   ]
  },
  {
   "cell_type": "markdown",
   "metadata": {},
   "source": [
    "## Parent Class "
   ]
  },
  {
   "cell_type": "code",
   "execution_count": 14,
   "metadata": {},
   "outputs": [
    {
     "name": "stdout",
     "output_type": "stream",
     "text": [
      "get a hug from mother Sarah with Black hair\n",
      "get a hug from mother Rebecca with Brown hair\n"
     ]
    }
   ],
   "source": [
    "# create parents (just like you did in the Classes section)\n",
    "# a parent is any class function\n",
    "\n",
    "class Mom1:\n",
    "    def __init__(mother, fname, hair_col):\n",
    "        mother.fname = fname\n",
    "        mother.hair_col = hair_col\n",
    "        \n",
    "    def hug(mother):\n",
    "        print('get a hug from mother {} with {} hair'.format(mother.fname, mother.hair_col))\n",
    "#-----------------------------\n",
    "\n",
    "class Mom2:\n",
    "    def __init__(mother, fname, hair_col):\n",
    "        mother.fname = fname\n",
    "        mother.hair_col = hair_col\n",
    "        \n",
    "    def hug(mother):\n",
    "        print('get a hug from mother {} with {} hair'.format(mother.fname, mother.hair_col))\n",
    "#-----------------------------\n",
    "    \n",
    "    \n",
    "# create object for class\n",
    "parent1 = Mom1('Sarah','Black')\n",
    "parent1.hug()\n",
    "\n",
    "parent2 = Mom2('Rebecca','Brown')\n",
    "parent2.hug()"
   ]
  },
  {
   "cell_type": "markdown",
   "metadata": {},
   "source": [
    "## Create a Child Class"
   ]
  },
  {
   "cell_type": "markdown",
   "metadata": {},
   "source": [
    "To create a class that inherits the functionality from another class, send the parent class as a parameter when creating the child class"
   ]
  },
  {
   "cell_type": "code",
   "execution_count": 15,
   "metadata": {},
   "outputs": [],
   "source": [
    "# let's use class Mom1 as the parent to class child\n",
    "class Child(Mom1):\n",
    "    pass"
   ]
  },
  {
   "cell_type": "code",
   "execution_count": 16,
   "metadata": {},
   "outputs": [
    {
     "name": "stdout",
     "output_type": "stream",
     "text": [
      "get a hug from mother Sarah with Black hair\n"
     ]
    }
   ],
   "source": [
    "# the Child class has the same properties and methods \n",
    "# of parent (Mom1) class, why? INHERITANCE\n",
    "\n",
    "# side note: \n",
    "# the child will have Black hair as it is dominant just like\n",
    "# real biology\n",
    "\n",
    "offspring = Child(\"Sarah\",'Black') # Mom1 Sarah, black hair\n",
    "offspring.hug()"
   ]
  },
  {
   "cell_type": "markdown",
   "metadata": {},
   "source": [
    "## Child Class __init__ function"
   ]
  },
  {
   "cell_type": "markdown",
   "metadata": {},
   "source": [
    "When you add the __init__() function, the child class will no longer inherit the parent's __init__() function. \n",
    "The child's __init__() function overrides the inheritance of the parent's __init__() function."
   ]
  },
  {
   "cell_type": "code",
   "execution_count": 18,
   "metadata": {},
   "outputs": [
    {
     "name": "stdout",
     "output_type": "stream",
     "text": [
      "baby Alex with purple hair is alseep\n"
     ]
    }
   ],
   "source": [
    "class Child(Mom1):\n",
    "    def __init__(baby, name, hair_col):\n",
    "        # Child class properties\n",
    "        baby.name = name\n",
    "        baby.hair_col = hair_col\n",
    "        \n",
    "    def sleep(self):\n",
    "        print('baby {} with {} hair is alseep'.format(self.name, self.hair_col))\n",
    "\n",
    "# object to call the class\n",
    "offspring1 = Child('Alex','purple')\n",
    "offspring1.sleep()"
   ]
  },
  {
   "cell_type": "code",
   "execution_count": 32,
   "metadata": {},
   "outputs": [
    {
     "name": "stdout",
     "output_type": "stream",
     "text": [
      "baby Alex with neon hair is alseep\n"
     ]
    }
   ],
   "source": [
    "# to keep the parent class init function \n",
    "\n",
    "class Mom1:    \n",
    "    def __init__(mother, fname, hair_col):\n",
    "        mother.fname = fname\n",
    "        mother.hair_col = hair_col\n",
    "    def hug(mother):\n",
    "        print('get a hug from mother {} with {} hair'.format(mother.fname, mother.hair_col))\n",
    "#-----------------------------\n",
    "class Child(Mom1):\n",
    "    def __init__(baby, name, hair_col):\n",
    "        # Child class properties\n",
    "        baby.name = name\n",
    "        baby.hair_col = hair_col\n",
    "        \n",
    "    def sleep(self):\n",
    "        print('baby {} with {} hair is alseep'.format(self.name, self.hair_col))\n",
    "\n",
    "        \n",
    "offspring1 = Child('Alex','neon')\n",
    "#offspring1.hug() # throws an error, as Child class has no 'fname'\n",
    "offspring1.sleep()"
   ]
  },
  {
   "cell_type": "markdown",
   "metadata": {},
   "source": [
    "## __super__() Function"
   ]
  },
  {
   "cell_type": "markdown",
   "metadata": {},
   "source": [
    "Python also has a super() function that will make the child class inherit all the methods and properties from its parent. Isn't that\n",
    "__super__?!"
   ]
  },
  {
   "cell_type": "code",
   "execution_count": 57,
   "metadata": {},
   "outputs": [
    {
     "name": "stdout",
     "output_type": "stream",
     "text": [
      "get a hug from mother Sarah with Black hair\n",
      "get a hug from mother Rebecca with *neon* hair\n",
      "get a hug from mother _Wanda with _orange hair\n"
     ]
    }
   ],
   "source": [
    "# the Child class with the super() function\n",
    "\n",
    "class Mom1:\n",
    "    def __init__(mother, fname, hair_col):\n",
    "        mother.fname = fname\n",
    "        mother.hair_col = hair_col\n",
    "        \n",
    "    def hug(mother):\n",
    "        print('get a hug from mother {} with {} hair'.format(mother.fname, mother.hair_col))\n",
    "#-----------------------------\n",
    "class Child(Mom1):\n",
    "    def __init__(baby, name, hair_col):\n",
    "        super().__init__(name, hair_col)\n",
    "    def sleep(self):\n",
    "        print('baby {} with {} hair is alseep'.format(self.name, self.hair_col))\n",
    "\n",
    "\n",
    "# create object to call the class\n",
    "parent1 = Mom1('Sarah','Black')\n",
    "parent1.hug()\n",
    "\n",
    "# notice that the name and hair color can be changed\n",
    "# the Child class \n",
    "offspring = Child('Rebecca','*neon*')\n",
    "offspring.hug()\n",
    "\n",
    "# x object calling Mom1 class\n",
    "x = Mom1('_Wanda','_orange')\n",
    "x.hug()"
   ]
  },
  {
   "cell_type": "code",
   "execution_count": null,
   "metadata": {},
   "outputs": [],
   "source": []
  }
 ],
 "metadata": {
  "kernelspec": {
   "display_name": "Python 3",
   "language": "python",
   "name": "python3"
  },
  "language_info": {
   "codemirror_mode": {
    "name": "ipython",
    "version": 3
   },
   "file_extension": ".py",
   "mimetype": "text/x-python",
   "name": "python",
   "nbconvert_exporter": "python",
   "pygments_lexer": "ipython3",
   "version": "3.8.3"
  }
 },
 "nbformat": 4,
 "nbformat_minor": 4
}
