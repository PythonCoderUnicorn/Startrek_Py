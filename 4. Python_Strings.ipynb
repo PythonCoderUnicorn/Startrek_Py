{
 "cells": [
  {
   "cell_type": "markdown",
   "metadata": {},
   "source": [
    "# Startrek Python - Strings"
   ]
  },
  {
   "cell_type": "markdown",
   "metadata": {},
   "source": [
    "You have already seen this data type, however the proper name is String Literals. There is a lot you can do with strings, understanding string literals will help you with text manipulation and for a much later topic Regular Expressions (Regex, which is under the Machine Learning category). String literals are fun to play around with and are inportant to know when searching for a input value."
   ]
  },
  {
   "cell_type": "markdown",
   "metadata": {},
   "source": [
    "## Slicing"
   ]
  },
  {
   "cell_type": "markdown",
   "metadata": {},
   "source": [
    "Not just pizza by the slice, but also strings by the slice. Get only what you want from a text str variable."
   ]
  },
  {
   "cell_type": "code",
   "execution_count": 32,
   "metadata": {},
   "outputs": [
    {
     "name": "stdout",
     "output_type": "stream",
     "text": [
      "s[12] =  t\n",
      "s[2: 6] =  lcom\n",
      "s[::2] = Wloet trle!\n"
     ]
    }
   ],
   "source": [
    "# variable with a string         note: str can't be used as variable name\n",
    "string = \"Welcome to Starfleet!\"\n",
    "\n",
    "#  W e l c o m e t o S  t  a  r  f  l  e  e  t  !\n",
    "#[ 0 1 2 3 4 5 6 7 8 9 10 11 12 13 14 15 16 17 18 ]\n",
    "\n",
    "# slice out the first element, remember 1st means 0\n",
    "print('s[12] = ', string[12])\n",
    "\n",
    "# slice out elements using [start : end]\n",
    "# start from 2, end at 5 element  \n",
    "print('s[2: 6] = ', string[2:6])\n",
    "\n",
    "\n",
    "# slice out every other letter\n",
    "print('s[::2] =', string[::2] )\n",
    "\n"
   ]
  },
  {
   "cell_type": "markdown",
   "metadata": {},
   "source": [
    "### Negative index slicing"
   ]
  },
  {
   "cell_type": "markdown",
   "metadata": {},
   "source": [
    "Use negative indexes to start the slice from the end of the string"
   ]
  },
  {
   "cell_type": "code",
   "execution_count": 29,
   "metadata": {},
   "outputs": [
    {
     "name": "stdout",
     "output_type": "stream",
     "text": [
      " s[-6 : -1] = fleet\n"
     ]
    }
   ],
   "source": [
    "string = \"Welcome to Starfleet!\"\n",
    "\n",
    "#  W e l c o m e t o S  t  a  r  f  l  e  e  t  !\n",
    "#[ 0 1 2 3 4 5 6 7 8 9 10 11 12 13 14 15 16 17 18 ]\n",
    "#[ -21 -20 ..... -10 -9 -8 -7 -6 -5 -4 -3 -2 -1   ]\n",
    "\n",
    "# print out 'fleet' but starting from the end\n",
    "print(' s[-6 : -1] =',string[-6:-1])"
   ]
  },
  {
   "cell_type": "markdown",
   "metadata": {},
   "source": [
    "### String Length"
   ]
  },
  {
   "cell_type": "markdown",
   "metadata": {},
   "source": [
    "It's easy to find out how long a text string is, use the <code> len() </code> function"
   ]
  },
  {
   "cell_type": "code",
   "execution_count": 30,
   "metadata": {},
   "outputs": [
    {
     "data": {
      "text/plain": [
       "21"
      ]
     },
     "execution_count": 30,
     "metadata": {},
     "output_type": "execute_result"
    }
   ],
   "source": [
    "string = \"Welcome to Starfleet!\"\n",
    "\n",
    "len(string)"
   ]
  },
  {
   "cell_type": "markdown",
   "metadata": {},
   "source": [
    "### String Methods - basics"
   ]
  },
  {
   "cell_type": "markdown",
   "metadata": {},
   "source": [
    "String methods are functions used on strings and are very useful for changing parts of the string"
   ]
  },
  {
   "cell_type": "code",
   "execution_count": 59,
   "metadata": {},
   "outputs": [
    {
     "name": "stdout",
     "output_type": "stream",
     "text": [
      " to upper  WELCOME TO STARFLEET!\n",
      " to lower  code red!\n",
      " strip - the final frontier\n",
      " replace  W*lcom* to Starfl**t!\n",
      " split  ['Tea,', 'Earl', 'Grey,', 'hot']\n",
      " checking message for word Theta : True\n",
      " checking if Theta not in message: False\n"
     ]
    }
   ],
   "source": [
    "string = \"Welcome to Starfleet!\"\n",
    "warning = 'CODE RED!'\n",
    "space = '           the final frontier  '\n",
    "splits = \"Tea, Earl Grey, hot\"\n",
    "message = \"Your orders are to report to Omicron Theta\"\n",
    "\n",
    "# strings to uppercase\n",
    "print(' to upper ', string.upper())\n",
    "\n",
    "# string to lowercase\n",
    "print(' to lower ', warning.lower())\n",
    "\n",
    "# strip your string of whitespace at start or end\n",
    "print(' strip -', space.strip())\n",
    "\n",
    "# replace a letter in string\n",
    "# you can replace with anything in ' '\n",
    "print(' replace ', string.replace('e','*'))\n",
    "\n",
    "# The split() method splits the string into \n",
    "# substrings if it finds instances of the separator\n",
    "# ** this is very useful to know for text manipulation\n",
    "print(' split ', splits.split())\n",
    "\n",
    "\n",
    "# check if a certain phrase or character is present in a string, \n",
    "#cwe can use the keywords in or not in.\n",
    "verify = \"Theta\" in message\n",
    "print(' checking message for word Theta :', verify)\n",
    "\n",
    "verify = \"Theta\" not in message\n",
    "print(' checking if Theta not in message:', verify)"
   ]
  },
  {
   "cell_type": "markdown",
   "metadata": {},
   "source": [
    "### String Concatenation"
   ]
  },
  {
   "cell_type": "markdown",
   "metadata": {},
   "source": [
    "Like cats? String concatenation is for you! Joking aside, it is combining multiple variables or objects together. "
   ]
  },
  {
   "cell_type": "code",
   "execution_count": 65,
   "metadata": {},
   "outputs": [
    {
     "name": "stdout",
     "output_type": "stream",
     "text": [
      "CaptainJaneway\n",
      "Captain Janeway\n"
     ]
    }
   ],
   "source": [
    "rank = 'Captain'\n",
    "Officer_lastName = 'Janeway'\n",
    "\n",
    "VOY_CO = rank + Officer_lastName\n",
    "print(VOY_CO)\n",
    "\n",
    "VOY_CO = rank + \" \" + Officer_lastName\n",
    "print(VOY_CO)"
   ]
  },
  {
   "cell_type": "markdown",
   "metadata": {},
   "source": [
    "### String Format"
   ]
  },
  {
   "cell_type": "markdown",
   "metadata": {},
   "source": [
    "There are more than 1 way of formatting string text, formatting will save you from fixing code later for any variable you need to change in the future. It is a good practice to get into, as if you need to change a variable you need to fix only the variable and not everything using that variable"
   ]
  },
  {
   "cell_type": "code",
   "execution_count": 70,
   "metadata": {},
   "outputs": [
    {
     "name": "stdout",
     "output_type": "stream",
     "text": [
      "Lt.Dax won 3 games of Dabo and made 17 strips of latinum.\n"
     ]
    }
   ],
   "source": [
    "# formatting text using .format() \n",
    "\n",
    "quantity = 3\n",
    "strips = 17\n",
    "\n",
    "text = \"Lt.Dax won {} games of Dabo and made {} strips of latinum.\"\n",
    "print(text.format( quantity, strips))"
   ]
  },
  {
   "cell_type": "code",
   "execution_count": 92,
   "metadata": {},
   "outputs": [
    {
     "name": "stdout",
     "output_type": "stream",
     "text": [
      "pay only 3 strips for holosuite 27, program Super Mario.\n",
      "pay only Super Mario strips for holosuite 3, program 27.\n",
      "Phaser banks show 234 photons, 1877 plasma emitters\n"
     ]
    }
   ],
   "source": [
    "# this formating allows for reording \n",
    "\n",
    "strips = 3 # 0\n",
    "holosuite = 27    # 1\n",
    "program = 'Super Mario'  # 2\n",
    "\n",
    "myorder = \"pay only {0} strips for holosuite {1}, program {2}.\"\n",
    "print(myorder.format(strips, holosuite, program))\n",
    "\n",
    "myorder = \"pay only {2} strips for holosuite {0}, program {1}.\"\n",
    "print(myorder.format(strips, holosuite, program))\n",
    "\n",
    "x = 234\n",
    "y = 1877\n",
    "text = \"Phaser banks show {0} photons, {1} plasma emitters\"\n",
    "print(text.format(x,y))"
   ]
  },
  {
   "cell_type": "markdown",
   "metadata": {},
   "source": [
    "### Escape Characters"
   ]
  },
  {
   "cell_type": "markdown",
   "metadata": {},
   "source": [
    "You may have noticed that the use of quotes can either be ' ' or \" \". When in a string using the words with contractions the program sends you an error, unless there are escape characters which tell Python basically ignore this extra ' in the text.\n"
   ]
  },
  {
   "cell_type": "code",
   "execution_count": 96,
   "metadata": {},
   "outputs": [
    {
     "ename": "SyntaxError",
     "evalue": "invalid syntax (<ipython-input-96-8b4c5ce27bfe>, line 1)",
     "output_type": "error",
     "traceback": [
      "\u001b[0;36m  File \u001b[0;32m\"<ipython-input-96-8b4c5ce27bfe>\"\u001b[0;36m, line \u001b[0;32m1\u001b[0m\n\u001b[0;31m    escape = 'I can't believe it'\u001b[0m\n\u001b[0m                    ^\u001b[0m\n\u001b[0;31mSyntaxError\u001b[0m\u001b[0;31m:\u001b[0m invalid syntax\n"
     ]
    }
   ],
   "source": [
    "escape = 'I can't believe it'\n",
    "print(escape)"
   ]
  },
  {
   "cell_type": "code",
   "execution_count": 98,
   "metadata": {},
   "outputs": [
    {
     "name": "stdout",
     "output_type": "stream",
     "text": [
      "I can't believe it\n"
     ]
    }
   ],
   "source": [
    "# solution is to use a backslash '\\'\n",
    "escape = 'I can\\'t believe it'  # \"I can\\'t believe it\"\n",
    "print(escape)"
   ]
  },
  {
   "cell_type": "code",
   "execution_count": 99,
   "metadata": {},
   "outputs": [
    {
     "name": "stdout",
     "output_type": "stream",
     "text": [
      "Lorem ipsum dolor sit amet, consectetur adipiscing elit, sed do eiusmod tempor incididunt ut labore et dolore magna aliqua. Ut enim ad minim veniam, quis nostrud exercitation ullamco laboris nisi ut aliquip ex ea commodo consequat. Duis aute irure dolor in reprehenderit in voluptate velit esse cillum dolore eu fugiat nulla pariatur. Excepteur sint occaecat cupidatat non proident, sunt in culpa qui officia deserunt mollit anim id est laborum.\n"
     ]
    }
   ],
   "source": [
    "# text without new line\n",
    "\n",
    "lorem =\"Lorem ipsum dolor sit amet, \\\n",
    "consectetur adipiscing elit, sed do eiusmod tempor incididunt \\\n",
    "ut labore et dolore magna aliqua. Ut enim ad minim veniam, \\\n",
    "quis nostrud exercitation ullamco laboris nisi ut aliquip \\\n",
    "ex ea commodo consequat. Duis aute irure dolor in reprehenderit \\\n",
    "in voluptate velit esse cillum dolore eu fugiat nulla pariatur. \\\n",
    "Excepteur sint occaecat cupidatat non proident, \\\n",
    "sunt in culpa qui officia deserunt mollit anim id est laborum.\"\n",
    "\n",
    "print(lorem)"
   ]
  },
  {
   "cell_type": "code",
   "execution_count": 102,
   "metadata": {},
   "outputs": [
    {
     "name": "stdout",
     "output_type": "stream",
     "text": [
      "------ New Line \n",
      "\n",
      "Lorem ipsum dolor sit amet, consectetur \n",
      " adipiscing elit, sed do eiusmod tempor incididunt ut labore et dolore magna aliqua.\n",
      " Ut enim ad minim veniam, quis nostrud exercitation ullamco laboris nisi ut aliquip ex ea commodo consequat. \n",
      " Duis aute irure dolor in reprehenderit in voluptate velit esse cillum dolore eu fugiat nulla pariatur. Excepteur sint occaecat \n",
      " cupidatat non proident, sunt in culpa qui officia deserunt mollit anim id est laborum.\n"
     ]
    }
   ],
   "source": [
    "# text with new line\n",
    "print('------ New Line', '\\n')\n",
    "\n",
    "lorem =\"Lorem ipsum dolor sit amet, \\\n",
    "consectetur \\n adipiscing elit, sed do eiusmod tempor incididunt \\\n",
    "ut labore et dolore magna aliqua.\\n Ut enim ad minim veniam, \\\n",
    "quis nostrud exercitation ullamco laboris nisi ut aliquip \\\n",
    "ex ea commodo consequat. \\n Duis aute irure dolor in reprehenderit \\\n",
    "in voluptate velit esse cillum dolore eu fugiat nulla pariatur. \\\n",
    "Excepteur sint occaecat \\n cupidatat non proident, \\\n",
    "sunt in culpa qui officia deserunt mollit anim id est laborum.\"\n",
    "\n",
    "print(lorem)"
   ]
  },
  {
   "cell_type": "code",
   "execution_count": null,
   "metadata": {},
   "outputs": [],
   "source": []
  }
 ],
 "metadata": {
  "kernelspec": {
   "display_name": "Python 3",
   "language": "python",
   "name": "python3"
  },
  "language_info": {
   "codemirror_mode": {
    "name": "ipython",
    "version": 3
   },
   "file_extension": ".py",
   "mimetype": "text/x-python",
   "name": "python",
   "nbconvert_exporter": "python",
   "pygments_lexer": "ipython3",
   "version": "3.8.3"
  }
 },
 "nbformat": 4,
 "nbformat_minor": 4
}
