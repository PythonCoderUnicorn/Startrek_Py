{
 "cells": [
  {
   "cell_type": "markdown",
   "metadata": {},
   "source": [
    "## Startrek Python - Syntax, Varriables and Comments"
   ]
  },
  {
   "cell_type": "markdown",
   "metadata": {},
   "source": [
    "Python language relies on spacing and will send you an error if spacing of code is incorrect."
   ]
  },
  {
   "cell_type": "code",
   "execution_count": 1,
   "metadata": {},
   "outputs": [
    {
     "name": "stdout",
     "output_type": "stream",
     "text": [
      " 5 is greater than 2\n"
     ]
    }
   ],
   "source": [
    "# proper syntax \n",
    "if 5 > 2:\n",
    "    print(' 5 is greater than 2')"
   ]
  },
  {
   "cell_type": "code",
   "execution_count": 2,
   "metadata": {},
   "outputs": [
    {
     "ename": "IndentationError",
     "evalue": "expected an indented block (<ipython-input-2-b49e73906c2f>, line 3)",
     "output_type": "error",
     "traceback": [
      "\u001b[0;36m  File \u001b[0;32m\"<ipython-input-2-b49e73906c2f>\"\u001b[0;36m, line \u001b[0;32m3\u001b[0m\n\u001b[0;31m    print(' 5 is greater than 2')\u001b[0m\n\u001b[0m    ^\u001b[0m\n\u001b[0;31mIndentationError\u001b[0m\u001b[0;31m:\u001b[0m expected an indented block\n"
     ]
    }
   ],
   "source": [
    "# incorrect syntax\n",
    "if 5 > 2:\n",
    "print(' 5 is greater than 2')"
   ]
  },
  {
   "cell_type": "markdown",
   "metadata": {},
   "source": [
    "## Python Variables "
   ]
  },
  {
   "cell_type": "markdown",
   "metadata": {},
   "source": [
    "<p> In Python you can name variables mostly however you want with some exceptions, you can't use special words (int, str, bool, etc), 3a, _var. \n",
    "It is advised you use Name_of_Var or camelcase NameOfVar convention. Naming variables relevant to your task at hand is helpful later in understanding what the variable is.</p>\n",
    "\n",
    "- variable name must start with a letter or the underscore character\n",
    "- variable name cannot start with a number\n",
    "- variable name can only contain alpha-numeric characters and underscores (A-z, 0-9, and _ )\n",
    "- Variable names are case-sensitive (age, Age and AGE are three different variables)\n"
   ]
  },
  {
   "cell_type": "code",
   "execution_count": 3,
   "metadata": {},
   "outputs": [],
   "source": [
    "# you can use simple variables\n",
    "x = 9\n",
    "v = \"holosuite 3\"\n",
    "\n",
    "latinum_price = 233.65\n",
    "Borg_001 = \"7of9\"\n",
    "TeaEarlGreyHot = True"
   ]
  },
  {
   "cell_type": "code",
   "execution_count": 14,
   "metadata": {},
   "outputs": [
    {
     "name": "stdout",
     "output_type": "stream",
     "text": [
      "Nog\n",
      "Dax Symbiont\n",
      " Dr Bashir I presume ?\n"
     ]
    },
    {
     "data": {
      "text/plain": [
       "3773165756.1099997"
      ]
     },
     "execution_count": 14,
     "metadata": {},
     "output_type": "execute_result"
    }
   ],
   "source": [
    "# Python allows variables assignments of more than 1 variable\n",
    "f1,f2,f3 = 'Quark','Nog','Rom'\n",
    "print(f2)\n",
    "\n",
    "# you can assign the same value to multiple variables in one line:\n",
    "d1 = d2 = d3 = d4 = d5 = d6 = d7 = d8 = \"Dax Symbiont\"\n",
    "print(d4)\n",
    "\n",
    "# you can use the '+' operator to concatenate variables\n",
    "d = \" Dr\"\n",
    "b = ' Bashir'\n",
    "ip = \" I presume ?\"\n",
    "\n",
    "episode = d + b + ip\n",
    "print(episode)\n",
    "\n",
    "x1 = 9398389.89\n",
    "y1 = 3763767366.22\n",
    "calculation = x1 + y1\n",
    "\n",
    "# print out variable in the Notebook\n",
    "calculation"
   ]
  },
  {
   "cell_type": "markdown",
   "metadata": {},
   "source": [
    "## Global Variables"
   ]
  },
  {
   "cell_type": "markdown",
   "metadata": {},
   "source": [
    "<p> Variables that are created outside of a function (as in all of the examples above) are known as global variables.\n",
    "\n",
    "Global variables can be used by everyone, both inside of functions and outside. </p>"
   ]
  },
  {
   "cell_type": "code",
   "execution_count": 16,
   "metadata": {},
   "outputs": [
    {
     "name": "stdout",
     "output_type": "stream",
     "text": [
      " WARNING:  The warpcore is offline\n"
     ]
    }
   ],
   "source": [
    "# GLOBAL VARIABLES are usually in uppercase \n",
    "# to differentiate from local variables\n",
    "\n",
    "WARP_CORE = \"The warpcore is offline\"\n",
    "\n",
    "# the lines are to show what a function looks like, optional in use\n",
    "#------------------------------- \n",
    "def Engineering_function():\n",
    "    print(\" WARNING: \", WARP_CORE )\n",
    "#-------------------------------\n",
    "\n",
    "# need to call the function above in order to run\n",
    "Engineering_function()"
   ]
  },
  {
   "cell_type": "markdown",
   "metadata": {},
   "source": [
    "<p> If you create a variable with the same name inside a function, \n",
    "this variable will be local, and can only be used inside the function. \n",
    "The global variable with the same name will remain as it was, \n",
    "global and with the original value. </p>"
   ]
  },
  {
   "cell_type": "code",
   "execution_count": 19,
   "metadata": {},
   "outputs": [
    {
     "name": "stdout",
     "output_type": "stream",
     "text": [
      " WARP_CORE inside function_   Is working just fine\n",
      " Global var:  The warpcore is offline\n"
     ]
    }
   ],
   "source": [
    "# GLOBAL VAR\n",
    "WARP_CORE = \"The warpcore is offline\"\n",
    "\n",
    "def function_():\n",
    "    WARP_CORE = \" Is working just fine\"\n",
    "    print(' WARP_CORE inside function_ ', WARP_CORE)\n",
    "    \n",
    "function_()\n",
    "\n",
    "print(' Global var: ', WARP_CORE)"
   ]
  },
  {
   "cell_type": "markdown",
   "metadata": {},
   "source": [
    "<p> when you create a variable inside a function, that variable is local, and can only be used inside that function.\n",
    "\n",
    "To create a global variable inside a function, you can use the global keyword.\n",
    "</p>"
   ]
  },
  {
   "cell_type": "code",
   "execution_count": 27,
   "metadata": {},
   "outputs": [
    {
     "name": "stdout",
     "output_type": "stream",
     "text": [
      " global WARP_CORE inside function_ : The warpcore is offline\n",
      " GLOBAL var:  The warpcore is offline\n"
     ]
    }
   ],
   "source": [
    "# GLOBAL VAR\n",
    "WARP_CORE = \"The warpcore is offline\"\n",
    "\n",
    "def function_():\n",
    "    global WARP_CORE  # this global calls the GLOBAL VAR\n",
    "    print(' global WARP_CORE inside function_ :', WARP_CORE)\n",
    "    \n",
    "function_()\n",
    "\n",
    "print(' GLOBAL var: ', WARP_CORE)"
   ]
  },
  {
   "cell_type": "markdown",
   "metadata": {},
   "source": [
    "## Commenting"
   ]
  },
  {
   "cell_type": "markdown",
   "metadata": {},
   "source": [
    "As shown above using <code> # </code> comments-out the code\n",
    "\n",
    "for multi-line commenting use <code> /* lines of comments */ </code> \n",
    "<br>\n",
    "or can use <code> \"\"\"  .... lots of multi-line comments .... \"\"\" </code>"
   ]
  },
  {
   "cell_type": "markdown",
   "metadata": {},
   "source": [
    "<h3> Commenting is important ! </h3>\n",
    "<p> Making comments while you code or even before you start work is a good practice to get into. Why? Because you will most likely forget what your code, variables and functions are and what they are doing. Commenting is helpful when you stop working on a project and then later return to have comment notes telling you what you did and why. </p>\n",
    "\n",
    "Another reason to write comments is that it's helpful for fellow Starfleet Officers that see your source code know and understand what you did and what functions are. Think of these comments as a message through the Space-Time Continuum telling you what the code means without the temporal distortions.\n",
    "\n",
    "- If you wish to read up on Starfleet's Guidelines on comments: [Federation Commenting Guideline](https://en.wikibooks.org/wiki/Python_Programming/Source_Documentation_and_Comments)"
   ]
  }
 ],
 "metadata": {
  "kernelspec": {
   "display_name": "Python 3",
   "language": "python",
   "name": "python3"
  },
  "language_info": {
   "codemirror_mode": {
    "name": "ipython",
    "version": 3
   },
   "file_extension": ".py",
   "mimetype": "text/x-python",
   "name": "python",
   "nbconvert_exporter": "python",
   "pygments_lexer": "ipython3",
   "version": "3.8.3"
  }
 },
 "nbformat": 4,
 "nbformat_minor": 4
}
