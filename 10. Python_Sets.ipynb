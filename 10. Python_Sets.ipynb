{
 "cells": [
  {
   "cell_type": "markdown",
   "metadata": {},
   "source": [
    "# Startrek Python - Sets"
   ]
  },
  {
   "cell_type": "markdown",
   "metadata": {},
   "source": [
    "A set is a collection which is unordered and unindexed. In Python, sets are written with curly brackets. Sets are  UNordered, so what elements gets returned is random order\n",
    "- Note: Sets are very similar to Dictionaries in using {} brackets\n",
    "- Set elements are not accesible by index or a key value\n",
    "- Set elements can't be changed"
   ]
  },
  {
   "cell_type": "code",
   "execution_count": 3,
   "metadata": {},
   "outputs": [
    {
     "name": "stdout",
     "output_type": "stream",
     "text": [
      " head_set element ... {'Mouth', 'Eyes', 'Brain', 'Nose', 'Ears'}\n"
     ]
    }
   ],
   "source": [
    "# run this cell more than 2 times to see random order of this Set\n",
    "head_set = {\"Eyes\", \"Ears\", \"Mouth\",\"Brain\",\"Nose\"}\n",
    "print(' head_set element ...',head_set)"
   ]
  },
  {
   "cell_type": "markdown",
   "metadata": {},
   "source": [
    "### For Loop a Set"
   ]
  },
  {
   "cell_type": "code",
   "execution_count": 7,
   "metadata": {},
   "outputs": [
    {
     "name": "stdout",
     "output_type": "stream",
     "text": [
      "The holographic Dr has Mouth\n",
      "The holographic Dr has Nose\n",
      "The holographic Dr has Eyes\n",
      "The holographic Dr has Ears\n"
     ]
    }
   ],
   "source": [
    "hologram_Dr = {'Mouth', 'Eyes', 'Nose', 'Ears'}\n",
    "\n",
    "for hologram_ in hologram_Dr:\n",
    "    print('The holographic Dr has {}'.format(hologram_))"
   ]
  },
  {
   "cell_type": "markdown",
   "metadata": {},
   "source": [
    "### Check if item is in Set"
   ]
  },
  {
   "cell_type": "code",
   "execution_count": 16,
   "metadata": {},
   "outputs": [
    {
     "name": "stdout",
     "output_type": "stream",
     "text": [
      " does the Dr have a brain? answer is False\n"
     ]
    }
   ],
   "source": [
    "print(\" does the Dr have a {}?\".format(\"brain\"),'answer is',\\\n",
    "      \"brain\" in hologram_Dr)"
   ]
  },
  {
   "cell_type": "markdown",
   "metadata": {},
   "source": [
    "### Add elements to Set"
   ]
  },
  {
   "cell_type": "code",
   "execution_count": 18,
   "metadata": {},
   "outputs": [
    {
     "name": "stdout",
     "output_type": "stream",
     "text": [
      "the hologram_Dr Set add {'Mouth', 'Eyes', 'Nose', 'Ears', 'Picardo'}\n",
      "hologram_Dr Set update {'Mouth', 'Amotive', 'Eyes', 'Logical', 'Nose', 'Serious', 'Ears', 'Picardo'}\n"
     ]
    }
   ],
   "source": [
    "# add single item to holographic Dr Set using add()\n",
    "\n",
    "hologram_Dr.add(\"Picardo\")\n",
    "print('the hologram_Dr Set add',hologram_Dr)\n",
    "\n",
    "# add multiple items in holographic Dr Set using update()\n",
    "hologram_Dr.update([\"Serious\", \"Logical\", \"Amotive\"])\n",
    "\n",
    "print('hologram_Dr Set update',hologram_Dr)"
   ]
  },
  {
   "cell_type": "markdown",
   "metadata": {},
   "source": [
    "## Length of a Set"
   ]
  },
  {
   "cell_type": "code",
   "execution_count": 21,
   "metadata": {},
   "outputs": [
    {
     "name": "stdout",
     "output_type": "stream",
     "text": [
      "the hologram_Dr Set has 8 items\n"
     ]
    }
   ],
   "source": [
    "print('the hologram_Dr Set has {}'.format(len(hologram_Dr)), 'items')"
   ]
  },
  {
   "cell_type": "markdown",
   "metadata": {},
   "source": [
    "### Remove item from Set"
   ]
  },
  {
   "cell_type": "code",
   "execution_count": 22,
   "metadata": {},
   "outputs": [
    {
     "name": "stdout",
     "output_type": "stream",
     "text": [
      "hologram_Dr  {'Mouth', 'Eyes', 'Logical', 'Nose', 'Serious', 'Ears', 'Picardo'}\n"
     ]
    }
   ],
   "source": [
    "hologram_Dr.remove(\"Amotive\")\n",
    "\n",
    "print('hologram_Dr ',hologram_Dr)"
   ]
  },
  {
   "cell_type": "markdown",
   "metadata": {},
   "source": [
    "### Clear a Set"
   ]
  },
  {
   "cell_type": "code",
   "execution_count": 23,
   "metadata": {},
   "outputs": [
    {
     "name": "stdout",
     "output_type": "stream",
     "text": [
      "cleared your holosuite history? set()\n"
     ]
    }
   ],
   "source": [
    "holosuite_history = {'Risa_Adult','Orion_Girls','Orion_Guys','Vulcan_PonFarr'}\n",
    "\n",
    "holosuite_history.clear()\n",
    "\n",
    "print('cleared your holosuite history?',holosuite_history)"
   ]
  },
  {
   "cell_type": "markdown",
   "metadata": {},
   "source": [
    "### Join 2 Sets"
   ]
  },
  {
   "cell_type": "code",
   "execution_count": 28,
   "metadata": {},
   "outputs": [
    {
     "name": "stdout",
     "output_type": "stream",
     "text": [
      "holosuite history and order {'Risa_Adult', 1, 'Orion_Guys', 2, 'Orion_Girls', 3, 4, 'Vulcan_PonFarr'}\n"
     ]
    }
   ],
   "source": [
    "holosuite_history= {'Risa_Adult','Orion_Girls','Orion_Guys','Vulcan_PonFarr'}\n",
    "holosuite_order = {2,1,4,3}\n",
    "\n",
    "set3 = holosuite_history.union(holosuite_order)\n",
    "print('holosuite history and order',set3)"
   ]
  },
  {
   "cell_type": "markdown",
   "metadata": {},
   "source": [
    "### Differences in Sets"
   ]
  },
  {
   "cell_type": "code",
   "execution_count": 32,
   "metadata": {},
   "outputs": [
    {
     "name": "stdout",
     "output_type": "stream",
     "text": [
      "What is the difference between shifts ? {'Blueshirt'}\n"
     ]
    }
   ],
   "source": [
    "night_shift = {\"Redshirt\", \"Yellowshirt\", \"Blueshirt\",\"Yellowshirt\"}\n",
    "day_shift= {\"Redshirt\", \"Redshirt\", \"Yellowshirt\"}\n",
    "\n",
    "diffs_in_shifts = night_shift.difference(day_shift) \n",
    "\n",
    "print(\"What is the difference between shifts ?\",diffs_in_shifts)"
   ]
  },
  {
   "cell_type": "code",
   "execution_count": null,
   "metadata": {},
   "outputs": [],
   "source": []
  }
 ],
 "metadata": {
  "kernelspec": {
   "display_name": "Python 3",
   "language": "python",
   "name": "python3"
  },
  "language_info": {
   "codemirror_mode": {
    "name": "ipython",
    "version": 3
   },
   "file_extension": ".py",
   "mimetype": "text/x-python",
   "name": "python",
   "nbconvert_exporter": "python",
   "pygments_lexer": "ipython3",
   "version": "3.8.3"
  }
 },
 "nbformat": 4,
 "nbformat_minor": 4
}
