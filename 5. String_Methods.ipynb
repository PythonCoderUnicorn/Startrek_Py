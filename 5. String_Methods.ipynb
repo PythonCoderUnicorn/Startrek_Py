{
 "cells": [
  {
   "cell_type": "markdown",
   "metadata": {},
   "source": [
    "# Startrek Python - String Methods"
   ]
  },
  {
   "cell_type": "markdown",
   "metadata": {},
   "source": [
    "This notebook will explore string methods than before. Some of them you will see once again"
   ]
  },
  {
   "cell_type": "code",
   "execution_count": 22,
   "metadata": {},
   "outputs": [],
   "source": [
    "# text string variable\n",
    "\n",
    "prime_dir = \"noninterference with other cultures and civilizations.\"\n",
    "caps = \"DO NOT VIOLATE THE PRIME DIRECTIVE!\""
   ]
  },
  {
   "cell_type": "markdown",
   "metadata": {},
   "source": [
    "<h4> Capitalize </h4>"
   ]
  },
  {
   "cell_type": "code",
   "execution_count": 8,
   "metadata": {},
   "outputs": [
    {
     "data": {
      "text/plain": [
       "'Noninterference with other cultures and civilizations.'"
      ]
     },
     "execution_count": 8,
     "metadata": {},
     "output_type": "execute_result"
    }
   ],
   "source": [
    "# CAPITALIZE first letter\n",
    "prime_dir.capitalize()"
   ]
  },
  {
   "cell_type": "markdown",
   "metadata": {},
   "source": [
    "<h4> casefold </h4>"
   ]
  },
  {
   "cell_type": "code",
   "execution_count": 10,
   "metadata": {},
   "outputs": [
    {
     "data": {
      "text/plain": [
       "'do not violate the prime directive!'"
      ]
     },
     "execution_count": 10,
     "metadata": {},
     "output_type": "execute_result"
    }
   ],
   "source": [
    "# works like lower()\n",
    "caps.casefold()"
   ]
  },
  {
   "cell_type": "markdown",
   "metadata": {},
   "source": [
    "<h4> Count </h4>"
   ]
  },
  {
   "cell_type": "code",
   "execution_count": 35,
   "metadata": {},
   "outputs": [
    {
     "name": "stdout",
     "output_type": "stream",
     "text": [
      "number of 'prime' words = 4\n"
     ]
    }
   ],
   "source": [
    "# string.count(value, start, end) \n",
    "# start and end are optional but must be integers\n",
    "\n",
    "txt = \"so many planets with prime, prime this, prime that and prime number\"\n",
    "\n",
    "w = \"prime\"\n",
    "x = txt.count(w)\n",
    "\n",
    "print(\"number of '{}' words =\".format(w),x)"
   ]
  },
  {
   "cell_type": "markdown",
   "metadata": {},
   "source": [
    "<h4> endswith </h4>"
   ]
  },
  {
   "cell_type": "code",
   "execution_count": 61,
   "metadata": {},
   "outputs": [
    {
     "name": "stdout",
     "output_type": "stream",
     "text": [
      " Prime Directive ends with . =  True\n",
      " [5:11] civilizations. = False\n",
      "\n",
      "\n",
      ".. length= 54\n",
      "civilizations\n",
      " civilizations at [40, 54] = True\n"
     ]
    }
   ],
   "source": [
    "#  endswith() method returns True if the string ends \n",
    "#  with the specified value, otherwise False.\n",
    "#  string.endswith(value, start, end)     start, end are integers\n",
    "\n",
    "\n",
    "x = prime_dir.endswith(\".\")\n",
    "print(' Prime Directive ends with . = ', x)\n",
    "\n",
    "\n",
    "x = prime_dir.endswith(\"civilizations.\", 5, 11)\n",
    "print(' [5:11] civilizations. =',x)\n",
    "\n",
    "\n",
    "\n",
    "print('\\n')\n",
    "# find how long the str is\n",
    "print('.. length=', len(prime_dir))\n",
    "\n",
    "# we know the string is 54 letters\n",
    "# to find where this word is use string slicing\n",
    "print(prime_dir[40:-1])\n",
    "\n",
    "z= prime_dir.endswith(\"civilizations.\", 40, 54)\n",
    "print(' civilizations at [40, 54] =',z)"
   ]
  },
  {
   "cell_type": "markdown",
   "metadata": {},
   "source": [
    "<h4> find </h4>"
   ]
  },
  {
   "cell_type": "code",
   "execution_count": 72,
   "metadata": {},
   "outputs": [
    {
     "name": "stdout",
     "output_type": "stream",
     "text": [
      " find(violate) = -1\n",
      " find(VIOLATE) = 7\n",
      " caps[7] = V\n"
     ]
    }
   ],
   "source": [
    "# find() method finds the first occurrence of the specified value.\n",
    "# find() method returns -1 if the value is not found.\n",
    "# string.find(value, start, end)      start,end are integers\n",
    "\n",
    "x = caps.find(\"violate\")\n",
    "x2 = caps.find('VIOLATE')\n",
    "\n",
    "print(' find(violate) =',x)\n",
    "print(' find(VIOLATE) =',x2)\n",
    "print(' caps[7] =',caps[7])"
   ]
  },
  {
   "cell_type": "markdown",
   "metadata": {},
   "source": [
    "<h4> Format </h4>"
   ]
  },
  {
   "cell_type": "code",
   "execution_count": 78,
   "metadata": {},
   "outputs": [
    {
     "name": "stdout",
     "output_type": "stream",
     "text": [
      " A Kanar bottle holds 790.66 mL\n"
     ]
    }
   ],
   "source": [
    "# format() method formats the specified value(s) \n",
    "# and inserts them inside the string's placeholder.\n",
    "# string.format(value1, value2...)\n",
    "\n",
    "kanar = \" A Kanar bottle holds {volume:.2f} mL\"\n",
    "\n",
    "print(kanar.format(volume = 790.655432345))"
   ]
  },
  {
   "cell_type": "markdown",
   "metadata": {},
   "source": [
    "<h4>  Format placeholder </h4>"
   ]
  },
  {
   "cell_type": "markdown",
   "metadata": {},
   "source": [
    "The placeholders can be identified using named indexes {price}, numbered indexes {0}, or even empty placeholders {}.\n",
    "\n",
    "For extensive list of format placeholders go here [Formatting Types](https://www.w3schools.com/python/ref_string_format.asp)"
   ]
  },
  {
   "cell_type": "code",
   "execution_count": 94,
   "metadata": {},
   "outputs": [
    {
     "name": "stdout",
     "output_type": "stream",
     "text": [
      "Have you met 7of9 ? She works in Astrometrics\n",
      "Have you met 7of9 ? She works in Astrometrics\n",
      "Have you met 7of9 ? She works in Astrometrics\n"
     ]
    }
   ],
   "source": [
    "txt1 = \"Have you met {fname} ? She works in {department}\".format(fname = \"7of9\",\\\n",
    "                                      department = 'Astrometrics')\n",
    "print(txt1)\n",
    "\n",
    "txt2 = \"Have you met {0} ? She works in {1}\".format(\"7of9\",'Astrometrics')\n",
    "print(txt2)\n",
    "\n",
    "txt3 = \"Have you met {0} ? She works in {1}\".format(\"7of9\",'Astrometrics')\n",
    "print(txt3)"
   ]
  },
  {
   "cell_type": "markdown",
   "metadata": {},
   "source": [
    "<h4> Formatting Types </h4>"
   ]
  },
  {
   "cell_type": "code",
   "execution_count": 106,
   "metadata": {},
   "outputs": [
    {
     "name": "stdout",
     "output_type": "stream",
     "text": [
      "The binary version of 5 is 101\n",
      "We have 5 Bynars on this ship.\n",
      "Neptune is 4.553000e+03 kilometers away from Earth.\n",
      "The octal version of 16 is 20\n",
      "The Hexadecimal version of 255 is FF\n",
      "Forward shields are down 25.999900%\n",
      "Forward shields are down 26%\n"
     ]
    }
   ],
   "source": [
    "# Use \"b\" to convert the number into binary format:\n",
    "txt = \"The binary version of {0} is {0:b}\"\n",
    "print(txt.format(5))\n",
    "\n",
    "# Use \"d\" to convert a number, in this case a binary number, \n",
    "# into decimal number format:\n",
    "txt = \"We have {:d} Bynars on this ship.\"\n",
    "print(txt.format(0b101))\n",
    "\n",
    "# for scientific notation use \":e\"\n",
    "txt =\"Neptune is {:e} kilometers away from Earth.\" #4.553 billion \n",
    "print(txt.format(4553))\n",
    "\n",
    "\n",
    "#Use \"o\" to convert the number into octal format:\n",
    "txt = \"The octal version of {0} is {0:o}\"\n",
    "print(txt.format(16))\n",
    "\n",
    "\n",
    "# Use \"X\" to convert the number into upper-case Hex format:\n",
    "# for lowercase, make x lowercase\n",
    "txt = \"The Hexadecimal version of {0} is {0:X}\"\n",
    "print(txt.format(255))\n",
    "\n",
    "\n",
    "# Use \"%\" to convert the number into a percentage format:\n",
    "txt = \"Forward shields are down {:%}\"\n",
    "print(txt.format(0.259999))\n",
    "\n",
    "#Or, without any decimals:\n",
    "txt = \"Forward shields are down {:.0%}\"\n",
    "print(txt.format(0.259999))"
   ]
  },
  {
   "cell_type": "markdown",
   "metadata": {},
   "source": [
    "<h4> alphanumeric </h4>"
   ]
  },
  {
   "cell_type": "code",
   "execution_count": 117,
   "metadata": {},
   "outputs": [
    {
     "name": "stdout",
     "output_type": "stream",
     "text": [
      " isalnum(Bopek3) = True\n",
      " isalnum(Bopek 3) = False\n"
     ]
    }
   ],
   "source": [
    "# isalnum() method returns True if all the characters are alphanumeric, \n",
    "# meaning alphabet letter (a-z) and numbers (0-9).\n",
    "\n",
    "txt = \"Bopak3\"\n",
    "txt2 = \"Bopak 3\"\n",
    "\n",
    "x = txt.isalnum()\n",
    "x1 = txt2.isalnum()\n",
    "\n",
    "print(' isalnum(Bopek3) =',(x))\n",
    "print(' isalnum(Bopek 3) =',x1)"
   ]
  },
  {
   "cell_type": "markdown",
   "metadata": {},
   "source": [
    "<h4> isalpha </h4>"
   ]
  },
  {
   "cell_type": "code",
   "execution_count": 120,
   "metadata": {},
   "outputs": [
    {
     "name": "stdout",
     "output_type": "stream",
     "text": [
      " Starbase is alpha  True\n"
     ]
    }
   ],
   "source": [
    "# isalpha() method returns True if all the characters are \n",
    "# alphabet letters (a-z).\n",
    "# Example of characters that are not alphabet letters: (space)!#%&? etc.\n",
    "\n",
    "txt = \"Starbase\"\n",
    "x = txt.isalpha()\n",
    "print(' Starbase is alpha ', x)"
   ]
  },
  {
   "cell_type": "markdown",
   "metadata": {},
   "source": [
    "<h4> isdigit</h4>"
   ]
  },
  {
   "cell_type": "code",
   "execution_count": 121,
   "metadata": {},
   "outputs": [
    {
     "name": "stdout",
     "output_type": "stream",
     "text": [
      "True\n"
     ]
    }
   ],
   "source": [
    "txt = \"50800\"\n",
    "x = txt.isdigit()\n",
    "print(x)"
   ]
  },
  {
   "cell_type": "markdown",
   "metadata": {},
   "source": [
    "<h4> Join </h4>"
   ]
  },
  {
   "cell_type": "code",
   "execution_count": 129,
   "metadata": {},
   "outputs": [
    {
     "name": "stdout",
     "output_type": "stream",
     "text": [
      "StartrekTNG #StartrekDS9 #StartrekDisco\n"
     ]
    }
   ],
   "source": [
    "hashtags = (\"StartrekTNG\", \"StartrekDS9\", \"StartrekDisco\")\n",
    "\n",
    "x = \" #\".join(hashtags)\n",
    "print(x)"
   ]
  },
  {
   "cell_type": "code",
   "execution_count": 130,
   "metadata": {},
   "outputs": [
    {
     "name": "stdout",
     "output_type": "stream",
     "text": [
      "name|rank\n"
     ]
    }
   ],
   "source": [
    "myDict = {\"name\": \"Sisko\", \"rank\": \"Captain\"}\n",
    "mySeparator = \"|\"\n",
    "\n",
    "x = mySeparator.join(myDict)\n",
    "\n",
    "print(x)"
   ]
  },
  {
   "cell_type": "markdown",
   "metadata": {},
   "source": [
    "<h4> Replace </h4>"
   ]
  },
  {
   "cell_type": "code",
   "execution_count": 134,
   "metadata": {},
   "outputs": [
    {
     "name": "stdout",
     "output_type": "stream",
     "text": [
      "Klingons like to eat gummy bears\n",
      "enter three three four six nine, two two and three.\n"
     ]
    }
   ],
   "source": [
    "# string.replace(oldvalue, newvalue, count)\n",
    "\n",
    "# count \n",
    "# Optional:\n",
    "#    A number specifying how many occurrences of the old value \n",
    "#    you want to replace. Default is all occurrences\n",
    "\n",
    "txt = \"Klingons like to eat GagH\"\n",
    "x = txt.replace(\"GagH\", \"gummy bears\")\n",
    "print(x)\n",
    "\n",
    "\n",
    "txt = \"enter one one four six nine, two two and one.\"\n",
    "x = txt.replace(\"one\", \"three\")\n",
    "print(x)"
   ]
  },
  {
   "cell_type": "code",
   "execution_count": null,
   "metadata": {},
   "outputs": [],
   "source": []
  }
 ],
 "metadata": {
  "kernelspec": {
   "display_name": "Python 3",
   "language": "python",
   "name": "python3"
  },
  "language_info": {
   "codemirror_mode": {
    "name": "ipython",
    "version": 3
   },
   "file_extension": ".py",
   "mimetype": "text/x-python",
   "name": "python",
   "nbconvert_exporter": "python",
   "pygments_lexer": "ipython3",
   "version": "3.8.3"
  }
 },
 "nbformat": 4,
 "nbformat_minor": 4
}
