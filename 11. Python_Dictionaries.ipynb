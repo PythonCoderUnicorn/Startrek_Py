{
 "cells": [
  {
   "cell_type": "markdown",
   "metadata": {},
   "source": [
    "# Startrek Python - Dictionaries"
   ]
  },
  {
   "cell_type": "markdown",
   "metadata": {},
   "source": [
    "A dictionary is a collection which is unordered, changeable and indexed. In Python dictionaries are written with curly brackets, and they have keys and values."
   ]
  },
  {
   "cell_type": "code",
   "execution_count": 4,
   "metadata": {},
   "outputs": [
    {
     "name": "stdout",
     "output_type": "stream",
     "text": [
      "{'NAME': 'Weyoun', 'VERSION': 1, 'ACTIVATED': 49904.2, 'JOB': 'Diplomat'}\n"
     ]
    }
   ],
   "source": [
    "Vorta_clones = {  # keep the bracket here to avoid errors\n",
    "    \"NAME\": \"Weyoun\",\n",
    "    \"VERSION\": 1,\n",
    "    \"ACTIVATED\": 49904.2,\n",
    "    'JOB': 'Diplomat'\n",
    "}\n",
    "print(Vorta_clones)"
   ]
  },
  {
   "cell_type": "markdown",
   "metadata": {},
   "source": [
    "## Access items in Dict "
   ]
  },
  {
   "cell_type": "code",
   "execution_count": 9,
   "metadata": {},
   "outputs": [
    {
     "name": "stdout",
     "output_type": "stream",
     "text": [
      "Diplomat\n"
     ]
    }
   ],
   "source": [
    "# use the dictionary key to get element\n",
    "print(Vorta_clones['JOB'])\n"
   ]
  },
  {
   "cell_type": "markdown",
   "metadata": {},
   "source": [
    "## Change values in Dict"
   ]
  },
  {
   "cell_type": "code",
   "execution_count": 10,
   "metadata": {},
   "outputs": [],
   "source": [
    "Vorta_clones['JOB'] ='poison tester'"
   ]
  },
  {
   "cell_type": "code",
   "execution_count": 11,
   "metadata": {},
   "outputs": [
    {
     "data": {
      "text/plain": [
       "{'NAME': 'Weyoun', 'VERSION': 1, 'ACTIVATED': 49904.2, 'JOB': 'poison tester'}"
      ]
     },
     "execution_count": 11,
     "metadata": {},
     "output_type": "execute_result"
    }
   ],
   "source": [
    "Vorta_clones"
   ]
  },
  {
   "cell_type": "markdown",
   "metadata": {},
   "source": [
    "## Loop through a Dict"
   ]
  },
  {
   "cell_type": "code",
   "execution_count": 17,
   "metadata": {},
   "outputs": [
    {
     "name": "stdout",
     "output_type": "stream",
     "text": [
      "Vorta Clones dict keys: NAME\n",
      "Vorta Clones dict keys: VERSION\n",
      "Vorta Clones dict keys: ACTIVATED\n",
      "Vorta Clones dict keys: JOB\n",
      "Vorta Clones dict values: Weyoun\n",
      "Vorta Clones dict values: 1\n",
      "Vorta Clones dict values: 49904.2\n",
      "Vorta Clones dict values: poison tester\n"
     ]
    }
   ],
   "source": [
    "# loop by keys\n",
    "for Vorta in Vorta_clones:\n",
    "    print('Vorta Clones dict keys:', Vorta)\n",
    "\n",
    "# loop by values\n",
    "for Vorta in Vorta_clones.values():\n",
    "    print('Vorta Clones dict values:',Vorta)"
   ]
  },
  {
   "cell_type": "code",
   "execution_count": 19,
   "metadata": {},
   "outputs": [
    {
     "name": "stdout",
     "output_type": "stream",
     "text": [
      "Vorta dict k,v : NAME Weyoun\n",
      "Vorta dict k,v : VERSION 1\n",
      "Vorta dict k,v : ACTIVATED 49904.2\n",
      "Vorta dict k,v : JOB poison tester\n"
     ]
    }
   ],
   "source": [
    "# loop dict for both keys and values\n",
    "for k, v in Vorta_clones.items():\n",
    "    print('Vorta dict k,v :', k, v)"
   ]
  },
  {
   "cell_type": "markdown",
   "metadata": {},
   "source": [
    "### Check if key exists"
   ]
  },
  {
   "cell_type": "code",
   "execution_count": 22,
   "metadata": {},
   "outputs": [
    {
     "name": "stdout",
     "output_type": "stream",
     "text": [
      "Vorta dict has JOB key\n"
     ]
    }
   ],
   "source": [
    "# if you don't want to be locked out, don't forget your keys! <joking>\n",
    "\n",
    "if \"JOB\" in Vorta_clones:\n",
    "    print('Vorta dict has {} key'.format(\"JOB\"))\n",
    "else:\n",
    "    print(\"Vorta don't have JOB keys\")\n",
    "    "
   ]
  },
  {
   "cell_type": "markdown",
   "metadata": {},
   "source": [
    "### Dictionary Length"
   ]
  },
  {
   "cell_type": "code",
   "execution_count": 23,
   "metadata": {},
   "outputs": [
    {
     "name": "stdout",
     "output_type": "stream",
     "text": [
      "The Vorta_Clone dict is 4 items long\n"
     ]
    }
   ],
   "source": [
    "print('The Vorta_Clone dict is {} items long'.format(len(Vorta_clones)))"
   ]
  },
  {
   "cell_type": "markdown",
   "metadata": {},
   "source": [
    "### Add to the Dict "
   ]
  },
  {
   "cell_type": "markdown",
   "metadata": {},
   "source": [
    "Adding an item to the dictionary is done by using a new index key and assigning a value to it"
   ]
  },
  {
   "cell_type": "code",
   "execution_count": 29,
   "metadata": {},
   "outputs": [
    {
     "name": "stdout",
     "output_type": "stream",
     "text": [
      "Added to dictionary  {'NAME': 'Weyoun', 'VERSION': 1, 'ACTIVATED': 49904.2, 'JOB': 'poison tester', 'LOYALTY': True, 'TOX_IMMUNE': True, 'TASTEBUDS': False, 'HAIR_COL': 'Black', 'SERIOUS': 10}\n"
     ]
    }
   ],
   "source": [
    "#             key    = value\n",
    "Vorta_clones[\"LOYALTY\"] = True\n",
    "Vorta_clones[\"TOX_IMMUNE\"] = True\n",
    "Vorta_clones[\"HAIR_COL\"] = \"Black\"\n",
    "Vorta_clones[\"SERIOUS\"] = 10\n",
    "\n",
    "print('Added to dictionary ',Vorta_clones)"
   ]
  },
  {
   "cell_type": "markdown",
   "metadata": {},
   "source": [
    "### Remove or Delete Dict item"
   ]
  },
  {
   "cell_type": "markdown",
   "metadata": {},
   "source": [
    "To delete the entire dictionary, must use <code>del</code> word\n",
    "- use: <code> del dict_name </code> . Note The dict can't be printed afterwards"
   ]
  },
  {
   "cell_type": "code",
   "execution_count": 30,
   "metadata": {},
   "outputs": [
    {
     "name": "stdout",
     "output_type": "stream",
     "text": [
      "{'NAME': 'Weyoun', 'VERSION': 1, 'ACTIVATED': 49904.2, 'JOB': 'poison tester', 'LOYALTY': True, 'TOX_IMMUNE': True, 'TASTEBUDS': False, 'SERIOUS': 10}\n",
      "{'NAME': 'Weyoun', 'VERSION': 1, 'ACTIVATED': 49904.2, 'JOB': 'poison tester', 'LOYALTY': True, 'TOX_IMMUNE': True, 'TASTEBUDS': False}\n"
     ]
    }
   ],
   "source": [
    "# POP()\n",
    "Vorta_clones.pop(\"HAIR_COL\")\n",
    "print(Vorta_clones)\n",
    "\n",
    "del Vorta_clones[\"SERIOUS\"]\n",
    "print(Vorta_clones)"
   ]
  },
  {
   "cell_type": "code",
   "execution_count": 34,
   "metadata": {},
   "outputs": [
    {
     "name": "stdout",
     "output_type": "stream",
     "text": [
      "you have 0 words in Breen dict\n"
     ]
    }
   ],
   "source": [
    "# clear a dictionary\n",
    "\n",
    "Breen_words = {'Cold': '$#$%^$#', 'Enemy':'***#@#@'}\n",
    "\n",
    "Breen_words.clear()\n",
    "print('you have {} words in Breen dict'.format(0,Breen_words))"
   ]
  },
  {
   "cell_type": "markdown",
   "metadata": {},
   "source": [
    "### Copy a Dict"
   ]
  },
  {
   "cell_type": "code",
   "execution_count": 35,
   "metadata": {},
   "outputs": [
    {
     "name": "stdout",
     "output_type": "stream",
     "text": [
      "I got my copy of Eng_dict {'CoilSpanner': 'Coils of emitter arrays are adjusted or spanned', 'PhaseModulator': 'Modulates the coils that emit phases', 'EPS converter': 'Converts wifi signals to Energy Pulse Signals '}\n"
     ]
    }
   ],
   "source": [
    "# Every Engineer needs to know the lingo\n",
    "Engineering_words = {\n",
    "    \"CoilSpanner\":'Coils of emitter arrays are adjusted or spanned',\\\n",
    "    \"PhaseModulator\":'Modulates the coils that emit phases',\\\n",
    "    \"EPS converter\":'Converts wifi signals to Energy Pulse Signals '\n",
    "}\n",
    "Eng_dict = Engineering_words.copy()\n",
    "print('I got my copy of Eng_dict',Eng_dict)"
   ]
  },
  {
   "cell_type": "markdown",
   "metadata": {},
   "source": [
    "### Nested Dict"
   ]
  },
  {
   "cell_type": "code",
   "execution_count": 37,
   "metadata": {},
   "outputs": [
    {
     "data": {
      "text/plain": [
       "dict_keys(['Quark', 'Rom', 'Nog'])"
      ]
     },
     "execution_count": 37,
     "metadata": {},
     "output_type": "execute_result"
    }
   ],
   "source": [
    "Quark_family= {\n",
    "  \"Quark\" : {\n",
    "    \"Relation\" : \"Uncle\",\n",
    "    \"Occupation\" : 'Bar Owner'\n",
    "  },\n",
    "  \"Rom\" : {\n",
    "    \"Relation\" : \"Brother\",\n",
    "    \"Occupation\" : \"Engineering\"\n",
    "  },\n",
    "  \"Nog\" : {\n",
    "    \"Relation\" : \"Son of Rom\",\n",
    "    \"Occupation\" : \"Starfleet Officer\"\n",
    "  }\n",
    "}\n",
    "\n",
    "Quark_family.keys()"
   ]
  },
  {
   "cell_type": "markdown",
   "metadata": {},
   "source": [
    "### Dictionary Methods"
   ]
  },
  {
   "cell_type": "code",
   "execution_count": 43,
   "metadata": {},
   "outputs": [
    {
     "name": "stdout",
     "output_type": "stream",
     "text": [
      "{'Relation': 'Brother', 'Occupation': 'Engineering'}\n",
      "new dict {'Quark': 5, 'Rom': 5, 'Nog': 5}\n"
     ]
    }
   ],
   "source": [
    "# clear()   copy()   # fromkeys()  # get()   items()  # keys()\n",
    "# pop()    update()   # values()\n",
    "\n",
    "# get() get dict item by key\n",
    "ds9_fam = Quark_family.get(\"Rom\")\n",
    "print(ds9_fam)\n",
    "\n",
    "# fromkeys()\n",
    "x = Quark_family\n",
    "Latinum = 5 # slips\n",
    "new_dict = dict.fromkeys(x, Latinum)\n",
    "print('new dict', new_dict)"
   ]
  },
  {
   "cell_type": "code",
   "execution_count": null,
   "metadata": {},
   "outputs": [],
   "source": []
  }
 ],
 "metadata": {
  "kernelspec": {
   "display_name": "Python 3",
   "language": "python",
   "name": "python3"
  },
  "language_info": {
   "codemirror_mode": {
    "name": "ipython",
    "version": 3
   },
   "file_extension": ".py",
   "mimetype": "text/x-python",
   "name": "python",
   "nbconvert_exporter": "python",
   "pygments_lexer": "ipython3",
   "version": "3.8.3"
  }
 },
 "nbformat": 4,
 "nbformat_minor": 4
}
