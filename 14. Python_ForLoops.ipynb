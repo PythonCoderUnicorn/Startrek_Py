{
 "cells": [
  {
   "cell_type": "markdown",
   "metadata": {},
   "source": [
    "# Startrek Python - For Loops"
   ]
  },
  {
   "cell_type": "markdown",
   "metadata": {},
   "source": [
    "As you have seen before, for loops are used for iterating over a sequence (either a list, a tuple, a dictionary, a set, or a string)."
   ]
  },
  {
   "cell_type": "code",
   "execution_count": 1,
   "metadata": {},
   "outputs": [
    {
     "name": "stdout",
     "output_type": "stream",
     "text": [
      "Picard\n",
      "Riker\n",
      "Data\n",
      "LaForge\n",
      "Troi\n",
      "DrCrusher\n",
      "Worf\n",
      "Barclay\n"
     ]
    }
   ],
   "source": [
    "crew_1701D = ['Picard','Riker','Data','LaForge','Troi',\n",
    "              'DrCrusher','Worf','Barclay']\n",
    "\n",
    "for officers in crew_1701D:\n",
    "    print(officers)"
   ]
  },
  {
   "cell_type": "code",
   "execution_count": 4,
   "metadata": {},
   "outputs": [
    {
     "name": "stdout",
     "output_type": "stream",
     "text": [
      "warpcore loop: c\n",
      "warpcore loop: o\n",
      "warpcore loop: r\n",
      "warpcore loop: e\n"
     ]
    }
   ],
   "source": [
    "# iterate through a string\n",
    "for warp in \"core\":\n",
    "    print('warpcore loop:', warp)"
   ]
  },
  {
   "cell_type": "markdown",
   "metadata": {},
   "source": [
    "## Break"
   ]
  },
  {
   "cell_type": "code",
   "execution_count": 10,
   "metadata": {},
   "outputs": [
    {
     "name": "stdout",
     "output_type": "stream",
     "text": [
      "gagH option: Bithool\n",
      "gagH option: Filden\n",
      "gagH option: Meshta\n",
      "sorry, Meshta unavailable\n"
     ]
    }
   ],
   "source": [
    "# break out of a loop based on condition set\n",
    "\n",
    "# Klingon gagH types\n",
    "gagH = ['Bithool','Filden','Meshta','Torgud','Wistan']\n",
    "\n",
    "for variety in gagH:\n",
    "    print('gagH option: {}'.format(variety))\n",
    "    # break condition\n",
    "    if variety == 'Meshta':\n",
    "        print('sorry, {} unavailable'.format(\"Meshta\"))\n",
    "        break"
   ]
  },
  {
   "cell_type": "markdown",
   "metadata": {},
   "source": [
    "## Continue"
   ]
  },
  {
   "cell_type": "code",
   "execution_count": 11,
   "metadata": {},
   "outputs": [
    {
     "name": "stdout",
     "output_type": "stream",
     "text": [
      "Bithool\n",
      "continue on ...\n",
      "Meshta\n",
      "Torgud\n",
      "Wistan\n"
     ]
    }
   ],
   "source": [
    "# use the continue to skip over ekement in list\n",
    "\n",
    "for variety in gagH:\n",
    "    if variety == 'Filden':\n",
    "        print('continue on ...')\n",
    "        continue\n",
    "    print(variety)"
   ]
  },
  {
   "cell_type": "markdown",
   "metadata": {},
   "source": [
    "## Range"
   ]
  },
  {
   "cell_type": "markdown",
   "metadata": {},
   "source": [
    "range() function returns a sequence of numbers, starting from 0 by default, and increments by 1 (by default), and ends at a specified number."
   ]
  },
  {
   "cell_type": "code",
   "execution_count": 17,
   "metadata": {},
   "outputs": [
    {
     "name": "stdout",
     "output_type": "stream",
     "text": [
      "Damar drank 0 bottles of kanar\n",
      "Damar drank 1 bottles of kanar\n",
      "Damar drank 2 bottles of kanar\n",
      "Damar drank 3 bottles of kanar\n",
      "Damar drank 4 bottles of kanar\n"
     ]
    }
   ],
   "source": [
    "for kanars in range(5):\n",
    "    print('Damar drank {} bottles of kanar'.format(kanars))"
   ]
  },
  {
   "cell_type": "code",
   "execution_count": 24,
   "metadata": {},
   "outputs": [
    {
     "name": "stdout",
     "output_type": "stream",
     "text": [
      " daily crime counts: 5\n",
      " daily crime counts: 6\n",
      " daily crime counts: 7\n",
      " daily crime counts: 8\n",
      " daily crime counts: 9\n",
      " daily crime counts: 10\n"
     ]
    }
   ],
   "source": [
    "# Odo's daily crime rates on DS9\n",
    "# range(start, stop)    # non-inclusive to 11\n",
    "\n",
    "for crime in range(5,11):\n",
    "    print(' daily crime counts:',crime)"
   ]
  },
  {
   "cell_type": "code",
   "execution_count": 25,
   "metadata": {},
   "outputs": [
    {
     "name": "stdout",
     "output_type": "stream",
     "text": [
      " daily crime counts: 5\n",
      " daily crime counts: 8\n",
      " daily crime counts: 11\n",
      " daily crime counts: 14\n"
     ]
    }
   ],
   "source": [
    "# Odo's daily crime rate using the step parameter\n",
    "# range(start, stop, step)\n",
    "# step is by what value to increase by\n",
    "\n",
    "for crime in range(5,15,3): # step by 3\n",
    "    print(' daily crime counts:',crime)"
   ]
  },
  {
   "cell_type": "markdown",
   "metadata": {},
   "source": [
    "## Else"
   ]
  },
  {
   "cell_type": "code",
   "execution_count": 28,
   "metadata": {},
   "outputs": [
    {
     "name": "stdout",
     "output_type": "stream",
     "text": [
      "repair task 1 done!\n",
      "repair task 2 done!\n",
      "repair task 3 done!\n",
      "repair task 4 done!\n",
      "repair task 5 done!\n",
      " 10-fwd time!\n"
     ]
    }
   ],
   "source": [
    "# Chief Engineer LaForge has a range of repairs to do\n",
    "\n",
    "for ship_repairs in range(1,6):\n",
    "    print('repair task {} done!'.format(ship_repairs))\n",
    "else:\n",
    "    print(' 10-fwd time!')"
   ]
  },
  {
   "cell_type": "markdown",
   "metadata": {},
   "source": [
    "## Nested Loops"
   ]
  },
  {
   "cell_type": "markdown",
   "metadata": {},
   "source": [
    "The \"inner loop\" will be executed one time for each iteration of the \"outer loop\""
   ]
  },
  {
   "cell_type": "code",
   "execution_count": 30,
   "metadata": {},
   "outputs": [
    {
     "name": "stdout",
     "output_type": "stream",
     "text": [
      "command Warp - level 6\n",
      "command Warp - level 1\n",
      "command Warp - level 7\n",
      "command Diagnostic Search - level 6\n",
      "command Diagnostic Search - level 1\n",
      "command Diagnostic Search - level 7\n",
      "command Authorization - level 6\n",
      "command Authorization - level 1\n",
      "command Authorization - level 7\n"
     ]
    }
   ],
   "source": [
    "# each list array must match in length with the other, if not, errors\n",
    "\n",
    "commands = ['Warp','Diagnostic Search','Authorization']\n",
    "levels = [6,1,7]  # using \"6\",\"1\",\"7\" works too\n",
    "\n",
    "for x in commands:\n",
    "    for y in levels:\n",
    "        print('command {} - level {}'.format(x,y))"
   ]
  },
  {
   "cell_type": "markdown",
   "metadata": {},
   "source": [
    "## Pass"
   ]
  },
  {
   "cell_type": "markdown",
   "metadata": {},
   "source": [
    "so you want a pass? Ok, you got it.\n",
    "\n",
    "for loops cannot be empty, but if you for some reason have a for loop with no content, put in the pass statement to avoid getting an error."
   ]
  },
  {
   "cell_type": "code",
   "execution_count": 31,
   "metadata": {},
   "outputs": [],
   "source": [
    "academy_yrs = [1,2,3,4]\n",
    "\n",
    "for EngineerExams in academy_yrs:\n",
    "    pass"
   ]
  },
  {
   "cell_type": "code",
   "execution_count": 33,
   "metadata": {},
   "outputs": [],
   "source": [
    "#-- for fun\n",
    "# got invited for drinks at Ten-forward? But you got to study!\n",
    "\n",
    "TenForward = ['drinks','socialize','play games']\n",
    "\n",
    "for fun in TenForward:\n",
    "    pass"
   ]
  },
  {
   "cell_type": "code",
   "execution_count": null,
   "metadata": {},
   "outputs": [],
   "source": []
  },
  {
   "cell_type": "code",
   "execution_count": 15,
   "metadata": {},
   "outputs": [
    {
     "name": "stdout",
     "output_type": "stream",
     "text": [
      "Bithool has_feet\n",
      "Filden squirms\n",
      "Meshta jumps\n",
      "Torgud wiggles\n",
      "Wistan targ_blood\n"
     ]
    }
   ],
   "source": [
    "# a gagH dictionary to loop through\n",
    "\n",
    "gagH_dict = {'Bithool': 'has_feet',\n",
    "             'Filden': 'squirms',\n",
    "             'Meshta':'jumps',\n",
    "             'Torgud': 'wiggles',\n",
    "             'Wistan': 'targ_blood'}\n",
    "\n",
    "for k,v in gagH_dict.items():\n",
    "    print(k,v)"
   ]
  },
  {
   "cell_type": "raw",
   "metadata": {},
   "source": []
  }
 ],
 "metadata": {
  "kernelspec": {
   "display_name": "Python 3",
   "language": "python",
   "name": "python3"
  },
  "language_info": {
   "codemirror_mode": {
    "name": "ipython",
    "version": 3
   },
   "file_extension": ".py",
   "mimetype": "text/x-python",
   "name": "python",
   "nbconvert_exporter": "python",
   "pygments_lexer": "ipython3",
   "version": "3.8.3"
  }
 },
 "nbformat": 4,
 "nbformat_minor": 4
}
