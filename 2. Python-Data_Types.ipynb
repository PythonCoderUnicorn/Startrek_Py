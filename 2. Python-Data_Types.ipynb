{
 "cells": [
  {
   "cell_type": "markdown",
   "metadata": {},
   "source": [
    "# Startrek Python - Python Data Types"
   ]
  },
  {
   "cell_type": "markdown",
   "metadata": {},
   "source": [
    "Knowing data types is very important to understand, by understanding this will help you avoid errors and write proper code."
   ]
  },
  {
   "cell_type": "markdown",
   "metadata": {},
   "source": [
    "<h4> Python built-in data types </h4>\n",
    "\n",
    "- Text Type: <code>str </code>. str is string\n",
    "- Numeric Types: <code>int, float, complex </code>. int is integer, float is a number with a decimal\n",
    "- Sequence Types: <code>list, tuple, range </code>\t\n",
    "- Mapping Type:\t<code>dict </code>. dict is dictionary\n",
    "- Set Types: <code>set, frozenset </code>\n",
    "- Boolean Type:\t<code>bool</code>\n",
    "- Binary Types:\t<code>bytes, bytearray, memoryview</code>"
   ]
  },
  {
   "cell_type": "markdown",
   "metadata": {},
   "source": [
    "### to find out what data type a variable is use  type()"
   ]
  },
  {
   "cell_type": "code",
   "execution_count": 4,
   "metadata": {},
   "outputs": [
    {
     "name": "stdout",
     "output_type": "stream",
     "text": [
      "<class 'str'>\n"
     ]
    }
   ],
   "source": [
    "# type()\n",
    "name = \"Jean-Luc\"\n",
    "print(type(name))"
   ]
  },
  {
   "cell_type": "markdown",
   "metadata": {},
   "source": [
    "### setting the data type variable"
   ]
  },
  {
   "cell_type": "raw",
   "metadata": {},
   "source": [
    "var = \"Captain Janeway\"       # str\n",
    "var = 778                     # int\n",
    "var = 5764.34                 # float\n",
    "var = ij                      # complex\n",
    "var = ['Quark',\"Rom\",'Nog']   # list\n",
    "var = ('Operations','Security','Engineering')    # tuple\n",
    "var = range(8)                                   # range  \n",
    "var = {'Raktajino': 'Klingon coffee'}            # dictionary\n",
    "var = {'Holosuite 1', 'Holosuite 2'}             # set\n",
    "var = frozenset({\"Bajor\", \"Cardassia\", \"Risa\"})  # frozenset\n",
    "var = True                    # bool\n",
    "var = b\"Warp\"                 # bytes\n",
    "var = bytearray(5)            # bytearray\n",
    "var = memoryview(bytes(5))    # memoryview"
   ]
  },
  {
   "cell_type": "code",
   "execution_count": 11,
   "metadata": {},
   "outputs": [],
   "source": [
    "Starfleet_is_awesome = True"
   ]
  },
  {
   "cell_type": "code",
   "execution_count": null,
   "metadata": {},
   "outputs": [],
   "source": []
  },
  {
   "cell_type": "code",
   "execution_count": null,
   "metadata": {},
   "outputs": [],
   "source": []
  }
 ],
 "metadata": {
  "kernelspec": {
   "display_name": "Python 3",
   "language": "python",
   "name": "python3"
  },
  "language_info": {
   "codemirror_mode": {
    "name": "ipython",
    "version": 3
   },
   "file_extension": ".py",
   "mimetype": "text/x-python",
   "name": "python",
   "nbconvert_exporter": "python",
   "pygments_lexer": "ipython3",
   "version": "3.8.3"
  }
 },
 "nbformat": 4,
 "nbformat_minor": 4
}
