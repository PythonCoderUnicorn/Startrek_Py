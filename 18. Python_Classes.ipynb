{
 "cells": [
  {
   "cell_type": "markdown",
   "metadata": {},
   "source": [
    "# Startrek Python - Classes"
   ]
  },
  {
   "cell_type": "markdown",
   "metadata": {},
   "source": [
    "In Python pretty much everything is an object, an object with properties and methods. A class is an object constructor for creating objects."
   ]
  },
  {
   "cell_type": "markdown",
   "metadata": {},
   "source": [
    "## Create a Class"
   ]
  },
  {
   "cell_type": "markdown",
   "metadata": {},
   "source": [
    "to create a class, you need to use the word <code> class </code> much like creating a function with <code> def </code>"
   ]
  },
  {
   "cell_type": "code",
   "execution_count": 8,
   "metadata": {},
   "outputs": [],
   "source": [
    "# simple class\n",
    "class FirstClass:\n",
    "    variable = \"var in first class!\"\n"
   ]
  },
  {
   "cell_type": "markdown",
   "metadata": {},
   "source": [
    "## Create an object"
   ]
  },
  {
   "cell_type": "code",
   "execution_count": 9,
   "metadata": {},
   "outputs": [
    {
     "name": "stdout",
     "output_type": "stream",
     "text": [
      "object_.variable : var in first class!\n"
     ]
    }
   ],
   "source": [
    "# use the class name to create an object(s)\n",
    "# object word is a special word, hence 'object_' for clarity\n",
    "\n",
    "# this object calls the class function\n",
    "object_ = FirstClass()\n",
    "\n",
    "# to get out variables inside the class function\n",
    "# you have to use the object dot variable_name\n",
    "print('object_.variable : {}'.format(object_.variable))"
   ]
  },
  {
   "cell_type": "markdown",
   "metadata": {},
   "source": [
    "## The __init__ () Function"
   ]
  },
  {
   "cell_type": "markdown",
   "metadata": {},
   "source": [
    "The <code>init</code> stands for initialize. \n",
    "All classes have a function called __init__(), which is always automatically executed when the class is being initiated.\n",
    "\n",
    "Use the __init__() function to assign values to object properties, or other operations that are necessary to do when the object is being created\n",
    "\n",
    "- Note that init function uses 2 underscores, coined \"dunders\" double-underscores and dunders are often used in Python\n",
    "- The <code>self</code> parameter is a reference to the current instance of the class, and is used to access variables that belong to the class. It does not have to be named <code>self</code> , you can call it whatever you like, but it has to be the first parameter of any function in the class"
   ]
  },
  {
   "cell_type": "code",
   "execution_count": 17,
   "metadata": {},
   "outputs": [
    {
     "name": "stdout",
     "output_type": "stream",
     "text": [
      "Kirk from the Enterprise\n",
      "Picard from the Enterprise\n"
     ]
    }
   ],
   "source": [
    "class Captain:\n",
    "    # this function gets initialized everytime \n",
    "    # class Captains is called \n",
    "    def __init__(self, lastname, deployment):\n",
    "        self.lastname = lastname\n",
    "        self.deployment = deployment\n",
    "        \n",
    "#-- create an object for the Captain class\n",
    "# each object needs to be unique otherwise Kirk or Picard\n",
    "# get printed twice\n",
    "officer1 = Captain('Kirk','Enterprise')\n",
    "officer2 = Captain('Picard','Enterprise')\n",
    "\n",
    "print('{} from the {}'.format(officer1.lastname, \\\n",
    "                                        officer1.deployment))\n",
    "\n",
    "print('{} from the {}'.format(officer2.lastname, \\\n",
    "                                        officer2.deployment) )\n"
   ]
  },
  {
   "cell_type": "code",
   "execution_count": 23,
   "metadata": {},
   "outputs": [
    {
     "name": "stdout",
     "output_type": "stream",
     "text": [
      "Picard personal log accessed \n"
     ]
    }
   ],
   "source": [
    "class Captain:\n",
    "    def __init__(self, lastname, deployment):\n",
    "        self.lastname = lastname\n",
    "        self.deployment = deployment\n",
    "        \n",
    "    # a function inside a class\n",
    "    def personal_log(self):\n",
    "        print(self.lastname + ' personal log accessed ')\n",
    "        \n",
    "# create an object for Captain class\n",
    "officer1 = Captain('Picard','*Enterprise*')\n",
    "\n",
    "officer1.personal_log()"
   ]
  },
  {
   "cell_type": "markdown",
   "metadata": {},
   "source": [
    "### non <code>self</code> parameter"
   ]
  },
  {
   "cell_type": "code",
   "execution_count": 30,
   "metadata": {},
   "outputs": [
    {
     "name": "stdout",
     "output_type": "stream",
     "text": [
      "ship Sect31_Drone is in quadrant Beta\n"
     ]
    }
   ],
   "source": [
    "class Starship:\n",
    "    def __init__(ship, class_, name):\n",
    "        ship.class_ = class_\n",
    "        ship.name = name\n",
    "        \n",
    "    def ship_quadrant(beta):\n",
    "        print('ship {} is in quadrant Beta'.format(beta.name))\n",
    "        \n",
    "# create object to call the class\n",
    "ship1 = Starship(\"Auxillary_craft\", \"Sect31_Drone\")\n",
    "# object . class function\n",
    "ship1.ship_quadrant()"
   ]
  },
  {
   "cell_type": "markdown",
   "metadata": {},
   "source": [
    "### Modify class object properties"
   ]
  },
  {
   "cell_type": "code",
   "execution_count": 31,
   "metadata": {},
   "outputs": [
    {
     "name": "stdout",
     "output_type": "stream",
     "text": [
      "ship NCIA-93 is in quadrant Beta\n"
     ]
    }
   ],
   "source": [
    "# change ship name to NCIA-93 and class_ to Starship\n",
    "ship1.name ='NCIA-93'\n",
    "ship1.class_ ='Starship'\n",
    "\n",
    "ship1.ship_quadrant()"
   ]
  },
  {
   "cell_type": "markdown",
   "metadata": {},
   "source": [
    "### Delete Class objects and properties"
   ]
  },
  {
   "cell_type": "code",
   "execution_count": 32,
   "metadata": {},
   "outputs": [],
   "source": [
    "#-- delete object properties\n",
    "#del ship1.class_  # uncomment to run\n",
    "\n",
    "#-- delete object\n",
    "#del ship1"
   ]
  },
  {
   "cell_type": "markdown",
   "metadata": {},
   "source": [
    "## Class Pass"
   ]
  },
  {
   "cell_type": "markdown",
   "metadata": {},
   "source": [
    "You have see this word previously with the functions section, same applies to classes, they can't be empty, must have pass to avoid errors"
   ]
  },
  {
   "cell_type": "code",
   "execution_count": 34,
   "metadata": {},
   "outputs": [],
   "source": [
    "class StarfleetAcademy:\n",
    "    pass # you pass! "
   ]
  },
  {
   "cell_type": "code",
   "execution_count": null,
   "metadata": {},
   "outputs": [],
   "source": []
  }
 ],
 "metadata": {
  "kernelspec": {
   "display_name": "Python 3",
   "language": "python",
   "name": "python3"
  },
  "language_info": {
   "codemirror_mode": {
    "name": "ipython",
    "version": 3
   },
   "file_extension": ".py",
   "mimetype": "text/x-python",
   "name": "python",
   "nbconvert_exporter": "python",
   "pygments_lexer": "ipython3",
   "version": "3.8.3"
  }
 },
 "nbformat": 4,
 "nbformat_minor": 4
}
