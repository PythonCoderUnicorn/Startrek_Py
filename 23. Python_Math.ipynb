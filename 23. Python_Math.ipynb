{
 "cells": [
  {
   "cell_type": "markdown",
   "metadata": {},
   "source": [
    "# Startrek Python - Math"
   ]
  },
  {
   "cell_type": "markdown",
   "metadata": {},
   "source": [
    "Python itself has basic math functions and is fast and easy to \n",
    "do calculations in Notebook or in the terminal. Once you finish with math section you will likely use it as your main calculator\n",
    "\n",
    "- Python has math module <code>import math</code>"
   ]
  },
  {
   "cell_type": "code",
   "execution_count": 2,
   "metadata": {},
   "outputs": [
    {
     "name": "stdout",
     "output_type": "stream",
     "text": [
      "min value: 5\n",
      "max value 25\n"
     ]
    }
   ],
   "source": [
    "x = min(5, 10, 25)\n",
    "y = max(5, 10, 25)\n",
    "\n",
    "print('min value:',x)\n",
    "print('max value',y)"
   ]
  },
  {
   "cell_type": "code",
   "execution_count": 3,
   "metadata": {},
   "outputs": [
    {
     "name": "stdout",
     "output_type": "stream",
     "text": [
      "7.25\n"
     ]
    }
   ],
   "source": [
    "# want to work on your abs? No workout required\n",
    "\n",
    "x = abs(-7.25)\n",
    "\n",
    "print(x)"
   ]
  },
  {
   "cell_type": "code",
   "execution_count": 8,
   "metadata": {},
   "outputs": [
    {
     "name": "stdout",
     "output_type": "stream",
     "text": [
      "pow(4,2) = 16\n"
     ]
    }
   ],
   "source": [
    "# the power is yours\n",
    "\n",
    "x = pow(4, 2) # 4^2\n",
    "\n",
    "print('pow(4,2) =',x)"
   ]
  },
  {
   "cell_type": "code",
   "execution_count": 10,
   "metadata": {},
   "outputs": [
    {
     "name": "stdout",
     "output_type": "stream",
     "text": [
      "the sq root of 64 = 8.0\n"
     ]
    }
   ],
   "source": [
    "import math\n",
    "\n",
    "x = math.sqrt(64)\n",
    "\n",
    "print('the sq root of 64 =',x)"
   ]
  },
  {
   "cell_type": "code",
   "execution_count": 14,
   "metadata": {},
   "outputs": [
    {
     "name": "stdout",
     "output_type": "stream",
     "text": [
      "r of 2.24 round()= 2\n",
      "r1 of 2.24 round()= 3\n",
      "the 1.4 is now ceil 2\n",
      "the 1.4 is now floor 1\n"
     ]
    }
   ],
   "source": [
    "# instead of round function you can use the ceil and floor\n",
    "r = 2.24\n",
    "r1 = 2.77\n",
    "print('r of {} round()= {}'.format(r, round(r)))\n",
    "print('r1 of {} round()= {}'.format(r, round(r1)))\n",
    "\n",
    "x = math.ceil(1.4)\n",
    "y = math.floor(1.4)\n",
    "\n",
    "print('the {} is now ceil {}'.format(1.4, x)) # returns 2\n",
    "print('the {} is now floor {}'.format(1.4, y)) # returns 1"
   ]
  },
  {
   "cell_type": "code",
   "execution_count": 16,
   "metadata": {},
   "outputs": [
    {
     "name": "stdout",
     "output_type": "stream",
     "text": [
      "have some 3.141592653589793\n",
      "have some 3.14\n"
     ]
    }
   ],
   "source": [
    "# want some pi ?\n",
    "\n",
    "p = math.pi\n",
    "print('have some {}'.format(p))\n",
    "print('have some {:.2f}'.format(p))"
   ]
  },
  {
   "cell_type": "markdown",
   "metadata": {},
   "source": [
    "## List Array Math"
   ]
  },
  {
   "cell_type": "code",
   "execution_count": 22,
   "metadata": {},
   "outputs": [
    {
     "name": "stdout",
     "output_type": "stream",
     "text": [
      "[2, 2, 2, 2, 2, 2, 2, 2, 2, 2, 2, 2, 2, 2, 2, 2, 2, 2, 2, 2]\n",
      "20\n"
     ]
    }
   ],
   "source": [
    "# this example will show you why you need NumPy for \n",
    "# array calculations\n",
    "\n",
    "list1 = [1,2,3,4,5]\n",
    "list2 = [2,2,2,2,2]\n",
    "\n",
    "list3 = list1 * 2 \n",
    "# just multiplies elements in list1 twice\n",
    "list3\n",
    "\n",
    "list4 = list2 * 4\n",
    "# multiplies list2 elements by 4 \n",
    "# 5 elements * 4 = 20 elements\n",
    "print(list4)\n",
    "print(len(list4))\n",
    "\n",
    "# to actually make Array calculations you need NumPy module"
   ]
  },
  {
   "cell_type": "code",
   "execution_count": null,
   "metadata": {},
   "outputs": [],
   "source": []
  }
 ],
 "metadata": {
  "kernelspec": {
   "display_name": "Python 3",
   "language": "python",
   "name": "python3"
  },
  "language_info": {
   "codemirror_mode": {
    "name": "ipython",
    "version": 3
   },
   "file_extension": ".py",
   "mimetype": "text/x-python",
   "name": "python",
   "nbconvert_exporter": "python",
   "pygments_lexer": "ipython3",
   "version": "3.8.3"
  }
 },
 "nbformat": 4,
 "nbformat_minor": 4
}
