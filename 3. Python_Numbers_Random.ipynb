{
 "cells": [
  {
   "cell_type": "markdown",
   "metadata": {},
   "source": [
    "# Startrek Python - Numbers & Random"
   ]
  },
  {
   "cell_type": "markdown",
   "metadata": {},
   "source": [
    "as shown in notebook 2 on variable types, int is a non-decimal number, float is a decimal number."
   ]
  },
  {
   "cell_type": "markdown",
   "metadata": {},
   "source": [
    "### Scientific numbers shorthand using 'e'"
   ]
  },
  {
   "cell_type": "code",
   "execution_count": 5,
   "metadata": {},
   "outputs": [
    {
     "name": "stdout",
     "output_type": "stream",
     "text": [
      "2500000.0\n"
     ]
    },
    {
     "data": {
      "text/plain": [
       "1700000"
      ]
     },
     "execution_count": 5,
     "metadata": {},
     "output_type": "execute_result"
    }
   ],
   "source": [
    "# the 'e' represent the power of 10\n",
    "\n",
    "# to assign a variable 2.5 million\n",
    "Officers_in_alpha = 2.5e6\n",
    "print(Officers_in_alpha)\n",
    "\n",
    "# in Jupyter Notebooks, you can use _ \n",
    "Officers_in_beta = 1_700_000  # 1.7 million\n",
    "Officers_in_beta"
   ]
  },
  {
   "cell_type": "markdown",
   "metadata": {},
   "source": [
    "### Convert numeric type to another"
   ]
  },
  {
   "cell_type": "code",
   "execution_count": 8,
   "metadata": {},
   "outputs": [
    {
     "name": "stdout",
     "output_type": "stream",
     "text": [
      " float to int:  354\n",
      " integer to float:  9.0\n"
     ]
    }
   ],
   "source": [
    "yammock_sauce = 354.7 \n",
    "station_number = 9\n",
    "\n",
    "# convert yammock sauce into an integer\n",
    "print(' float to int: ', int(yammock_sauce))\n",
    "\n",
    "\n",
    "# convert station number to a float\n",
    "print(' integer to float: ', float(station_number))\n"
   ]
  },
  {
   "cell_type": "markdown",
   "metadata": {},
   "source": [
    "## Random Numbers - basic"
   ]
  },
  {
   "cell_type": "markdown",
   "metadata": {},
   "source": [
    "Python has a library module you can import that generates random numbers."
   ]
  },
  {
   "cell_type": "code",
   "execution_count": 9,
   "metadata": {},
   "outputs": [
    {
     "name": "stdout",
     "output_type": "stream",
     "text": [
      "3\n"
     ]
    }
   ],
   "source": [
    "import random\n",
    "\n",
    "#--- how this code works\n",
    "# library.randomize Range (from, to)\n",
    "# Note: python uses a zero index, first element is always 0\n",
    "#       n-1   10 - 1 = 9     \n",
    "#       start 1, ends at 9\n",
    "print(random.randrange(1, 10))"
   ]
  },
  {
   "cell_type": "code",
   "execution_count": 16,
   "metadata": {},
   "outputs": [
    {
     "data": {
      "text/plain": [
       "284"
      ]
     },
     "execution_count": 16,
     "metadata": {},
     "output_type": "execute_result"
    }
   ],
   "source": [
    "# let's get a random number for a Starbase Station\n",
    "# start from 3 to 300   \n",
    "# the randint is calling for only for random integers\n",
    "\n",
    "Starbase_Number_generator = random.randint(3,301)\n",
    "Starbase_Number_generator\n",
    "\n",
    "# if you keep running this code you will get a different number"
   ]
  },
  {
   "cell_type": "code",
   "execution_count": null,
   "metadata": {},
   "outputs": [],
   "source": []
  },
  {
   "cell_type": "code",
   "execution_count": null,
   "metadata": {},
   "outputs": [],
   "source": []
  }
 ],
 "metadata": {
  "kernelspec": {
   "display_name": "Python 3",
   "language": "python",
   "name": "python3"
  },
  "language_info": {
   "codemirror_mode": {
    "name": "ipython",
    "version": 3
   },
   "file_extension": ".py",
   "mimetype": "text/x-python",
   "name": "python",
   "nbconvert_exporter": "python",
   "pygments_lexer": "ipython3",
   "version": "3.8.3"
  }
 },
 "nbformat": 4,
 "nbformat_minor": 4
}
