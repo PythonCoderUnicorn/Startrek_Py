{
 "cells": [
  {
   "cell_type": "markdown",
   "metadata": {},
   "source": [
    "# Startrek Python - Iterators"
   ]
  },
  {
   "cell_type": "markdown",
   "metadata": {},
   "source": [
    "in Python, an iterator is an object which implements the iterator protocol, which consist of the methods <code>__iter__()</code> and <code>__next__()</code>.\n",
    "\n",
    "As shown perviously in list, tuples and dictionary sections that each can be iterated using a for loop"
   ]
  },
  {
   "cell_type": "code",
   "execution_count": 5,
   "metadata": {},
   "outputs": [
    {
     "name": "stdout",
     "output_type": "stream",
     "text": [
      "1 iter of phaser banks: phaser1\n",
      "2 iter of phaser banks: phaser2\n",
      "3 iter of phaser banks: phaser3\n"
     ]
    }
   ],
   "source": [
    "phaser_banks = ('phaser1','phaser2','phaser3')\n",
    "\n",
    "iter_thru = iter(phaser_banks)\n",
    "\n",
    "print(\"1 iter of phaser banks: {}\".format(next(iter_thru)))\n",
    "print(\"2 iter of phaser banks: {}\".format(next(iter_thru)))\n",
    "print(\"3 iter of phaser banks: {}\".format(next(iter_thru)))"
   ]
  },
  {
   "cell_type": "code",
   "execution_count": 7,
   "metadata": {},
   "outputs": [
    {
     "name": "stdout",
     "output_type": "stream",
     "text": [
      "1 iter of Bajoran snack: J\n",
      "2 iter of Bajoran snack: u\n",
      "3 iter of Bajoran snack: m\n",
      "4 iter of Bajoran snack: j\n",
      "5 iter of Bajoran snack: a\n"
     ]
    }
   ],
   "source": [
    "# you can iter a string variable\n",
    "Bajoran_snack = \"Jumja\"\n",
    "\n",
    "iter_thru = iter(Bajoran_snack)\n",
    "\n",
    "# 5 letters = 5 iters\n",
    "print(\"1 iter of Bajoran snack: {}\".format(next(iter_thru)))\n",
    "print(\"2 iter of Bajoran snack: {}\".format(next(iter_thru)))\n",
    "print(\"3 iter of Bajoran snack: {}\".format(next(iter_thru)))\n",
    "print(\"4 iter of Bajoran snack: {}\".format(next(iter_thru)))\n",
    "print(\"5 iter of Bajoran snack: {}\".format(next(iter_thru)))"
   ]
  },
  {
   "cell_type": "markdown",
   "metadata": {},
   "source": [
    "## For Loop iter"
   ]
  },
  {
   "cell_type": "code",
   "execution_count": 9,
   "metadata": {},
   "outputs": [
    {
     "name": "stdout",
     "output_type": "stream",
     "text": [
      "phaser1 is back online\n",
      "phaser2 is back online\n",
      "phaser3 is back online\n"
     ]
    }
   ],
   "source": [
    "# phaser_banks\n",
    "for phasers in phaser_banks:\n",
    "    print('{} is back online'.format(phasers))"
   ]
  },
  {
   "cell_type": "markdown",
   "metadata": {},
   "source": [
    "## Create an iter"
   ]
  },
  {
   "cell_type": "code",
   "execution_count": 12,
   "metadata": {},
   "outputs": [
    {
     "name": "stdout",
     "output_type": "stream",
     "text": [
      "particle energy iter: 7\n",
      "particle energy iter: 20.67\n",
      "particle energy iter: 34.34\n"
     ]
    }
   ],
   "source": [
    "# works like Classes\n",
    "\n",
    "class ParticleEnergy:\n",
    "    def __iter__(self):\n",
    "        self.pe = 7 # starting value\n",
    "        return self\n",
    "    def __next__(self):\n",
    "        pex = self.pe\n",
    "        self.pe += 13.67  # increase value\n",
    "        return pex\n",
    "    \n",
    "# create object to call class\n",
    "particle = ParticleEnergy()\n",
    "iter_particle = iter(particle)\n",
    "\n",
    "print(\"particle energy iter: {}\".format(next(iter_particle)))\n",
    "print(\"particle energy iter: {}\".format(next(iter_particle)))\n",
    "print(\"particle energy iter: {}\".format(next(iter_particle)))"
   ]
  },
  {
   "cell_type": "markdown",
   "metadata": {},
   "source": [
    "## Stop iter"
   ]
  },
  {
   "cell_type": "markdown",
   "metadata": {},
   "source": [
    "Using the iter functions with next or in a for loop would continue\n",
    "endlessly, hence you need a condition to stop the iteration"
   ]
  },
  {
   "cell_type": "code",
   "execution_count": 19,
   "metadata": {},
   "outputs": [
    {
     "name": "stdout",
     "output_type": "stream",
     "text": [
      "particle energy level is 7.60\n",
      "particle energy level is 20.83\n",
      "particle energy level is 34.06\n",
      "particle energy level is 47.29\n",
      "particle energy level is 60.52\n",
      "Warning: Particle Energy Theshold met\n"
     ]
    }
   ],
   "source": [
    "class ParticleEnergy:\n",
    "    def __iter__(self):\n",
    "        self.pe = 7.6 # starting value\n",
    "        return self\n",
    "    \n",
    "    def __next__(self):\n",
    "        if self.pe <= 70: # condition\n",
    "            pex = self.pe\n",
    "            self.pe += 13.23\n",
    "            return pex\n",
    "        else:\n",
    "            print('Warning: Particle Energy Theshold met')\n",
    "            raise StopIteration # the STOP! \n",
    "            \n",
    "# create object to call class\n",
    "particle = ParticleEnergy()\n",
    "iter_particle = iter(particle)\n",
    "\n",
    "# for loop\n",
    "for particles in iter_particle:\n",
    "    print('particle energy level is {:.2f}'.format(particles))"
   ]
  },
  {
   "cell_type": "code",
   "execution_count": null,
   "metadata": {},
   "outputs": [],
   "source": []
  },
  {
   "cell_type": "code",
   "execution_count": null,
   "metadata": {},
   "outputs": [],
   "source": []
  }
 ],
 "metadata": {
  "kernelspec": {
   "display_name": "Python 3",
   "language": "python",
   "name": "python3"
  },
  "language_info": {
   "codemirror_mode": {
    "name": "ipython",
    "version": 3
   },
   "file_extension": ".py",
   "mimetype": "text/x-python",
   "name": "python",
   "nbconvert_exporter": "python",
   "pygments_lexer": "ipython3",
   "version": "3.8.3"
  }
 },
 "nbformat": 4,
 "nbformat_minor": 4
}
