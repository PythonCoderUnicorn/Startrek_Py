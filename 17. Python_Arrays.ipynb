{
 "cells": [
  {
   "cell_type": "markdown",
   "metadata": {},
   "source": [
    "# Startrek Python - Arrays"
   ]
  },
  {
   "cell_type": "markdown",
   "metadata": {},
   "source": [
    "Python alone does not deal with Arrays, List Arrays covered previously are lists treated like arrays. Arrays on their own are dealt with using an imported library module called NumPy [numb-pie].\n",
    "\n",
    "An array can hold many values under a single name, and you can access the values by referring to an index number. Think of an array as a Rubix Cube, each square holds an index value and holds data in that square. Or simply matrices for calculations.\n",
    "\n",
    "Using Python lists instead of arrays works just fine until the problem you are working on involves numerical values, then NumPy needs to be imported. For List arrays, all the methods used on lists still apply for arrays.\n",
    "\n",
    "See Python NumPy for more info"
   ]
  },
  {
   "cell_type": "code",
   "execution_count": null,
   "metadata": {},
   "outputs": [],
   "source": []
  }
 ],
 "metadata": {
  "kernelspec": {
   "display_name": "Python 3",
   "language": "python",
   "name": "python3"
  },
  "language_info": {
   "codemirror_mode": {
    "name": "ipython",
    "version": 3
   },
   "file_extension": ".py",
   "mimetype": "text/x-python",
   "name": "python",
   "nbconvert_exporter": "python",
   "pygments_lexer": "ipython3",
   "version": "3.8.3"
  }
 },
 "nbformat": 4,
 "nbformat_minor": 4
}
