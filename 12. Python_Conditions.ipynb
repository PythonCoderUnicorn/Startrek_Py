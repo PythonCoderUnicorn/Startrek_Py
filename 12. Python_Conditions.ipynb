{
 "cells": [
  {
   "cell_type": "markdown",
   "metadata": {},
   "source": [
    "# Startrek Python - Conditions"
   ]
  },
  {
   "cell_type": "markdown",
   "metadata": {},
   "source": [
    "Python supports the usual logical conditions from mathematics:\n",
    "\n",
    "- Equals: a == b\n",
    "- Not Equals: a != b\n",
    "- Less than: a < b\n",
    "- Less than or equal to: a <= b\n",
    "- Greater than: a > b\n",
    "- Greater than or equal to: a >= b"
   ]
  },
  {
   "cell_type": "markdown",
   "metadata": {},
   "source": [
    "Basic if statement"
   ]
  },
  {
   "cell_type": "code",
   "execution_count": 2,
   "metadata": {},
   "outputs": [
    {
     "name": "stdout",
     "output_type": "stream",
     "text": [
      " 2209 is good Bloodwine year\n"
     ]
    }
   ],
   "source": [
    "Bloodwine = 2209\n",
    "\n",
    "# checking to see if condition equals 2209\n",
    "if Bloodwine == 2209:\n",
    "    print(\" 2209 is good Bloodwine year\")\n",
    "else:\n",
    "    print(\" not Bloodwine 2209\")"
   ]
  },
  {
   "cell_type": "code",
   "execution_count": 3,
   "metadata": {},
   "outputs": [
    {
     "name": "stdout",
     "output_type": "stream",
     "text": [
      "q1 and q2 are equal\n"
     ]
    }
   ],
   "source": [
    "q1 = 9765\n",
    "q2 = 9765\n",
    "\n",
    "if q2 > q1:\n",
    "    print('q2 > q1')\n",
    "elif q1==q2:\n",
    "    print('q1 and q2 are equal')"
   ]
  },
  {
   "cell_type": "code",
   "execution_count": 4,
   "metadata": {},
   "outputs": [
    {
     "name": "stdout",
     "output_type": "stream",
     "text": [
      "q2 < q1\n"
     ]
    }
   ],
   "source": [
    "q1 = 9765\n",
    "q2 = 9705\n",
    "\n",
    "if q2 > q1:\n",
    "    print('q2 > q1')\n",
    "elif q1==q2:\n",
    "    print('q1 and q2 are equal')\n",
    "else:\n",
    "    print('q2 < q1')\n",
    "    "
   ]
  },
  {
   "cell_type": "markdown",
   "metadata": {},
   "source": [
    "### Shorthand for Conditions"
   ]
  },
  {
   "cell_type": "code",
   "execution_count": 5,
   "metadata": {},
   "outputs": [
    {
     "name": "stdout",
     "output_type": "stream",
     "text": [
      "q1 > q2\n"
     ]
    }
   ],
   "source": [
    "if q1 > q2: print('q1 > q2')"
   ]
  },
  {
   "cell_type": "code",
   "execution_count": 7,
   "metadata": {},
   "outputs": [
    {
     "name": "stdout",
     "output_type": "stream",
     "text": [
      "q2\n"
     ]
    }
   ],
   "source": [
    "# Ternary operators \n",
    "\n",
    "q1 = 2\n",
    "q2 = 330\n",
    "print(\"q2\") if q2 > q1 else print(\"q1\")"
   ]
  },
  {
   "cell_type": "markdown",
   "metadata": {},
   "source": [
    "### if And"
   ]
  },
  {
   "cell_type": "code",
   "execution_count": 8,
   "metadata": {},
   "outputs": [
    {
     "name": "stdout",
     "output_type": "stream",
     "text": [
      "Both conditions are True\n"
     ]
    }
   ],
   "source": [
    "# officers by department\n",
    "Medical = 200\n",
    "Engineering = 33\n",
    "Command = 500\n",
    "\n",
    "if Medical > Engineering and Command > Medical:\n",
    "    print(\"Both conditions are True\")"
   ]
  },
  {
   "cell_type": "markdown",
   "metadata": {},
   "source": [
    "### if OR"
   ]
  },
  {
   "cell_type": "code",
   "execution_count": 9,
   "metadata": {},
   "outputs": [
    {
     "name": "stdout",
     "output_type": "stream",
     "text": [
      "At least one of the conditions is True\n"
     ]
    }
   ],
   "source": [
    "if Medical > Engineering or Medical > Command:\n",
    "    print(\"At least one of the conditions is True\")"
   ]
  },
  {
   "cell_type": "markdown",
   "metadata": {},
   "source": [
    "### Nested if statements"
   ]
  },
  {
   "cell_type": "code",
   "execution_count": 10,
   "metadata": {},
   "outputs": [
    {
     "name": "stdout",
     "output_type": "stream",
     "text": [
      "Above ten,\n",
      "and also above 20!\n"
     ]
    }
   ],
   "source": [
    "latinum_bars = 41\n",
    "\n",
    "if latinum_bars > 10:\n",
    "    print(\"Above ten,\")\n",
    "    if latinum_bars > 20:\n",
    "        print(\"and also above 20!\")\n",
    "    else:\n",
    "        print(\"but not above 20.\")"
   ]
  },
  {
   "cell_type": "code",
   "execution_count": 13,
   "metadata": {},
   "outputs": [],
   "source": [
    "# most code exitors have auto complete, if statements auto complete with\n",
    "# the word pass is included\n",
    "bars = 9\n",
    "slips = 0.5\n",
    "\n",
    "if slips < bars:\n",
    "    # the condition gets evaluated but any execution gets ignored\n",
    "    pass "
   ]
  },
  {
   "cell_type": "code",
   "execution_count": null,
   "metadata": {},
   "outputs": [],
   "source": []
  }
 ],
 "metadata": {
  "kernelspec": {
   "display_name": "Python 3",
   "language": "python",
   "name": "python3"
  },
  "language_info": {
   "codemirror_mode": {
    "name": "ipython",
    "version": 3
   },
   "file_extension": ".py",
   "mimetype": "text/x-python",
   "name": "python",
   "nbconvert_exporter": "python",
   "pygments_lexer": "ipython3",
   "version": "3.8.3"
  }
 },
 "nbformat": 4,
 "nbformat_minor": 4
}
